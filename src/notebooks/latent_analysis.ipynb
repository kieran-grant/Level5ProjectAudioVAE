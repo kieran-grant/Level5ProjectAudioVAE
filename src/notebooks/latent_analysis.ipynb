{
 "cells": [
  {
   "cell_type": "code",
   "execution_count": 18,
   "metadata": {
    "collapsed": true
   },
   "outputs": [],
   "source": [
    "import torch\n",
    "import numpy as np\n",
    "import matplotlib.pyplot as plt\n",
    "\n",
    "from pedalboard.pedalboard import load_plugin\n",
    "\n",
    "from src.dataset.audio_dataset import AudioDataset\n",
    "from src.wrappers.dafx_wrapper import DAFXWrapper\n",
    "\n",
    "from src.models.linear_vae import LinearVAE"
   ]
  },
  {
   "cell_type": "code",
   "execution_count": 19,
   "outputs": [],
   "source": [
    "DAFX_TO_USE = [\n",
    "    'mda Overdrive',\n",
    "    'mda Delay'\n",
    "]"
   ],
   "metadata": {
    "collapsed": false
   }
  },
  {
   "cell_type": "code",
   "execution_count": 20,
   "outputs": [],
   "source": [
    "DAFX_FILE = \"/home/kieran/Level5ProjectAudioVAE/src/dafx/mda.vst3\"\n",
    "SAMPLE_RATE = 24_000\n",
    "AUDIO_DIR = \"/home/kieran/Level5ProjectAudioVAE/src/audio\"\n",
    "DATASETS = [\"vctk_24000\", \"musdb_24000\"]\n",
    "NUM_EXAMPLES = 2_000\n",
    "CHECKPOINT = \"/home/kieran/Level5ProjectAudioVAE/l5proj_linear_vae/hdi3m6da/checkpoints/epoch=94-step=59375.ckpt\""
   ],
   "metadata": {
    "collapsed": false
   }
  },
  {
   "cell_type": "code",
   "execution_count": 21,
   "outputs": [],
   "source": [
    "def dafx_from_name(dafx_name):\n",
    "    dafx = load_plugin(DAFX_FILE, plugin_name=dafx_name)\n",
    "    return DAFXWrapper(dafx=dafx, sample_rate=SAMPLE_RATE)"
   ],
   "metadata": {
    "collapsed": false
   }
  },
  {
   "cell_type": "code",
   "execution_count": 22,
   "outputs": [],
   "source": [
    "def get_dataset(dafx):\n",
    "    dataset = AudioDataset(\n",
    "                    dafx=dafx,\n",
    "                    audio_dir=AUDIO_DIR,\n",
    "                    subset=\"train\",\n",
    "                    input_dirs=DATASETS,\n",
    "                    num_examples_per_epoch=NUM_EXAMPLES,\n",
    "                    augmentations={},\n",
    "                    effect_audio=False,\n",
    "                    dummy_setting=True\n",
    "                )\n",
    "\n",
    "    return torch.utils.data.DataLoader(\n",
    "        dataset,\n",
    "        num_workers=4,\n",
    "        batch_size=1,\n",
    "        timeout=6000,\n",
    "    )"
   ],
   "metadata": {
    "collapsed": false
   }
  },
  {
   "cell_type": "code",
   "execution_count": 23,
   "outputs": [],
   "source": [
    "latent_embeddings = dict()"
   ],
   "metadata": {
    "collapsed": false
   }
  },
  {
   "cell_type": "code",
   "execution_count": 24,
   "outputs": [
    {
     "data": {
      "text/plain": "LinearVAE(\n  (encoder): Sequential(\n    (0): Linear(in_features=133185, out_features=1024, bias=True)\n    (1): LeakyReLU(negative_slope=0.01)\n    (2): Linear(in_features=1024, out_features=1024, bias=True)\n    (3): LeakyReLU(negative_slope=0.01)\n    (4): Linear(in_features=1024, out_features=1024, bias=True)\n    (5): LeakyReLU(negative_slope=0.01)\n  )\n  (mu): Linear(in_features=1024, out_features=1024, bias=True)\n  (sigma): Linear(in_features=1024, out_features=1024, bias=True)\n  (decoder): Sequential(\n    (0): Linear(in_features=1024, out_features=1024, bias=True)\n    (1): LeakyReLU(negative_slope=0.01)\n    (2): Linear(in_features=1024, out_features=1024, bias=True)\n    (3): LeakyReLU(negative_slope=0.01)\n    (4): Linear(in_features=1024, out_features=1024, bias=True)\n    (5): LeakyReLU(negative_slope=0.01)\n    (6): Linear(in_features=1024, out_features=133185, bias=True)\n  )\n)"
     },
     "execution_count": 24,
     "metadata": {},
     "output_type": "execute_result"
    }
   ],
   "source": [
    "model = LinearVAE.load_from_checkpoint(CHECKPOINT)\n",
    "model.eval()"
   ],
   "metadata": {
    "collapsed": false
   }
  },
  {
   "cell_type": "code",
   "execution_count": null,
   "outputs": [
    {
     "name": "stderr",
     "output_type": "stream",
     "text": [
      "100%|████████████████████████████████████████| 88/88 [00:00<00:00, 33887.14it/s]\n"
     ]
    },
    {
     "name": "stdout",
     "output_type": "stream",
     "text": [
      "\n",
      "Loaded 88 files for train = 66.89 hours.\n"
     ]
    },
    {
     "name": "stderr",
     "output_type": "stream",
     "text": [
      " 78%|███████▊  | 1567/2000 [01:33<00:24, 18.02it/s]"
     ]
    }
   ],
   "source": [
    "from tqdm import tqdm\n",
    "\n",
    "for fx in DAFX_TO_USE:\n",
    "    dafx = dafx_from_name(fx)\n",
    "    dataset = get_dataset(dafx)\n",
    "\n",
    "    embeddings = []\n",
    "\n",
    "    for x in tqdm(dataset):\n",
    "        x = torch.flatten(x, start_dim=1)\n",
    "        x_hat, _, _, z = model(x)\n",
    "        embeddings.append(z.detach().numpy())\n",
    "\n",
    "    latent_embeddings[fx] = np.array(embeddings)"
   ],
   "metadata": {
    "collapsed": false,
    "pycharm": {
     "is_executing": true
    }
   }
  },
  {
   "cell_type": "code",
   "execution_count": null,
   "outputs": [],
   "source": [
    "data = np.concatenate([v for v in latent_embeddings.values()]).squeeze()"
   ],
   "metadata": {
    "collapsed": false,
    "pycharm": {
     "is_executing": true
    }
   }
  },
  {
   "cell_type": "code",
   "execution_count": null,
   "outputs": [],
   "source": [
    "import umap"
   ],
   "metadata": {
    "collapsed": false,
    "pycharm": {
     "is_executing": true
    }
   }
  },
  {
   "cell_type": "code",
   "execution_count": null,
   "outputs": [],
   "source": [
    "reducer = umap.UMAP().fit(data)"
   ],
   "metadata": {
    "collapsed": false,
    "pycharm": {
     "is_executing": true
    }
   }
  },
  {
   "cell_type": "code",
   "execution_count": null,
   "outputs": [],
   "source": [
    "for fx, X in latent_embeddings.items():\n",
    "    embeds = reducer.transform(X.squeeze())\n",
    "    plt.scatter(x=embeds[:,0], y=embeds[:,1], label=fx, alpha=0.6, s=0.6)\n",
    "\n",
    "plt.gca().set_aspect('equal', 'datalim')\n",
    "plt.title(\"Latent embeddings - flattened spectrograms linear neural net\")\n",
    "\n",
    "lgnd = plt.legend()\n",
    "for i in range(len(latent_embeddings.keys())):\n",
    "    lgnd.legendHandles[i]._sizes = [30]\n",
    "\n",
    "plt.savefig(\"./figures/latent_spectrogram_embeddings.png\")"
   ],
   "metadata": {
    "collapsed": false,
    "pycharm": {
     "is_executing": true
    }
   }
  },
  {
   "cell_type": "code",
   "execution_count": null,
   "outputs": [],
   "source": [],
   "metadata": {
    "collapsed": false
   }
  }
 ],
 "metadata": {
  "kernelspec": {
   "display_name": "Python 3",
   "language": "python",
   "name": "python3"
  },
  "language_info": {
   "codemirror_mode": {
    "name": "ipython",
    "version": 2
   },
   "file_extension": ".py",
   "mimetype": "text/x-python",
   "name": "python",
   "nbconvert_exporter": "python",
   "pygments_lexer": "ipython2",
   "version": "2.7.6"
  }
 },
 "nbformat": 4,
 "nbformat_minor": 0
}
