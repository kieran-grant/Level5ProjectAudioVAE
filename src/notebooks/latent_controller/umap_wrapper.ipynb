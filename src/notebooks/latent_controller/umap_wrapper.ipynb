{
 "cells": [
  {
   "cell_type": "code",
   "execution_count": 23,
   "metadata": {
    "collapsed": true
   },
   "outputs": [],
   "source": [
    "import umap\n",
    "import numpy as np\n",
    "\n",
    "class UMAPModel:\n",
    "    def __init__(self, n_neighbors=15, min_dist=0.1):\n",
    "        self.umap_model = None\n",
    "        self.n_neighbors = n_neighbors\n",
    "        self.min_dist = min_dist\n",
    "\n",
    "    def fit(self, X):\n",
    "        # Fit a UMAP model to the input data\n",
    "        self.umap_model = umap.UMAP(n_neighbors=self.n_neighbors, min_dist=self.min_dist)\n",
    "        self.umap_model.fit(X)\n",
    "\n",
    "    def transform(self, X):\n",
    "        # Project new points onto the 2D latent space\n",
    "        if self.umap_model is not None:\n",
    "            return self.umap_model.transform(X)\n",
    "        else:\n",
    "            raise ValueError(\"UMAP model not initialized. Call fit() first.\")\n",
    "\n",
    "    def reverse_transform(self, Y):\n",
    "        # Map points from the 2D latent space back to the original 128D space\n",
    "        if self.umap_model is not None:\n",
    "            return self.umap_model.inverse_transform(Y)\n",
    "        else:\n",
    "            raise ValueError(\"UMAP model not initialized. Call fit() first.\")\n"
   ]
  },
  {
   "cell_type": "code",
   "execution_count": 24,
   "outputs": [],
   "source": [
    "latent_space = np.random.rand(100, 8)"
   ],
   "metadata": {
    "collapsed": false
   }
  },
  {
   "cell_type": "code",
   "execution_count": 25,
   "outputs": [],
   "source": [
    "umapper = UMAPModel()"
   ],
   "metadata": {
    "collapsed": false
   }
  },
  {
   "cell_type": "code",
   "execution_count": 26,
   "outputs": [],
   "source": [
    "umapper.fit(latent_space)"
   ],
   "metadata": {
    "collapsed": false
   }
  },
  {
   "cell_type": "code",
   "execution_count": 27,
   "outputs": [],
   "source": [
    "random_vec = np.random.rand(1, 8)"
   ],
   "metadata": {
    "collapsed": false
   }
  },
  {
   "cell_type": "code",
   "execution_count": 28,
   "outputs": [],
   "source": [
    "embedding = umapper.transform(random_vec)"
   ],
   "metadata": {
    "collapsed": false
   }
  },
  {
   "cell_type": "code",
   "execution_count": 29,
   "outputs": [],
   "source": [
    "inverse = umapper.reverse_transform(embedding)"
   ],
   "metadata": {
    "collapsed": false
   }
  },
  {
   "cell_type": "code",
   "execution_count": 30,
   "outputs": [
    {
     "data": {
      "text/plain": "(1, 8)"
     },
     "execution_count": 30,
     "metadata": {},
     "output_type": "execute_result"
    }
   ],
   "source": [
    "inverse.shape"
   ],
   "metadata": {
    "collapsed": false
   }
  },
  {
   "cell_type": "code",
   "execution_count": 31,
   "outputs": [
    {
     "data": {
      "text/plain": "(1, 8)"
     },
     "execution_count": 31,
     "metadata": {},
     "output_type": "execute_result"
    }
   ],
   "source": [
    "random_vec.shape"
   ],
   "metadata": {
    "collapsed": false
   }
  },
  {
   "cell_type": "code",
   "execution_count": 32,
   "outputs": [
    {
     "data": {
      "text/plain": "True"
     },
     "execution_count": 32,
     "metadata": {},
     "output_type": "execute_result"
    }
   ],
   "source": [
    "np.allclose(inverse, random_vec, atol=.8)"
   ],
   "metadata": {
    "collapsed": false
   }
  },
  {
   "cell_type": "code",
   "execution_count": 33,
   "outputs": [
    {
     "name": "stdout",
     "output_type": "stream",
     "text": [
      "[[0.4797351  0.11144287 0.71489721 0.07081483 0.59334856 0.69778806\n",
      "  0.18588996 0.24288225]]\n",
      "[[0.69606674 0.24897045 0.49031407 0.12620339 0.27919522 0.46984434\n",
      "  0.48226428 0.28736612]]\n"
     ]
    }
   ],
   "source": [
    "print(random_vec)\n",
    "print(inverse)"
   ],
   "metadata": {
    "collapsed": false
   }
  },
  {
   "cell_type": "code",
   "execution_count": 55,
   "outputs": [],
   "source": [
    "import numpy as np\n",
    "from umap import UMAP\n",
    "\n",
    "\n",
    "class UMAPWrapper:\n",
    "    def __init__(self, n_neighbors=15, min_dist=0.1, n_components=2, random_state=None):\n",
    "        self.umap = UMAP(n_neighbors=n_neighbors, min_dist=min_dist, n_components=n_components, random_state=random_state)\n",
    "        self.index_map = None\n",
    "        self.embedding_ = None\n",
    "\n",
    "    def fit_transform(self, X):\n",
    "        self.embedding_ = self.umap.fit_transform(X)\n",
    "        self.index_map = {i:X[i] for i in np.arange(X.shape[0])}\n",
    "        return self.embedding_\n",
    "\n",
    "    def inverse_transform(self):\n",
    "        if self.embedding_ is None:\n",
    "            raise ValueError(\"UMAPWrapper has not been fit yet\")\n",
    "        return self.umap.inverse_transform(self.embedding_)\n",
    "\n",
    "    def transform(self, X):\n",
    "        if self.embedding_ is None:\n",
    "            raise ValueError(\"UMAPWrapper has not been fit yet\")\n",
    "        return self.umap.transform(X)\n",
    "\n",
    "    def get_original_vector(self, index):\n",
    "        if self.index_map is None:\n",
    "            raise ValueError(\"UMAPWrapper has not been fit yet\")\n",
    "        return self.index_map[index]\n",
    "\n",
    "    def get_vector_from_embedding(self, embedding):\n",
    "        if self.index_map is None:\n",
    "            raise ValueError(\"UMAPWrapper has not been fit yet\")\n",
    "        dists = np.linalg.norm(self.embedding_ - embedding, axis=1)\n",
    "        index = np.argmin(dists)\n",
    "        return index, self.embedding_[index], self.index_map[index]\n"
   ],
   "metadata": {
    "collapsed": false
   }
  },
  {
   "cell_type": "code",
   "execution_count": 56,
   "outputs": [],
   "source": [
    "umap_wrapper = UMAPWrapper()"
   ],
   "metadata": {
    "collapsed": false
   }
  },
  {
   "cell_type": "code",
   "execution_count": 57,
   "outputs": [
    {
     "data": {
      "text/plain": "array([[2.1704125 , 5.87141   ],\n       [0.6727694 , 5.859256  ],\n       [2.7765727 , 3.6924806 ],\n       [3.2505517 , 3.5533834 ],\n       [1.7328081 , 5.3222904 ],\n       [5.0537004 , 6.273857  ],\n       [1.2288592 , 6.8608766 ],\n       [2.0472836 , 5.1473317 ],\n       [2.5902667 , 7.2860103 ],\n       [2.101192  , 4.1712694 ],\n       [1.8941754 , 6.4707294 ],\n       [2.2534497 , 3.9728942 ],\n       [1.4951508 , 5.0140705 ],\n       [1.6394484 , 6.73142   ],\n       [1.9728084 , 7.1558995 ],\n       [2.6985154 , 6.5972548 ],\n       [2.3424666 , 6.0553966 ],\n       [3.3605783 , 6.853383  ],\n       [4.2480083 , 7.5495744 ],\n       [3.9663868 , 3.650904  ],\n       [3.5873086 , 3.6235406 ],\n       [3.5373967 , 7.7228045 ],\n       [0.9750319 , 6.733413  ],\n       [3.1375666 , 5.346933  ],\n       [3.2241592 , 7.3273497 ],\n       [2.2926    , 4.829034  ],\n       [4.4211445 , 6.062355  ],\n       [2.9910848 , 3.3319569 ],\n       [5.30639   , 4.6951847 ],\n       [3.8653345 , 4.6063294 ],\n       [1.1189864 , 7.3397574 ],\n       [3.189445  , 5.1619015 ],\n       [2.8138313 , 5.022104  ],\n       [1.5622317 , 5.6180563 ],\n       [2.9203382 , 3.54349   ],\n       [1.5402465 , 4.753666  ],\n       [5.1170754 , 4.8153715 ],\n       [4.804604  , 4.7021923 ],\n       [3.511647  , 3.2911792 ],\n       [5.674811  , 5.94847   ],\n       [4.6060233 , 5.3259377 ],\n       [4.9051466 , 6.7594543 ],\n       [4.2947264 , 3.9298925 ],\n       [5.443183  , 5.5004506 ],\n       [3.693263  , 7.3643765 ],\n       [3.4610436 , 7.11567   ],\n       [5.293992  , 6.2171917 ],\n       [2.213356  , 7.078411  ],\n       [2.020756  , 4.3340864 ],\n       [4.5294595 , 7.187704  ],\n       [4.976983  , 6.9973264 ],\n       [4.258582  , 5.0173726 ],\n       [1.7912116 , 7.577521  ],\n       [4.236118  , 4.685177  ],\n       [2.6618311 , 3.9231062 ],\n       [2.7334154 , 3.3390257 ],\n       [4.3495283 , 7.4292936 ],\n       [5.207316  , 6.5560617 ],\n       [5.0506024 , 6.4883566 ],\n       [2.5136883 , 5.3092947 ],\n       [4.046686  , 6.3880525 ],\n       [2.628701  , 5.6094165 ],\n       [2.6044867 , 3.576894  ],\n       [0.82836044, 6.1912274 ],\n       [1.0407785 , 6.093224  ],\n       [3.4449158 , 5.488236  ],\n       [5.56142   , 5.747779  ],\n       [3.348022  , 3.889596  ],\n       [5.063998  , 5.808062  ],\n       [1.0943809 , 7.170138  ],\n       [1.6791748 , 4.978519  ],\n       [3.9200733 , 7.422384  ],\n       [3.5630379 , 6.070664  ],\n       [2.6058552 , 4.471432  ],\n       [1.7417715 , 6.8856697 ],\n       [4.5405974 , 5.8392024 ],\n       [4.776124  , 5.550962  ],\n       [1.4312665 , 5.620965  ],\n       [4.442609  , 6.111204  ],\n       [1.866739  , 4.451352  ],\n       [1.4265482 , 7.564299  ],\n       [1.8577706 , 7.413261  ],\n       [4.393991  , 6.8218203 ],\n       [4.0704775 , 3.7449124 ],\n       [1.6411839 , 6.470522  ],\n       [2.3802161 , 6.8441296 ],\n       [4.917467  , 4.9519415 ],\n       [1.8754585 , 6.115195  ],\n       [3.3172288 , 6.5475945 ],\n       [3.5322168 , 6.5562634 ],\n       [4.0836067 , 5.56318   ],\n       [5.262178  , 6.0694146 ],\n       [3.9689295 , 7.64388   ],\n       [0.94085056, 5.6110044 ],\n       [2.9863958 , 7.020933  ],\n       [3.155978  , 5.7667317 ],\n       [3.0283027 , 6.099044  ],\n       [1.1506399 , 7.034339  ],\n       [4.369347  , 7.214487  ],\n       [4.3475204 , 6.311145  ]], dtype=float32)"
     },
     "execution_count": 57,
     "metadata": {},
     "output_type": "execute_result"
    }
   ],
   "source": [
    "umap_wrapper.fit_transform(latent_space)"
   ],
   "metadata": {
    "collapsed": false
   }
  },
  {
   "cell_type": "code",
   "execution_count": 58,
   "outputs": [
    {
     "data": {
      "text/plain": "array([0.7619319 , 0.44991535, 0.54017935, 0.01770059, 0.51626347,\n       0.75899629, 0.40786152, 0.62512568])"
     },
     "execution_count": 58,
     "metadata": {},
     "output_type": "execute_result"
    }
   ],
   "source": [
    "umap_wrapper.get_original_vector(5)"
   ],
   "metadata": {
    "collapsed": false
   }
  },
  {
   "cell_type": "code",
   "execution_count": 60,
   "outputs": [
    {
     "data": {
      "text/plain": "(0,\n array([2.1704125, 5.87141  ], dtype=float32),\n array([0.60052374, 0.87028757, 0.50094329, 0.3488188 , 0.89264969,\n        0.41704913, 0.92565311, 0.99018395]))"
     },
     "execution_count": 60,
     "metadata": {},
     "output_type": "execute_result"
    }
   ],
   "source": [
    "umap_wrapper.get_vector_from_embedding(np.array([2.1704125 , 5.87141   ]))"
   ],
   "metadata": {
    "collapsed": false
   }
  },
  {
   "cell_type": "code",
   "execution_count": null,
   "outputs": [],
   "source": [],
   "metadata": {
    "collapsed": false
   }
  }
 ],
 "metadata": {
  "kernelspec": {
   "display_name": "Python 3",
   "language": "python",
   "name": "python3"
  },
  "language_info": {
   "codemirror_mode": {
    "name": "ipython",
    "version": 2
   },
   "file_extension": ".py",
   "mimetype": "text/x-python",
   "name": "python",
   "nbconvert_exporter": "python",
   "pygments_lexer": "ipython2",
   "version": "2.7.6"
  }
 },
 "nbformat": 4,
 "nbformat_minor": 0
}
