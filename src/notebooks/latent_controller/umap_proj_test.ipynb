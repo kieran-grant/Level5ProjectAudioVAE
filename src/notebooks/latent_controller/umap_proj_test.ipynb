{
 "cells": [
  {
   "cell_type": "code",
   "execution_count": 134,
   "metadata": {},
   "outputs": [],
   "source": [
    "import pandas as pd\n",
    "import numpy as np\n",
    "import torch\n",
    "import os\n",
    "import umap\n",
    "\n",
    "from tqdm import tqdm\n",
    "from functools import reduce"
   ]
  },
  {
   "cell_type": "code",
   "execution_count": 135,
   "metadata": {},
   "outputs": [],
   "source": [
    "DATA_FOLDER = \"./data/\"\n",
    "CHECKPOINT_ID = \"TEST\"\n",
    "DIR = os.path.join(DATA_FOLDER, CHECKPOINT_ID)\n",
    "N = 20"
   ]
  },
  {
   "cell_type": "code",
   "execution_count": 136,
   "metadata": {},
   "outputs": [],
   "source": [
    "def get_top_n_indices(df, column_name, n):\n",
    "    return np.argsort(-df[column_name].values)[:n]"
   ]
  },
  {
   "cell_type": "code",
   "execution_count": 137,
   "metadata": {},
   "outputs": [],
   "source": [
    "def get_bottom_n_indices(df, column_name, n):\n",
    "    return np.argsort(df[column_name].values)[:n]"
   ]
  },
  {
   "cell_type": "code",
   "execution_count": 138,
   "metadata": {},
   "outputs": [],
   "source": [
    "metadata = pd.read_csv(os.path.join(DIR, \"metadata.csv\"))"
   ]
  },
  {
   "cell_type": "code",
   "execution_count": 139,
   "metadata": {},
   "outputs": [],
   "source": [
    "def common_elements(*arrays):\n",
    "    sets = [set(array) for array in arrays]\n",
    "    common = set()\n",
    "    for i in range(len(arrays)):\n",
    "        for j in range(i+1, len(arrays)):\n",
    "            common |= sets[i] & sets[j]\n",
    "    return list(common)"
   ]
  },
  {
   "cell_type": "code",
   "execution_count": 144,
   "metadata": {},
   "outputs": [],
   "source": [
    "def get_supervised_feature_ids(df, n, tolerance = 1_000):\n",
    "    duplicates = []\n",
    "    iterations = 1\n",
    "    \n",
    "    def retrieve_ids(current_df, idx):\n",
    "        return current_df['id'].values[idx]\n",
    "        \n",
    "    while True:\n",
    "        current_df = df[~df['id'].isin(duplicates)]\n",
    "        \n",
    "        top_bright_idx = get_top_n_indices(current_df, 'brightness_diff', n)\n",
    "        top_bright = retrieve_ids(current_df, top_bright_idx)\n",
    "        \n",
    "        bottom_bright_idx = get_bottom_n_indices(current_df, 'brightness_diff', n)\n",
    "        bottom_bright = retrieve_ids(current_df, bottom_bright_idx)\n",
    "        \n",
    "        top_depth_idx = get_top_n_indices(current_df, 'depth_diff', n)\n",
    "        top_depth = retrieve_ids(current_df, top_depth_idx)\n",
    "        \n",
    "        bottom_depth_idx = get_bottom_n_indices(current_df, 'depth_diff', n)\n",
    "        bottom_depth = retrieve_ids(current_df, bottom_depth_idx)\n",
    "        \n",
    "        intersection = common_elements(top_bright,bottom_bright,top_depth,bottom_depth)\n",
    "        \n",
    "        if len(intersection) == 0:\n",
    "            print(f\"Found top {n} features in {iterations} iteration(s)!\")\n",
    "            return top_bright, bottom_bright, top_depth, bottom_depth\n",
    "        \n",
    "        duplicates.extend(intersection)\n",
    "        \n",
    "        iterations += 1\n",
    "        \n",
    "        if iterations >= tolerance:\n",
    "            print(f\"Iterations surpassed tolerance of {tolerance}, no IDs returned\")\n",
    "            return None, None, None, None"
   ]
  },
  {
   "cell_type": "code",
   "execution_count": 145,
   "metadata": {},
   "outputs": [
    {
     "name": "stdout",
     "output_type": "stream",
     "text": [
      "Found top 20 features in 2 iteration(s)!\n"
     ]
    }
   ],
   "source": [
    "b_t, b_b, d_t, d_b = get_supervised_feature_ids(metadata, N)"
   ]
  },
  {
   "cell_type": "code",
   "execution_count": 146,
   "metadata": {},
   "outputs": [],
   "source": [
    "# give labels to columns\n",
    "metadata['class'] = 'NA'\n",
    "\n",
    "metadata.loc[metadata['id'].isin(b_t), 'class'] = 'bright'\n",
    "metadata.loc[metadata['id'].isin(b_b), 'class'] = 'not_bright'\n",
    "metadata.loc[metadata['id'].isin(d_t), 'class'] = 'deep'\n",
    "metadata.loc[metadata['id'].isin(d_b), 'class'] = 'not_deep'"
   ]
  },
  {
   "cell_type": "code",
   "execution_count": 147,
   "metadata": {},
   "outputs": [
    {
     "data": {
      "text/plain": [
       "NA            920\n",
       "bright         20\n",
       "deep           20\n",
       "not_bright     20\n",
       "not_deep       20\n",
       "Name: class, dtype: int64"
      ]
     },
     "execution_count": 147,
     "metadata": {},
     "output_type": "execute_result"
    }
   ],
   "source": [
    "metadata['class'].value_counts()"
   ]
  },
  {
   "cell_type": "code",
   "execution_count": null,
   "metadata": {},
   "outputs": [],
   "source": []
  }
 ],
 "metadata": {
  "kernelspec": {
   "display_name": "Python 3 (ipykernel)",
   "language": "python",
   "name": "python3"
  },
  "language_info": {
   "codemirror_mode": {
    "name": "ipython",
    "version": 3
   },
   "file_extension": ".py",
   "mimetype": "text/x-python",
   "name": "python",
   "nbconvert_exporter": "python",
   "pygments_lexer": "ipython3",
   "version": "3.10.6"
  }
 },
 "nbformat": 4,
 "nbformat_minor": 4
}
