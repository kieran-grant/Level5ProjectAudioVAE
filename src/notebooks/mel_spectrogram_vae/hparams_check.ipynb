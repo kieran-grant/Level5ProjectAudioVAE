{
 "cells": [
  {
   "cell_type": "code",
   "execution_count": 3,
   "metadata": {
    "collapsed": true
   },
   "outputs": [],
   "source": [
    "from src.models.mel_spectrogram_vae import MelSpectrogramVAE"
   ]
  },
  {
   "cell_type": "code",
   "execution_count": 18,
   "outputs": [],
   "source": [
    "PARAMS = [\n",
    "    'lr',\n",
    "    'latent_dim',\n",
    "    'annealing_type',\n",
    "    'min_beta',\n",
    "    'max_beta',\n",
    "    'beta_start_epoch',\n",
    "    'beta_end_epoch',\n",
    "    'beta_cycle_length',\n",
    "    'dafx_names',\n",
    "    'n_mels',\n",
    "    'f_max',\n",
    "    'f_min',\n",
    "    'win_length',\n",
    "    'n_fft',\n",
    "    'hop_length',\n",
    "    'window_size',\n",
    "    'max_epochs'\n",
    "]"
   ],
   "metadata": {
    "collapsed": false
   }
  },
  {
   "cell_type": "code",
   "execution_count": 21,
   "outputs": [],
   "source": [
    "CHECKPOINT_A = \"/home/kieran/Level5ProjectAudioVAE/src/l5proj_melspec_vae/u3atjd8a/checkpoints/epoch=67-step=14212.ckpt\"\n",
    "model_a = MelSpectrogramVAE.load_from_checkpoint(CHECKPOINT_A)"
   ],
   "metadata": {
    "collapsed": false
   }
  },
  {
   "cell_type": "code",
   "execution_count": 22,
   "outputs": [
    {
     "name": "stdout",
     "output_type": "stream",
     "text": [
      "lr                   0.0005\n",
      "latent_dim           64\n",
      "annealing_type       cyclic\n",
      "min_beta             0.0001\n",
      "max_beta             0.005\n",
      "beta_start_epoch     0\n",
      "beta_end_epoch       300\n",
      "beta_cycle_length    17\n",
      "dafx_names           ['mda Delay', 'mda Overdrive', 'mda Ambience', 'mda RingMod', 'mda Combo', 'mda Dynamics']\n",
      "n_mels               128\n",
      "f_max                None\n",
      "f_min                None\n",
      "win_length           None\n",
      "n_fft                None\n",
      "hop_length           None\n",
      "window_size          None\n",
      "max_epochs           None\n"
     ]
    }
   ],
   "source": [
    "for param in PARAMS:\n",
    "    print(f\"{param.ljust(20)} {model_a.hparams.get(param)}\")"
   ],
   "metadata": {
    "collapsed": false
   }
  },
  {
   "cell_type": "code",
   "execution_count": 25,
   "outputs": [],
   "source": [
    "CHECKPOINT_B = \"/home/kieran/Level5ProjectAudioVAE/src/l5proj_melspec_vae/goxs7y3y/checkpoints/epoch=153-step=32186.ckpt\"\n",
    "model_b = MelSpectrogramVAE.load_from_checkpoint(CHECKPOINT_B)"
   ],
   "metadata": {
    "collapsed": false
   }
  },
  {
   "cell_type": "code",
   "execution_count": 26,
   "outputs": [
    {
     "name": "stdout",
     "output_type": "stream",
     "text": [
      "lr                   0.0005\n",
      "latent_dim           128\n",
      "annealing_type       cyclic\n",
      "min_beta             0.0\n",
      "max_beta             0.00025\n",
      "beta_start_epoch     0\n",
      "beta_end_epoch       200\n",
      "beta_cycle_length    17\n",
      "dafx_names           ['mda Delay', 'mda Overdrive', 'mda RingMod', 'mda Dynamics']\n",
      "n_mels               256\n",
      "f_max                12000\n",
      "f_min                20\n",
      "win_length           1024\n",
      "n_fft                4096\n",
      "hop_length           None\n",
      "window_size          None\n",
      "max_epochs           None\n"
     ]
    }
   ],
   "source": [
    "for param in PARAMS:\n",
    "    print(f\"{param.ljust(20)} {model_b.hparams.get(param)}\")"
   ],
   "metadata": {
    "collapsed": false
   }
  },
  {
   "cell_type": "markdown",
   "source": [
    "## Compare models"
   ],
   "metadata": {
    "collapsed": false
   }
  },
  {
   "cell_type": "code",
   "execution_count": 28,
   "outputs": [],
   "source": [
    "matching = {}\n",
    "non_matching = {}\n",
    "\n",
    "for param in PARAMS:\n",
    "    if model_a.hparams.get(param) == model_b.hparams.get(param):\n",
    "        matching[param] =  model_b.hparams.get(param)\n",
    "    else:\n",
    "        if param == 'dafx_names':\n",
    "            a = set(model_a.hparams['dafx_names'])\n",
    "            b = set(model_b.hparams['dafx_names'])\n",
    "\n",
    "            a_diff_b = list(a.difference(b))\n",
    "            b_diff_a = list(b.difference(a))\n",
    "\n",
    "            non_matching['dafx_names'] = (a_diff_b, b_diff_a)\n",
    "\n",
    "        else:\n",
    "            non_matching[param] = (model_a.hparams.get(param), model_b.hparams.get(param))"
   ],
   "metadata": {
    "collapsed": false
   }
  },
  {
   "cell_type": "code",
   "execution_count": 29,
   "outputs": [
    {
     "name": "stdout",
     "output_type": "stream",
     "text": [
      "Matching params\n",
      "--------------------\n",
      "lr                   0.0005              \n",
      "annealing_type       cyclic              \n",
      "beta_start_epoch     0                   \n",
      "beta_cycle_length    17                  \n",
      "hop_length           None                \n",
      "window_size          None                \n",
      "max_epochs           None                \n"
     ]
    }
   ],
   "source": [
    "print(\"Matching params\")\n",
    "print(\"-\"*20)\n",
    "for k, v in matching.items():\n",
    "    print(f\"{str(k).ljust(20)} {str(v).ljust(20)}\")"
   ],
   "metadata": {
    "collapsed": false
   }
  },
  {
   "cell_type": "code",
   "execution_count": 30,
   "outputs": [
    {
     "name": "stdout",
     "output_type": "stream",
     "text": [
      "Non-Matching params\n",
      "--------------------\n",
      "latent_dim           A: 64                   B: 128                 \n",
      "min_beta             A: 0.0001               B: 0.0                 \n",
      "max_beta             A: 0.005                B: 0.00025             \n",
      "beta_end_epoch       A: 300                  B: 200                 \n",
      "dafx_names           A: ['mda Ambience', 'mda Combo'] B: []                  \n",
      "n_mels               A: 128                  B: 256                 \n",
      "f_max                A: None                 B: 12000               \n",
      "f_min                A: None                 B: 20                  \n",
      "win_length           A: None                 B: 1024                \n",
      "n_fft                A: None                 B: 4096                \n"
     ]
    }
   ],
   "source": [
    "print(\"Non-Matching params\")\n",
    "print(\"-\"*20)\n",
    "for k, v in non_matching.items():\n",
    "    print(f\"{str(k).ljust(20)} A: {str(v[0]).ljust(20)} B: {str(v[1]).ljust(20)}\")"
   ],
   "metadata": {
    "collapsed": false
   }
  },
  {
   "cell_type": "code",
   "execution_count": null,
   "outputs": [],
   "source": [],
   "metadata": {
    "collapsed": false
   }
  }
 ],
 "metadata": {
  "kernelspec": {
   "display_name": "Python 3",
   "language": "python",
   "name": "python3"
  },
  "language_info": {
   "codemirror_mode": {
    "name": "ipython",
    "version": 2
   },
   "file_extension": ".py",
   "mimetype": "text/x-python",
   "name": "python",
   "nbconvert_exporter": "python",
   "pygments_lexer": "ipython2",
   "version": "2.7.6"
  }
 },
 "nbformat": 4,
 "nbformat_minor": 0
}
