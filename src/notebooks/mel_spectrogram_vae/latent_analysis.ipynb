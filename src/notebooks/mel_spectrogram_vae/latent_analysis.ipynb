{
 "cells": [
  {
   "cell_type": "code",
   "execution_count": 19,
   "metadata": {
    "collapsed": true
   },
   "outputs": [],
   "source": [
    "import torch\n",
    "import umap\n",
    "import numpy as np\n",
    "import matplotlib.pyplot as plt\n",
    "\n",
    "from pedalboard.pedalboard import load_plugin\n",
    "from sklearn.preprocessing import LabelEncoder\n",
    "\n",
    "from src.dataset.audio_dataset import AudioDataset\n",
    "from src.wrappers.dafx_wrapper import DAFXWrapper\n",
    "\n",
    "from src.models.mel_spectrogram_vae import MelSpectrogramVAE\n",
    "from src.utils import audio_to_mel_spectrogram\n",
    "\n",
    "import seaborn as sns\n",
    "sns.set(style='white', context='poster')"
   ]
  },
  {
   "cell_type": "code",
   "execution_count": 33,
   "outputs": [],
   "source": [
    "DAFX_TO_USE = [\n",
    "    'mda MultiBand',\n",
    "    # 'clean',\n",
    "    'mda Delay',\n",
    "    'mda Overdrive',\n",
    "    # 'mda Ambience',\n",
    "    'mda RingMod',\n",
    "    # 'mda Leslie',\n",
    "    # 'mda Combo',\n",
    "    'mda Thru-Zero Flanger',\n",
    "    # 'mda Loudness',\n",
    "    # 'mda Limiter',\n",
    "    # 'mda Dynamics',\n",
    "]"
   ],
   "metadata": {
    "collapsed": false
   }
  },
  {
   "cell_type": "code",
   "execution_count": 34,
   "outputs": [],
   "source": [
    "DAFX_FILE = \"/home/kieran/Level5ProjectAudioVAE/src/dafx/mda.vst3\"\n",
    "SAMPLE_RATE = 24_000\n",
    "AUDIO_DIR = \"/home/kieran/Level5ProjectAudioVAE/src/audio\"\n",
    "DATASETS = [\"vctk_24000\"]\n",
    "NUM_EXAMPLES = 5_000\n",
    "CHECKPOINT = \"/home/kieran/Level5ProjectAudioVAE/src/l5proj_melspec_vae/goxs7y3y/checkpoints/epoch=153-step=32186.ckpt\"\n",
    "CHECKPOINT_ID = CHECKPOINT.split(\"/\")[-3]\n",
    "DEVICE = 'cuda' if torch.cuda.is_available() else 'cpu'"
   ],
   "metadata": {
    "collapsed": false
   }
  },
  {
   "cell_type": "code",
   "execution_count": 35,
   "outputs": [],
   "source": [
    "def dafx_from_name(dafx_name):\n",
    "    dafx = load_plugin(DAFX_FILE, plugin_name=dafx_name)\n",
    "    return DAFXWrapper(dafx=dafx, sample_rate=SAMPLE_RATE)"
   ],
   "metadata": {
    "collapsed": false
   }
  },
  {
   "cell_type": "code",
   "execution_count": 36,
   "outputs": [],
   "source": [
    "def get_dataset(dafx):\n",
    "    dataset = AudioDataset(\n",
    "        dafx=dafx,\n",
    "        audio_dir=AUDIO_DIR,\n",
    "        subset=\"train\",\n",
    "        input_dirs=DATASETS,\n",
    "        num_examples_per_epoch=NUM_EXAMPLES,\n",
    "        augmentations={},\n",
    "        length=130_560,\n",
    "        effect_audio=True,\n",
    "        dummy_setting=True\n",
    "    )\n",
    "\n",
    "    return torch.utils.data.DataLoader(\n",
    "        dataset,\n",
    "        num_workers=4,\n",
    "        batch_size=1,\n",
    "        timeout=6000,\n",
    "    )"
   ],
   "metadata": {
    "collapsed": false
   }
  },
  {
   "cell_type": "code",
   "execution_count": 37,
   "outputs": [],
   "source": [
    "latent_embeddings = dict()"
   ],
   "metadata": {
    "collapsed": false
   }
  },
  {
   "cell_type": "code",
   "execution_count": 38,
   "outputs": [],
   "source": [
    "model = MelSpectrogramVAE.load_from_checkpoint(CHECKPOINT).to(DEVICE)\n",
    "model.eval()"
   ],
   "metadata": {
    "collapsed": false
   }
  },
  {
   "cell_type": "code",
   "execution_count": 39,
   "outputs": [],
   "source": [
    "from tqdm import tqdm\n",
    "\n",
    "embeddings = []\n",
    "\n",
    "for fx in DAFX_TO_USE:\n",
    "    dafx = dafx_from_name(fx)\n",
    "    dataset = get_dataset(dafx)\n",
    "\n",
    "    for x in tqdm(dataset):\n",
    "        X = audio_to_mel_spectrogram(signal=x,\n",
    "                                     sample_rate=model.hparams.sample_rate,\n",
    "                                     n_mels=model.hparams.n_mels,\n",
    "                                     n_fft=model.hparams.n_fft,\n",
    "                                     win_length=model.hparams.win_length,\n",
    "                                     f_max=model.hparams.f_max,\n",
    "                                     f_min=model.hparams.f_min).to(DEVICE)\n",
    "\n",
    "\n",
    "\n",
    "        _, _, _, z = model(X)\n",
    "\n",
    "        embeddings.append(z.cpu().detach().numpy())"
   ],
   "metadata": {
    "collapsed": false
   }
  },
  {
   "cell_type": "code",
   "execution_count": null,
   "outputs": [],
   "source": [
    "data = np.array(embeddings).squeeze()"
   ],
   "metadata": {
    "collapsed": false
   }
  },
  {
   "cell_type": "code",
   "execution_count": null,
   "outputs": [],
   "source": [
    "data.shape"
   ],
   "metadata": {
    "collapsed": false
   }
  },
  {
   "cell_type": "code",
   "execution_count": null,
   "outputs": [],
   "source": [
    "umap_data = umap.UMAP().fit_transform(data)\n",
    "umap_labels = np.concatenate([[fx]*NUM_EXAMPLES for fx in DAFX_TO_USE]).squeeze()"
   ],
   "metadata": {
    "collapsed": false
   }
  },
  {
   "cell_type": "code",
   "execution_count": null,
   "outputs": [],
   "source": [
    "plot_labels = LabelEncoder().fit_transform(umap_labels)"
   ],
   "metadata": {
    "collapsed": false
   }
  },
  {
   "cell_type": "code",
   "execution_count": null,
   "outputs": [],
   "source": [
    "num_fx = len(DAFX_TO_USE)"
   ],
   "metadata": {
    "collapsed": false
   }
  },
  {
   "cell_type": "code",
   "execution_count": null,
   "outputs": [],
   "source": [
    "fig, ax = plt.subplots(1, figsize=(14, 10))\n",
    "\n",
    "plt.scatter(*umap_data.T, s=3, c=plot_labels, cmap='Spectral', alpha=.6)\n",
    "plt.setp(ax, xticks=[], yticks=[])\n",
    "cbar = plt.colorbar(boundaries=np.arange(num_fx+1)-0.5)\n",
    "cbar.set_ticks(np.arange(num_fx))\n",
    "cbar.set_ticklabels([fx_name.split()[-1] for fx_name in DAFX_TO_USE])\n",
    "plt.title(f'Spectrogram VAE latent embeddings')\n",
    "plt.tight_layout()\n",
    "plt.savefig(f'./figures/latent_analysis/{CHECKPOINT_ID}_{num_fx}dafx.png')"
   ],
   "metadata": {
    "collapsed": false
   }
  },
  {
   "cell_type": "code",
   "execution_count": 32,
   "outputs": [],
   "source": [],
   "metadata": {
    "collapsed": false
   }
  },
  {
   "cell_type": "code",
   "execution_count": 14,
   "outputs": [],
   "source": [],
   "metadata": {
    "collapsed": false
   }
  }
 ],
 "metadata": {
  "kernelspec": {
   "display_name": "Python 3",
   "language": "python",
   "name": "python3"
  },
  "language_info": {
   "codemirror_mode": {
    "name": "ipython",
    "version": 2
   },
   "file_extension": ".py",
   "mimetype": "text/x-python",
   "name": "python",
   "nbconvert_exporter": "python",
   "pygments_lexer": "ipython2",
   "version": "2.7.6"
  }
 },
 "nbformat": 4,
 "nbformat_minor": 0
}
