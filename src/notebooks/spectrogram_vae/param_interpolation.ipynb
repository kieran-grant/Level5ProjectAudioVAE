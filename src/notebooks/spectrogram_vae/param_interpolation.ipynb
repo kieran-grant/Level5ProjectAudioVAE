{
 "cells": [
  {
   "cell_type": "code",
   "execution_count": 1,
   "metadata": {
    "collapsed": true
   },
   "outputs": [],
   "source": [
    "import umap\n",
    "import numpy as np\n",
    "import matplotlib.pyplot as plt\n",
    "import seaborn as sns\n",
    "\n",
    "from tqdm import tqdm\n",
    "from src.models.spectrogram_vae import SpectrogramVAE\n",
    "from src.utils import audio_to_spectrogram\n",
    "from src.plot_utils import *"
   ]
  },
  {
   "cell_type": "code",
   "execution_count": 2,
   "outputs": [],
   "source": [
    "sns.set(style='white')"
   ],
   "metadata": {
    "collapsed": false
   }
  },
  {
   "cell_type": "code",
   "execution_count": 3,
   "outputs": [],
   "source": [
    "DAFX_NAME = \"mda Overdrive\"\n",
    "NUM_EXAMPLES_PER_SETTING = 200\n",
    "NUM_SETTINGS = 10\n",
    "CHECKPOINT = \"/home/kieran/Level5ProjectAudioVAE/src/l5proj_spectrogram_vae/hdx3y4ly/checkpoints/epoch=169-step=35530.ckpt\"\n",
    "CHECKPOINT_ID = CHECKPOINT.split(\"/\")[-3]"
   ],
   "metadata": {
    "collapsed": false
   }
  },
  {
   "cell_type": "code",
   "execution_count": 4,
   "outputs": [],
   "source": [
    "DEVICE = 'cuda' if torch.cuda.is_available() else 'cpu'"
   ],
   "metadata": {
    "collapsed": false
   }
  },
  {
   "cell_type": "code",
   "execution_count": 5,
   "outputs": [],
   "source": [
    "dafx = dafx_from_name(DAFX_NAME)"
   ],
   "metadata": {
    "collapsed": false
   }
  },
  {
   "cell_type": "code",
   "execution_count": 6,
   "outputs": [],
   "source": [
    "def get_interpolated_settings(dafx, setting_idx, num_samples=100):\n",
    "    num_settings = len(dafx.param_names)\n",
    "\n",
    "    assert(setting_idx <= num_settings)\n",
    "\n",
    "    settings = []\n",
    "    for i in np.linspace(0,1, num_samples):\n",
    "        s = torch.ones(num_settings) * 0.5\n",
    "        s[setting_idx] = i\n",
    "        settings.append(s)\n",
    "\n",
    "    return settings"
   ],
   "metadata": {
    "collapsed": false
   }
  },
  {
   "cell_type": "code",
   "execution_count": 7,
   "outputs": [],
   "source": [
    "settings_to_apply = get_interpolated_settings(dafx, 1, 10)"
   ],
   "metadata": {
    "collapsed": false
   }
  },
  {
   "cell_type": "code",
   "execution_count": 8,
   "outputs": [
    {
     "data": {
      "text/plain": "[tensor([0.5000, 0.0000, 0.5000]),\n tensor([0.5000, 0.1111, 0.5000]),\n tensor([0.5000, 0.2222, 0.5000]),\n tensor([0.5000, 0.3333, 0.5000]),\n tensor([0.5000, 0.4444, 0.5000]),\n tensor([0.5000, 0.5556, 0.5000]),\n tensor([0.5000, 0.6667, 0.5000]),\n tensor([0.5000, 0.7778, 0.5000]),\n tensor([0.5000, 0.8889, 0.5000]),\n tensor([0.5000, 1.0000, 0.5000])]"
     },
     "execution_count": 8,
     "metadata": {},
     "output_type": "execute_result"
    }
   ],
   "source": [
    "settings_to_apply"
   ],
   "metadata": {
    "collapsed": false
   }
  },
  {
   "cell_type": "code",
   "execution_count": 9,
   "outputs": [
    {
     "data": {
      "text/plain": "SpectrogramVAE(\n  (encoder_conv): Sequential(\n    (0): Sequential(\n      (0): Conv2d(1, 8, kernel_size=(3, 3), stride=(2, 2), padding=(1, 1))\n      (1): ReLU()\n      (2): BatchNorm2d(8, eps=1e-05, momentum=0.1, affine=True, track_running_stats=True)\n    )\n    (1): Sequential(\n      (0): Conv2d(8, 16, kernel_size=(3, 3), stride=(2, 2), padding=(1, 1))\n      (1): ReLU()\n      (2): BatchNorm2d(16, eps=1e-05, momentum=0.1, affine=True, track_running_stats=True)\n    )\n    (2): Sequential(\n      (0): Conv2d(16, 32, kernel_size=(3, 3), stride=(2, 2), padding=(1, 1))\n      (1): ReLU()\n      (2): BatchNorm2d(32, eps=1e-05, momentum=0.1, affine=True, track_running_stats=True)\n    )\n    (3): Sequential(\n      (0): Conv2d(32, 32, kernel_size=(3, 3), stride=(2, 2), padding=(1, 1))\n      (1): ReLU()\n      (2): BatchNorm2d(32, eps=1e-05, momentum=0.1, affine=True, track_running_stats=True)\n    )\n  )\n  (mu): Linear(in_features=37152, out_features=128, bias=True)\n  (log_var): Linear(in_features=37152, out_features=128, bias=True)\n  (decoder_linear): Sequential(\n    (0): Linear(in_features=128, out_features=37152, bias=True)\n    (1): ReLU()\n  )\n  (decoder_conv): Sequential(\n    (0): Sequential(\n      (0): ConvTranspose2d(32, 32, kernel_size=(3, 3), stride=(2, 2), padding=(1, 1))\n      (1): ReLU()\n      (2): BatchNorm2d(32, eps=1e-05, momentum=0.1, affine=True, track_running_stats=True)\n    )\n    (1): Sequential(\n      (0): ConvTranspose2d(32, 16, kernel_size=(3, 3), stride=(2, 2), padding=(1, 1))\n      (1): ReLU()\n      (2): BatchNorm2d(16, eps=1e-05, momentum=0.1, affine=True, track_running_stats=True)\n    )\n    (2): Sequential(\n      (0): ConvTranspose2d(16, 8, kernel_size=(3, 3), stride=(2, 2), padding=(1, 1))\n      (1): ReLU()\n      (2): BatchNorm2d(8, eps=1e-05, momentum=0.1, affine=True, track_running_stats=True)\n    )\n    (3): Sequential(\n      (0): ConvTranspose2d(8, 1, kernel_size=(3, 3), stride=(2, 2), padding=(1, 1))\n    )\n  )\n)"
     },
     "execution_count": 9,
     "metadata": {},
     "output_type": "execute_result"
    }
   ],
   "source": [
    "model = SpectrogramVAE.load_from_checkpoint(CHECKPOINT).to(DEVICE)\n",
    "model.eval()"
   ],
   "metadata": {
    "collapsed": false
   }
  },
  {
   "cell_type": "code",
   "execution_count": 10,
   "outputs": [],
   "source": [
    "latent_embeddings = dict()"
   ],
   "metadata": {
    "collapsed": false
   }
  },
  {
   "cell_type": "code",
   "execution_count": 11,
   "outputs": [
    {
     "name": "stderr",
     "output_type": "stream",
     "text": [
      "100%|█████████████████████████████████████████| 88/88 [00:00<00:00, 2754.10it/s]"
     ]
    },
    {
     "name": "stdout",
     "output_type": "stream",
     "text": [
      "\n",
      "Loaded 88 files for train = 66.89 hours.\n"
     ]
    },
    {
     "name": "stderr",
     "output_type": "stream",
     "text": [
      "\n"
     ]
    }
   ],
   "source": [
    "dataset = get_audio_dataset(dafx_from_name('clean'),\n",
    "                            num_examples_per_epoch=NUM_EXAMPLES_PER_SETTING)"
   ],
   "metadata": {
    "collapsed": false
   }
  },
  {
   "cell_type": "code",
   "execution_count": null,
   "outputs": [
    {
     "name": "stdout",
     "output_type": "stream",
     "text": [
      "Interpolating setting: drive\n"
     ]
    },
    {
     "name": "stderr",
     "output_type": "stream",
     "text": [
      "  0%|          | 0/10 [00:00<?, ?it/s]"
     ]
    },
    {
     "name": "stdout",
     "output_type": "stream",
     "text": [
      "Applying setting: tensor([0.0000, 0.5000, 0.5000])\n"
     ]
    },
    {
     "name": "stderr",
     "output_type": "stream",
     "text": [
      " 10%|█         | 1/10 [00:08<01:17,  8.57s/it]"
     ]
    },
    {
     "name": "stdout",
     "output_type": "stream",
     "text": [
      "Applying setting: tensor([0.1111, 0.5000, 0.5000])\n"
     ]
    },
    {
     "name": "stderr",
     "output_type": "stream",
     "text": [
      " 20%|██        | 2/10 [00:16<01:06,  8.31s/it]"
     ]
    },
    {
     "name": "stdout",
     "output_type": "stream",
     "text": [
      "Applying setting: tensor([0.2222, 0.5000, 0.5000])\n"
     ]
    },
    {
     "name": "stderr",
     "output_type": "stream",
     "text": [
      " 30%|███       | 3/10 [00:24<00:55,  7.90s/it]"
     ]
    },
    {
     "name": "stdout",
     "output_type": "stream",
     "text": [
      "Applying setting: tensor([0.3333, 0.5000, 0.5000])\n"
     ]
    },
    {
     "name": "stderr",
     "output_type": "stream",
     "text": [
      " 40%|████      | 4/10 [00:32<00:48,  8.13s/it]"
     ]
    },
    {
     "name": "stdout",
     "output_type": "stream",
     "text": [
      "Applying setting: tensor([0.4444, 0.5000, 0.5000])\n"
     ]
    },
    {
     "name": "stderr",
     "output_type": "stream",
     "text": [
      " 50%|█████     | 5/10 [00:39<00:39,  7.85s/it]"
     ]
    },
    {
     "name": "stdout",
     "output_type": "stream",
     "text": [
      "Applying setting: tensor([0.5556, 0.5000, 0.5000])\n"
     ]
    },
    {
     "name": "stderr",
     "output_type": "stream",
     "text": [
      " 60%|██████    | 6/10 [00:47<00:31,  7.78s/it]"
     ]
    },
    {
     "name": "stdout",
     "output_type": "stream",
     "text": [
      "Applying setting: tensor([0.6667, 0.5000, 0.5000])\n"
     ]
    },
    {
     "name": "stderr",
     "output_type": "stream",
     "text": [
      " 70%|███████   | 7/10 [00:55<00:23,  7.76s/it]"
     ]
    },
    {
     "name": "stdout",
     "output_type": "stream",
     "text": [
      "Applying setting: tensor([0.7778, 0.5000, 0.5000])\n"
     ]
    },
    {
     "name": "stderr",
     "output_type": "stream",
     "text": [
      " 80%|████████  | 8/10 [01:03<00:15,  7.83s/it]"
     ]
    },
    {
     "name": "stdout",
     "output_type": "stream",
     "text": [
      "Applying setting: tensor([0.8889, 0.5000, 0.5000])\n"
     ]
    },
    {
     "name": "stderr",
     "output_type": "stream",
     "text": [
      " 90%|█████████ | 9/10 [01:10<00:07,  7.76s/it]"
     ]
    },
    {
     "name": "stdout",
     "output_type": "stream",
     "text": [
      "Applying setting: tensor([1.0000, 0.5000, 0.5000])\n"
     ]
    },
    {
     "name": "stderr",
     "output_type": "stream",
     "text": [
      "100%|██████████| 10/10 [01:18<00:00,  7.83s/it]\n"
     ]
    },
    {
     "name": "stdout",
     "output_type": "stream",
     "text": [
      "Interpolating setting: muffle\n"
     ]
    },
    {
     "name": "stderr",
     "output_type": "stream",
     "text": [
      "  0%|          | 0/10 [00:00<?, ?it/s]"
     ]
    },
    {
     "name": "stdout",
     "output_type": "stream",
     "text": [
      "Applying setting: tensor([0.5000, 0.0000, 0.5000])\n"
     ]
    },
    {
     "name": "stderr",
     "output_type": "stream",
     "text": [
      " 10%|█         | 1/10 [00:07<01:09,  7.77s/it]"
     ]
    },
    {
     "name": "stdout",
     "output_type": "stream",
     "text": [
      "Applying setting: tensor([0.5000, 0.1111, 0.5000])\n"
     ]
    },
    {
     "name": "stderr",
     "output_type": "stream",
     "text": [
      " 20%|██        | 2/10 [00:15<01:01,  7.63s/it]"
     ]
    },
    {
     "name": "stdout",
     "output_type": "stream",
     "text": [
      "Applying setting: tensor([0.5000, 0.2222, 0.5000])\n"
     ]
    },
    {
     "name": "stderr",
     "output_type": "stream",
     "text": [
      " 30%|███       | 3/10 [00:23<00:55,  7.86s/it]"
     ]
    },
    {
     "name": "stdout",
     "output_type": "stream",
     "text": [
      "Applying setting: tensor([0.5000, 0.3333, 0.5000])\n"
     ]
    },
    {
     "name": "stderr",
     "output_type": "stream",
     "text": [
      " 40%|████      | 4/10 [00:31<00:46,  7.77s/it]"
     ]
    },
    {
     "name": "stdout",
     "output_type": "stream",
     "text": [
      "Applying setting: tensor([0.5000, 0.4444, 0.5000])\n"
     ]
    },
    {
     "name": "stderr",
     "output_type": "stream",
     "text": [
      " 50%|█████     | 5/10 [00:38<00:38,  7.71s/it]"
     ]
    },
    {
     "name": "stdout",
     "output_type": "stream",
     "text": [
      "Applying setting: tensor([0.5000, 0.5556, 0.5000])\n"
     ]
    },
    {
     "name": "stderr",
     "output_type": "stream",
     "text": [
      " 60%|██████    | 6/10 [00:46<00:31,  7.90s/it]"
     ]
    },
    {
     "name": "stdout",
     "output_type": "stream",
     "text": [
      "Applying setting: tensor([0.5000, 0.6667, 0.5000])\n"
     ]
    },
    {
     "name": "stderr",
     "output_type": "stream",
     "text": [
      " 70%|███████   | 7/10 [00:55<00:23,  7.96s/it]"
     ]
    },
    {
     "name": "stdout",
     "output_type": "stream",
     "text": [
      "Applying setting: tensor([0.5000, 0.7778, 0.5000])\n"
     ]
    },
    {
     "name": "stderr",
     "output_type": "stream",
     "text": [
      " 80%|████████  | 8/10 [01:03<00:16,  8.16s/it]"
     ]
    },
    {
     "name": "stdout",
     "output_type": "stream",
     "text": [
      "Applying setting: tensor([0.5000, 0.8889, 0.5000])\n"
     ]
    },
    {
     "name": "stderr",
     "output_type": "stream",
     "text": [
      " 90%|█████████ | 9/10 [01:12<00:08,  8.27s/it]"
     ]
    },
    {
     "name": "stdout",
     "output_type": "stream",
     "text": [
      "Applying setting: tensor([0.5000, 1.0000, 0.5000])\n"
     ]
    },
    {
     "name": "stderr",
     "output_type": "stream",
     "text": [
      "100%|██████████| 10/10 [01:20<00:00,  8.06s/it]\n"
     ]
    },
    {
     "name": "stdout",
     "output_type": "stream",
     "text": [
      "Interpolating setting: output_db\n"
     ]
    },
    {
     "name": "stderr",
     "output_type": "stream",
     "text": [
      "  0%|          | 0/10 [00:00<?, ?it/s]"
     ]
    },
    {
     "name": "stdout",
     "output_type": "stream",
     "text": [
      "Applying setting: tensor([0.5000, 0.5000, 0.0000])\n"
     ]
    },
    {
     "name": "stderr",
     "output_type": "stream",
     "text": [
      " 10%|█         | 1/10 [00:07<01:10,  7.82s/it]"
     ]
    },
    {
     "name": "stdout",
     "output_type": "stream",
     "text": [
      "Applying setting: tensor([0.5000, 0.5000, 0.1111])\n"
     ]
    }
   ],
   "source": [
    "for i in tqdm(range(dafx.get_num_params())):\n",
    "    setting_name = dafx.idx_to_param_map[i]\n",
    "    print(f\"Interpolating setting: {setting_name}\")\n",
    "    embeddings = []\n",
    "    settings_to_apply = get_interpolated_settings(dafx, i, NUM_SETTINGS)\n",
    "    for setting in settings_to_apply:\n",
    "        print(f\"Applying setting: {setting}\")\n",
    "        for batch in dataset:\n",
    "            x = batch\n",
    "\n",
    "            # Apply setting to audio\n",
    "            x = dafx.apply(x, setting)\n",
    "            x = x.unsqueeze(0).unsqueeze(0)\n",
    "\n",
    "            X = audio_to_spectrogram(signal=x,\n",
    "                         n_fft=model.hparams.n_fft,\n",
    "                         hop_length=model.hparams.hop_length,\n",
    "                         window_size=model.hparams.window_size).to(DEVICE)\n",
    "\n",
    "            _, _, _, z = model(X)\n",
    "\n",
    "            embeddings.append(z.cpu().detach().numpy())\n",
    "\n",
    "        latent_embeddings[setting_name] = np.array(embeddings)\n"
   ],
   "metadata": {
    "collapsed": false,
    "pycharm": {
     "is_executing": true
    }
   }
  },
  {
   "cell_type": "code",
   "execution_count": null,
   "outputs": [],
   "source": [
    "data = np.concatenate([v for v in latent_embeddings.values()]).squeeze()"
   ],
   "metadata": {
    "collapsed": false,
    "pycharm": {
     "is_executing": true
    }
   }
  },
  {
   "cell_type": "code",
   "execution_count": null,
   "outputs": [],
   "source": [
    "data.shape"
   ],
   "metadata": {
    "collapsed": false,
    "pycharm": {
     "is_executing": true
    }
   }
  },
  {
   "cell_type": "code",
   "execution_count": null,
   "outputs": [],
   "source": [
    "reducer = umap.UMAP().fit(data)"
   ],
   "metadata": {
    "collapsed": false,
    "pycharm": {
     "is_executing": true
    }
   }
  },
  {
   "cell_type": "code",
   "execution_count": null,
   "outputs": [],
   "source": [
    "EXPERIMENT_NAME = f\"{CHECKPOINT_ID}_{DAFX_NAME.split()[-1]}_{NUM_SETTINGS}settings\""
   ],
   "metadata": {
    "collapsed": false,
    "pycharm": {
     "is_executing": true
    }
   }
  },
  {
   "cell_type": "code",
   "execution_count": null,
   "outputs": [],
   "source": [
    "for fx, X in latent_embeddings.items():\n",
    "    embeds = reducer.transform(X.squeeze())\n",
    "    plt.scatter(x=embeds[:,0], y=embeds[:,1], label=fx, alpha=0.7)\n",
    "\n",
    "plt.gca().set_aspect('equal', 'datalim')\n",
    "plt.title(f\"{DAFX_NAME} {NUM_SETTINGS} parameter configurations latent space\")\n",
    "\n",
    "lgnd = plt.legend()\n",
    "for i in range(len(latent_embeddings.keys())):\n",
    "    lgnd.legendHandles[i]._sizes = [30]\n",
    "\n",
    "figname = f\"./figures/param_interpolation/{EXPERIMENT_NAME}_full.png\"\n",
    "plt.savefig(figname)"
   ],
   "metadata": {
    "collapsed": false,
    "pycharm": {
     "is_executing": true
    }
   }
  },
  {
   "cell_type": "code",
   "execution_count": null,
   "outputs": [],
   "source": [
    "n = dafx.get_num_params() # Define the size of the plot\n",
    "max_columns = 3  # set a maximum number of columns\n",
    "\n",
    "num_rows, num_cols = get_subplot_dimensions(n, max_columns=max_columns)\n",
    "# Create the figure and subplots\n",
    "fig, axs = plt.subplots(num_rows, num_cols, figsize=(4*num_cols, 4*num_rows))\n",
    "\n",
    "count = 0\n",
    "for i in range(dafx.get_num_params()):\n",
    "    row_idx, col_idx = divmod(count, num_cols)\n",
    "\n",
    "    if num_rows == 1:\n",
    "            current_ax = axs[col_idx]\n",
    "    elif num_cols == 1:\n",
    "        current_ax = axs[row_idx]\n",
    "    else:\n",
    "        current_ax = axs[row_idx, col_idx]\n",
    "\n",
    "    param_name = dafx.idx_to_param_map[i]\n",
    "    X = latent_embeddings[param_name]\n",
    "\n",
    "    embeds = reducer.transform(X.squeeze())\n",
    "    settings_to_apply = get_interpolated_settings(dafx, i, NUM_SETTINGS)\n",
    "    colours = np.array([np.array([setting[i]]*NUM_EXAMPLES_PER_SETTING) for setting in settings_to_apply])\n",
    "\n",
    "    sc = current_ax.scatter(x=embeds[:,0], y=embeds[:,1], alpha=0.7, c=colours,\n",
    "                            vmin=0, vmax=1, cmap='magma')\n",
    "\n",
    "    current_ax.set_title(param_name)\n",
    "    current_ax.set_xticks([])\n",
    "    current_ax.set_yticks([])\n",
    "    current_ax.grid()\n",
    "    current_ax.set_aspect('equal', 'datalim')\n",
    "\n",
    "    count += 1\n",
    "\n",
    "    # If we have processed all the subplots, break out of the loop\n",
    "    if count == n:\n",
    "        break\n",
    "\n",
    "fig.suptitle(f\"{DAFX_NAME} {NUM_SETTINGS} parameter configurations latent space\")\n",
    "\n",
    "# Adjust the spacing between subplots\n",
    "fig.tight_layout()\n",
    "\n",
    "plt.savefig(f\"./figures/param_interpolation/{EXPERIMENT_NAME}_seperate.png\")"
   ],
   "metadata": {
    "collapsed": false,
    "pycharm": {
     "is_executing": true
    }
   }
  },
  {
   "cell_type": "code",
   "execution_count": 42,
   "outputs": [],
   "source": [
    "# import matplotlib.gridspec as gridspec\n",
    "#\n",
    "# fig = plt.figure(figsize=(4.5*dafx.get_num_params(), 5))\n",
    "# gs = gridspec.GridSpec(1, dafx.get_num_params() + 1, width_ratios=[1]*dafx.get_num_params() + [0.05])\n",
    "#\n",
    "# for i in range(dafx.get_num_params()):\n",
    "#     param_name = dafx.idx_to_param_map[i]\n",
    "#     X = latent_embeddings[param_name]\n",
    "#\n",
    "#     embeds = reducer.transform(X.squeeze())\n",
    "#     settings_to_apply = get_interpolated_settings(dafx, i, NUM_SETTINGS)\n",
    "#     colours = np.array([np.array([setting[i]]*NUM_EXAMPLES_PER_SETTING) for setting in settings_to_apply])\n",
    "#\n",
    "#     ax = fig.add_subplot(gs[0, i])\n",
    "#     sc = ax.scatter(x=embeds[:,0], y=embeds[:,1], alpha=0.7, c=colours, vmin=0, vmax=1, s=8, cmap='magma')\n",
    "#\n",
    "#     ax.set_title(param_name)\n",
    "#     ax.set_aspect('equal', 'datalim')\n",
    "#\n",
    "# plt.suptitle(f\"{DAFX_NAME} {NUM_SETTINGS} parameter configurations latent space\")\n",
    "#\n",
    "# cax = fig.add_subplot(gs[0, -1])\n",
    "# plt.colorbar(sc, cax=cax)\n",
    "#\n",
    "# fig.subplots_adjust(right=0.9)\n",
    "#\n",
    "# figname = f\"./figures/param_interpolation/{EXPERIMENT_NAME}_seperate.png\"\n",
    "# plt.savefig(figname)"
   ],
   "metadata": {
    "collapsed": false
   }
  },
  {
   "cell_type": "code",
   "execution_count": 21,
   "outputs": [],
   "source": [],
   "metadata": {
    "collapsed": false
   }
  }
 ],
 "metadata": {
  "kernelspec": {
   "display_name": "Python 3",
   "language": "python",
   "name": "python3"
  },
  "language_info": {
   "codemirror_mode": {
    "name": "ipython",
    "version": 2
   },
   "file_extension": ".py",
   "mimetype": "text/x-python",
   "name": "python",
   "nbconvert_exporter": "python",
   "pygments_lexer": "ipython2",
   "version": "2.7.6"
  }
 },
 "nbformat": 4,
 "nbformat_minor": 0
}
