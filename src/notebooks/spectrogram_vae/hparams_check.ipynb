{
 "cells": [
  {
   "cell_type": "code",
   "execution_count": 7,
   "metadata": {
    "collapsed": true
   },
   "outputs": [],
   "source": [
    "from src.models.spectrogram_vae import SpectrogramVAE"
   ]
  },
  {
   "cell_type": "code",
   "execution_count": 8,
   "outputs": [],
   "source": [
    "PARAMS = [\n",
    "    'lr',\n",
    "    'latent_dim',\n",
    "    'annealing_type',\n",
    "    'min_beta',\n",
    "    'max_beta',\n",
    "    'beta_start_epoch',\n",
    "    'beta_end_epoch',\n",
    "    'beta_cycle_length',\n",
    "    'dafx_names',\n",
    "    'n_fft',\n",
    "    'hop_length',\n",
    "    'window_size',\n",
    "]"
   ],
   "metadata": {
    "collapsed": false
   }
  },
  {
   "cell_type": "code",
   "execution_count": 9,
   "outputs": [],
   "source": [
    "CHECKPOINT_A = \"/home/kieran/Level5ProjectAudioVAE/src/l5proj_spectrogram_vae/ewwh464x/checkpoints/epoch=13-step=2926.ckpt\"\n",
    "model_a = SpectrogramVAE.load_from_checkpoint(CHECKPOINT_A)"
   ],
   "metadata": {
    "collapsed": false
   }
  },
  {
   "cell_type": "code",
   "execution_count": 10,
   "outputs": [
    {
     "name": "stdout",
     "output_type": "stream",
     "text": [
      "lr                   0.0005\n",
      "latent_dim           128\n",
      "annealing_type       cyclic\n",
      "min_beta             0.0001\n",
      "max_beta             0.005\n",
      "beta_start_epoch     0\n",
      "beta_end_epoch       800\n",
      "beta_cycle_length    17\n",
      "dafx_names           ['mda Delay', 'mda Overdrive', 'mda Ambience', 'mda RingMod', 'mda Combo', 'mda Dynamics']\n",
      "n_fft                4096\n",
      "hop_length           1024\n",
      "window_size          2048\n"
     ]
    }
   ],
   "source": [
    "for param in PARAMS:\n",
    "    print(f\"{param.ljust(20)} {model_a.hparams[param]}\")"
   ],
   "metadata": {
    "collapsed": false
   }
  },
  {
   "cell_type": "code",
   "execution_count": 11,
   "outputs": [],
   "source": [
    "CHECKPOINT_B = \"/home/kieran/Level5ProjectAudioVAE/src/l5proj_spectrogram_vae/hdx3y4ly/checkpoints/epoch=169-step=35530.ckpt\"\n",
    "model_b = SpectrogramVAE.load_from_checkpoint(CHECKPOINT_B)"
   ],
   "metadata": {
    "collapsed": false
   }
  },
  {
   "cell_type": "code",
   "execution_count": 12,
   "outputs": [
    {
     "name": "stdout",
     "output_type": "stream",
     "text": [
      "lr                   0.0005\n",
      "latent_dim           128\n",
      "annealing_type       cyclic\n",
      "min_beta             0.0001\n",
      "max_beta             0.001\n",
      "beta_start_epoch     0\n",
      "beta_end_epoch       300\n",
      "beta_cycle_length    17\n",
      "dafx_names           ['mda Delay', 'mda Overdrive', 'mda Ambience', 'mda RingMod', 'mda Combo', 'mda Dynamics']\n",
      "n_fft                4096\n",
      "hop_length           1024\n",
      "window_size          2048\n"
     ]
    }
   ],
   "source": [
    "for param in PARAMS:\n",
    "    print(f\"{param.ljust(20)} {model_b.hparams[param]}\")"
   ],
   "metadata": {
    "collapsed": false
   }
  },
  {
   "cell_type": "markdown",
   "source": [
    "## Compare models"
   ],
   "metadata": {
    "collapsed": false
   }
  },
  {
   "cell_type": "code",
   "execution_count": 13,
   "outputs": [],
   "source": [
    "matching = {}\n",
    "non_matching = {}\n",
    "\n",
    "for param in PARAMS:\n",
    "    if model_a.hparams[param] == model_b.hparams[param]:\n",
    "        matching[param] =  model_b.hparams[param]\n",
    "    else:\n",
    "        if param == 'dafx_names':\n",
    "            a = set(model_a.hparams['dafx_names'])\n",
    "            b = set(model_b.hparams['dafx_names'])\n",
    "\n",
    "            a_diff_b = list(a.difference(b))\n",
    "            b_diff_a = list(b.difference(a))\n",
    "\n",
    "            non_matching['dafx_names'] = (a_diff_b, b_diff_a)\n",
    "\n",
    "        else:\n",
    "            non_matching[param] = (model_a.hparams[param], model_b.hparams[param])"
   ],
   "metadata": {
    "collapsed": false
   }
  },
  {
   "cell_type": "code",
   "execution_count": 14,
   "outputs": [
    {
     "name": "stdout",
     "output_type": "stream",
     "text": [
      "Matching params\n",
      "--------------------\n",
      "lr                   0.0005              \n",
      "latent_dim           128                 \n",
      "annealing_type       cyclic              \n",
      "min_beta             0.0001              \n",
      "beta_start_epoch     0                   \n",
      "beta_cycle_length    17                  \n",
      "dafx_names           ['mda Delay', 'mda Overdrive', 'mda Ambience', 'mda RingMod', 'mda Combo', 'mda Dynamics']\n",
      "n_fft                4096                \n",
      "hop_length           1024                \n",
      "window_size          2048                \n"
     ]
    }
   ],
   "source": [
    "print(\"Matching params\")\n",
    "print(\"-\"*20)\n",
    "for k, v in matching.items():\n",
    "    print(f\"{str(k).ljust(20)} {str(v).ljust(20)}\")"
   ],
   "metadata": {
    "collapsed": false
   }
  },
  {
   "cell_type": "code",
   "execution_count": 15,
   "outputs": [
    {
     "name": "stdout",
     "output_type": "stream",
     "text": [
      "Non-Matching params\n",
      "--------------------\n",
      "max_beta             A: 0.005                B: 0.001               \n",
      "beta_end_epoch       A: 800                  B: 300                 \n"
     ]
    }
   ],
   "source": [
    "print(\"Non-Matching params\")\n",
    "print(\"-\"*20)\n",
    "for k, v in non_matching.items():\n",
    "    print(f\"{str(k).ljust(20)} A: {str(v[0]).ljust(20)} B: {str(v[1]).ljust(20)}\")"
   ],
   "metadata": {
    "collapsed": false
   }
  },
  {
   "cell_type": "code",
   "execution_count": null,
   "outputs": [],
   "source": [],
   "metadata": {
    "collapsed": false
   }
  }
 ],
 "metadata": {
  "kernelspec": {
   "display_name": "Python 3",
   "language": "python",
   "name": "python3"
  },
  "language_info": {
   "codemirror_mode": {
    "name": "ipython",
    "version": 2
   },
   "file_extension": ".py",
   "mimetype": "text/x-python",
   "name": "python",
   "nbconvert_exporter": "python",
   "pygments_lexer": "ipython2",
   "version": "2.7.6"
  }
 },
 "nbformat": 4,
 "nbformat_minor": 0
}
