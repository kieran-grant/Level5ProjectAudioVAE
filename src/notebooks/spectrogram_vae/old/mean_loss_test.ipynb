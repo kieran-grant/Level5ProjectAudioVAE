{
 "cells": [
  {
   "cell_type": "code",
   "execution_count": null,
   "metadata": {
    "collapsed": true
   },
   "outputs": [],
   "source": [
    "import torch\n",
    "import torch.nn.functional as F\n",
    "\n",
    "from src.models.spectrogram_vae import SpectrogramVAE"
   ]
  },
  {
   "cell_type": "code",
   "execution_count": null,
   "outputs": [],
   "source": [
    "CHECKPOINT = \"/home/kieran/Level5ProjectAudioVAE/src/l5proj_spectrogram_vae/21lenm4c/checkpoints/epoch=37-step=11894.ckpt\""
   ],
   "metadata": {
    "collapsed": false
   }
  },
  {
   "cell_type": "code",
   "execution_count": null,
   "outputs": [],
   "source": [
    "BATCH_SIZE = 8\n",
    "SPECTROGRAM_WIDTH = 4096\n",
    "SPECTROGRAM_HEIGHT = 61\n",
    "LATENT_DIM = 32"
   ],
   "metadata": {
    "collapsed": false
   }
  },
  {
   "cell_type": "code",
   "execution_count": null,
   "outputs": [],
   "source": [
    "def calculate_recon_loss(x, x_hat):\n",
    "    return F.mse_loss(x, x_hat, reduction=\"mean\")\n",
    "\n",
    "def calculate_kl_loss(mu, log_var):\n",
    "    return torch.mean(-0.5 * torch.sum(1 + log_var - mu ** 2 - log_var.exp(), dim = 1), dim = 0)"
   ],
   "metadata": {
    "collapsed": false
   }
  },
  {
   "cell_type": "code",
   "execution_count": null,
   "outputs": [],
   "source": [
    "X = torch.rand(BATCH_SIZE, 1, SPECTROGRAM_WIDTH, SPECTROGRAM_HEIGHT)\n",
    "X_hat = torch.rand(BATCH_SIZE, 1, SPECTROGRAM_WIDTH, SPECTROGRAM_HEIGHT)\n",
    "mu = torch.randn(BATCH_SIZE, LATENT_DIM)\n",
    "log_var = torch.randn(BATCH_SIZE, LATENT_DIM)"
   ],
   "metadata": {
    "collapsed": false
   }
  },
  {
   "cell_type": "code",
   "execution_count": null,
   "outputs": [],
   "source": [
    "model = SpectrogramVAE.load_from_checkpoint(CHECKPOINT)"
   ],
   "metadata": {
    "collapsed": false
   }
  },
  {
   "cell_type": "code",
   "execution_count": null,
   "outputs": [],
   "source": [
    "kl_loss_sum = model._calculate_kl_loss(mu, log_var)"
   ],
   "metadata": {
    "collapsed": false
   }
  },
  {
   "cell_type": "code",
   "execution_count": null,
   "outputs": [],
   "source": [
    "recon_loss_sum = model._calculate_reconstruction_loss(X, X_hat)"
   ],
   "metadata": {
    "collapsed": false
   }
  },
  {
   "cell_type": "code",
   "execution_count": null,
   "outputs": [],
   "source": [
    "kl_loss_mean = kl_loss_sum / (LATENT_DIM * BATCH_SIZE)"
   ],
   "metadata": {
    "collapsed": false
   }
  },
  {
   "cell_type": "code",
   "execution_count": null,
   "outputs": [],
   "source": [
    "recon_loss_mean = recon_loss_sum / (BATCH_SIZE * SPECTROGRAM_HEIGHT * SPECTROGRAM_WIDTH)"
   ],
   "metadata": {
    "collapsed": false
   }
  },
  {
   "cell_type": "code",
   "execution_count": null,
   "outputs": [],
   "source": [
    "new_recon_loss = calculate_recon_loss(X, X_hat)"
   ],
   "metadata": {
    "collapsed": false
   }
  },
  {
   "cell_type": "code",
   "execution_count": null,
   "outputs": [],
   "source": [
    "-0.5 * (1 + log_var - mu**2 - torch.exp(log_var)).sum(dim=1).mean()"
   ],
   "metadata": {
    "collapsed": false
   }
  },
  {
   "cell_type": "code",
   "execution_count": null,
   "outputs": [],
   "source": [
    "new_kl_loss = calculate_kl_loss(mu, log_var)"
   ],
   "metadata": {
    "collapsed": false
   }
  },
  {
   "cell_type": "code",
   "execution_count": null,
   "outputs": [],
   "source": [
    "new_kl_loss"
   ],
   "metadata": {
    "collapsed": false
   }
  },
  {
   "cell_type": "code",
   "execution_count": null,
   "outputs": [],
   "source": [
    "new_recon_loss == recon_loss_mean"
   ],
   "metadata": {
    "collapsed": false
   }
  },
  {
   "cell_type": "code",
   "execution_count": null,
   "outputs": [],
   "source": [
    "new_kl_loss == kl_loss_mean"
   ],
   "metadata": {
    "collapsed": false
   }
  },
  {
   "cell_type": "code",
   "execution_count": null,
   "outputs": [],
   "source": [
    "new_kl_loss"
   ],
   "metadata": {
    "collapsed": false
   }
  },
  {
   "cell_type": "code",
   "execution_count": null,
   "outputs": [],
   "source": [
    "new_kl_loss"
   ],
   "metadata": {
    "collapsed": false
   }
  },
  {
   "cell_type": "code",
   "execution_count": null,
   "outputs": [],
   "source": [
    "kl_loss_sum"
   ],
   "metadata": {
    "collapsed": false
   }
  },
  {
   "cell_type": "code",
   "execution_count": null,
   "outputs": [],
   "source": [
    "recon_loss_sum"
   ],
   "metadata": {
    "collapsed": false
   }
  },
  {
   "cell_type": "code",
   "execution_count": null,
   "outputs": [],
   "source": [
    "kl_loss_mean"
   ],
   "metadata": {
    "collapsed": false
   }
  },
  {
   "cell_type": "code",
   "execution_count": null,
   "outputs": [],
   "source": [
    "recon_loss_mean"
   ],
   "metadata": {
    "collapsed": false
   }
  },
  {
   "cell_type": "code",
   "execution_count": null,
   "outputs": [],
   "source": [
    "new_kl_loss"
   ],
   "metadata": {
    "collapsed": false
   }
  },
  {
   "cell_type": "code",
   "execution_count": null,
   "outputs": [],
   "source": [
    "new_recon_loss"
   ],
   "metadata": {
    "collapsed": false
   }
  },
  {
   "cell_type": "code",
   "execution_count": 1,
   "outputs": [],
   "source": [
    "from src.schedulers.cyclic_annealing import CyclicAnnealing"
   ],
   "metadata": {
    "collapsed": false
   }
  },
  {
   "cell_type": "code",
   "execution_count": 2,
   "outputs": [],
   "source": [
    "ca = CyclicAnnealing(\n",
    "    min_beta=1e-3,\n",
    "    max_beta=1e-2,\n",
    "    start_epoch=5,\n",
    "    end_epoch =25,\n",
    "    cycle_length=11\n",
    ")"
   ],
   "metadata": {
    "collapsed": false
   }
  },
  {
   "cell_type": "code",
   "execution_count": 3,
   "outputs": [
    {
     "name": "stdout",
     "output_type": "stream",
     "text": [
      "epoch 0, beta: 0.0010\n",
      "epoch 1, beta: 0.0010\n",
      "epoch 2, beta: 0.0010\n",
      "epoch 3, beta: 0.0010\n",
      "epoch 4, beta: 0.0010\n",
      "\n",
      "New cycle started, beta weight updated: 0.0010 -> 0.0100\n",
      "\n",
      "epoch 5, beta: 0.0100\n",
      "epoch 6, beta: 0.0098\n",
      "epoch 7, beta: 0.0093\n",
      "epoch 8, beta: 0.0084\n",
      "epoch 9, beta: 0.0074\n",
      "epoch 10, beta: 0.0061\n",
      "epoch 11, beta: 0.0049\n",
      "epoch 12, beta: 0.0036\n",
      "epoch 13, beta: 0.0026\n",
      "epoch 14, beta: 0.0017\n",
      "epoch 15, beta: 0.0012\n",
      "\n",
      "New cycle started, beta weight updated: 0.0012 -> 0.0100\n",
      "\n",
      "epoch 16, beta: 0.0100\n",
      "epoch 17, beta: 0.0098\n",
      "epoch 18, beta: 0.0093\n",
      "epoch 19, beta: 0.0084\n",
      "epoch 20, beta: 0.0074\n",
      "epoch 21, beta: 0.0061\n",
      "epoch 22, beta: 0.0049\n",
      "epoch 23, beta: 0.0036\n",
      "epoch 24, beta: 0.0026\n",
      "epoch 25, beta: 0.0100\n",
      "epoch 26, beta: 0.0100\n",
      "epoch 27, beta: 0.0100\n",
      "epoch 28, beta: 0.0100\n",
      "epoch 29, beta: 0.0100\n"
     ]
    }
   ],
   "source": [
    "for i in range(30):\n",
    "    ca.step(i)\n",
    "    print(f\"epoch {i}, beta: {ca.beta:.4f}\")"
   ],
   "metadata": {
    "collapsed": false
   }
  },
  {
   "cell_type": "code",
   "execution_count": null,
   "outputs": [],
   "source": [],
   "metadata": {
    "collapsed": false
   }
  }
 ],
 "metadata": {
  "kernelspec": {
   "display_name": "Python 3",
   "language": "python",
   "name": "python3"
  },
  "language_info": {
   "codemirror_mode": {
    "name": "ipython",
    "version": 2
   },
   "file_extension": ".py",
   "mimetype": "text/x-python",
   "name": "python",
   "nbconvert_exporter": "python",
   "pygments_lexer": "ipython2",
   "version": "2.7.6"
  }
 },
 "nbformat": 4,
 "nbformat_minor": 0
}
