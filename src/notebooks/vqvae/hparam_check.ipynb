{
 "cells": [
  {
   "cell_type": "code",
   "execution_count": 21,
   "metadata": {
    "collapsed": true
   },
   "outputs": [],
   "source": [
    "from src.utils import audio_to_mel_spectrogram\n",
    "from src.models.mel_spec_vqvae import MelSpecVQVAE\n",
    "\n",
    "from src.wrappers.null_dafx_wrapper import NullDAFXWrapper\n",
    "from src.plot_utils import get_audio_dataset"
   ]
  },
  {
   "cell_type": "code",
   "execution_count": 22,
   "outputs": [],
   "source": [
    "CHECKPOINT = \"/home/kieran/Level5ProjectAudioVAE/src/l5proj_MelSpecVQVAE/ck905h93/checkpoints/epoch=37-step=11894.ckpt\""
   ],
   "metadata": {
    "collapsed": false
   }
  },
  {
   "cell_type": "code",
   "execution_count": 24,
   "outputs": [
    {
     "data": {
      "text/plain": "MelSpecVQVAE(\n  (_encoder): Encoder(\n    (_conv_1): Conv2d(1, 32, kernel_size=(4, 4), stride=(3, 3), padding=(1, 1))\n    (_conv_2): Conv2d(32, 64, kernel_size=(4, 4), stride=(3, 3), padding=(1, 1))\n    (_conv_3): Conv2d(64, 64, kernel_size=(3, 3), stride=(1, 1), padding=(1, 1))\n    (_residual_stack): ResidualStack(\n      (_layers): ModuleList(\n        (0): Residual(\n          (_block): Sequential(\n            (0): ReLU(inplace=True)\n            (1): Conv2d(64, 16, kernel_size=(3, 3), stride=(1, 1), padding=(1, 1), bias=False)\n            (2): ReLU(inplace=True)\n            (3): Conv2d(16, 64, kernel_size=(1, 1), stride=(1, 1), bias=False)\n          )\n        )\n        (1): Residual(\n          (_block): Sequential(\n            (0): ReLU(inplace=True)\n            (1): Conv2d(64, 16, kernel_size=(3, 3), stride=(1, 1), padding=(1, 1), bias=False)\n            (2): ReLU(inplace=True)\n            (3): Conv2d(16, 64, kernel_size=(1, 1), stride=(1, 1), bias=False)\n          )\n        )\n        (2): Residual(\n          (_block): Sequential(\n            (0): ReLU(inplace=True)\n            (1): Conv2d(64, 16, kernel_size=(3, 3), stride=(1, 1), padding=(1, 1), bias=False)\n            (2): ReLU(inplace=True)\n            (3): Conv2d(16, 64, kernel_size=(1, 1), stride=(1, 1), bias=False)\n          )\n        )\n      )\n    )\n  )\n  (_pre_vq_conv): Conv2d(64, 2, kernel_size=(1, 1), stride=(1, 1))\n  (_vq_vae): VectorQuantizerEMA(\n    (_embedding): Embedding(4096, 2)\n  )\n  (_decoder): Decoder(\n    (_conv_1): Conv2d(2, 64, kernel_size=(3, 3), stride=(1, 1), padding=(1, 1))\n    (_residual_stack): ResidualStack(\n      (_layers): ModuleList(\n        (0): Residual(\n          (_block): Sequential(\n            (0): ReLU(inplace=True)\n            (1): Conv2d(64, 16, kernel_size=(3, 3), stride=(1, 1), padding=(1, 1), bias=False)\n            (2): ReLU(inplace=True)\n            (3): Conv2d(16, 64, kernel_size=(1, 1), stride=(1, 1), bias=False)\n          )\n        )\n        (1): Residual(\n          (_block): Sequential(\n            (0): ReLU(inplace=True)\n            (1): Conv2d(64, 16, kernel_size=(3, 3), stride=(1, 1), padding=(1, 1), bias=False)\n            (2): ReLU(inplace=True)\n            (3): Conv2d(16, 64, kernel_size=(1, 1), stride=(1, 1), bias=False)\n          )\n        )\n        (2): Residual(\n          (_block): Sequential(\n            (0): ReLU(inplace=True)\n            (1): Conv2d(64, 16, kernel_size=(3, 3), stride=(1, 1), padding=(1, 1), bias=False)\n            (2): ReLU(inplace=True)\n            (3): Conv2d(16, 64, kernel_size=(1, 1), stride=(1, 1), bias=False)\n          )\n        )\n      )\n    )\n    (_conv_trans_1): ConvTranspose2d(64, 32, kernel_size=(4, 4), stride=(3, 3), padding=(1, 1), output_padding=(2, 2))\n    (_conv_trans_2): ConvTranspose2d(32, 1, kernel_size=(4, 4), stride=(3, 3), padding=(1, 1), output_padding=(2, 2))\n  )\n)"
     },
     "execution_count": 24,
     "metadata": {},
     "output_type": "execute_result"
    }
   ],
   "source": [
    "model = MelSpecVQVAE.load_from_checkpoint(CHECKPOINT)\n",
    "model.eval()"
   ],
   "metadata": {
    "collapsed": false
   }
  },
  {
   "cell_type": "code",
   "execution_count": 27,
   "outputs": [
    {
     "name": "stderr",
     "output_type": "stream",
     "text": [
      "100%|████████████████████████████████████████| 88/88 [00:00<00:00, 43341.80it/s]"
     ]
    },
    {
     "name": "stdout",
     "output_type": "stream",
     "text": [
      "\n",
      "Loaded 88 files for train = 66.89 hours.\n"
     ]
    },
    {
     "name": "stderr",
     "output_type": "stream",
     "text": [
      "\n"
     ]
    }
   ],
   "source": [
    "dataset = get_audio_dataset(NullDAFXWrapper(), num_examples_per_epoch=1, length=model.hparams.train_length)\n",
    "\n",
    "x = next(iter(dataset))\n",
    "X = audio_to_mel_spectrogram(signal=x,\n",
    "                             sample_rate=model.hparams.sample_rate,\n",
    "                             n_mels=model.hparams.n_mels,\n",
    "                             n_fft=model.hparams.n_fft,\n",
    "                             win_length=model.hparams.win_length,\n",
    "                             f_max=model.hparams.f_max,\n",
    "                             f_min=model.hparams.f_min)\n",
    "\n",
    "z = model._encoder(X)\n",
    "z = model._pre_vq_conv(z)\n",
    "loss, quantized, perplexity, enc = model._vq_vae(z)"
   ],
   "metadata": {
    "collapsed": false
   }
  },
  {
   "cell_type": "code",
   "execution_count": 28,
   "outputs": [
    {
     "data": {
      "text/plain": "torch.Size([1, 2, 28, 28])"
     },
     "execution_count": 28,
     "metadata": {},
     "output_type": "execute_result"
    }
   ],
   "source": [
    "quantized.shape"
   ],
   "metadata": {
    "collapsed": false
   }
  },
  {
   "cell_type": "code",
   "execution_count": 73,
   "outputs": [],
   "source": [],
   "metadata": {
    "collapsed": false
   }
  }
 ],
 "metadata": {
  "kernelspec": {
   "display_name": "Python 3",
   "language": "python",
   "name": "python3"
  },
  "language_info": {
   "codemirror_mode": {
    "name": "ipython",
    "version": 2
   },
   "file_extension": ".py",
   "mimetype": "text/x-python",
   "name": "python",
   "nbconvert_exporter": "python",
   "pygments_lexer": "ipython2",
   "version": "2.7.6"
  }
 },
 "nbformat": 4,
 "nbformat_minor": 0
}
