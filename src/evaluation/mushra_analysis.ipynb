{
 "cells": [
  {
   "cell_type": "code",
   "execution_count": 1,
   "metadata": {},
   "outputs": [],
   "source": [
    "import pandas as pd\n",
    "import seaborn as sns\n",
    "import matplotlib.pyplot as plt"
   ]
  },
  {
   "cell_type": "code",
   "execution_count": 2,
   "metadata": {},
   "outputs": [],
   "source": [
    "sns.set(style='white')"
   ]
  },
  {
   "cell_type": "code",
   "execution_count": 3,
   "metadata": {},
   "outputs": [],
   "source": [
    "df = pd.read_csv(\"/home/kieran/Level5ProjectAudioVAE/src/evaluation/data/mushra.csv\")"
   ]
  },
  {
   "cell_type": "code",
   "execution_count": 4,
   "metadata": {},
   "outputs": [],
   "source": [
    "df = df[df['trial_id'] != 'training']\n",
    "df = df[df['session_uuid'] != '6078451d-adce-43a1-9289-46e0dd3514e1']"
   ]
  },
  {
   "cell_type": "code",
   "execution_count": 5,
   "metadata": {},
   "outputs": [
    {
     "data": {
      "text/plain": [
       "b855b983-a931-4629-8617-a915d82251b0    39\n",
       "13198be2-b8dc-451e-bca1-c1e09bcbcca2    39\n",
       "90913ed2-88a6-4281-8318-b57a5d240915    39\n",
       "f9840b36-a298-4e45-b879-75001199a675    39\n",
       "782723df-c3a1-44a6-af8c-e03b47609747    39\n",
       "a20f653e-d7fd-4f19-887b-06ad306a75ba    39\n",
       "89a8207e-d6fa-423f-ad62-6d16a7b93a42    39\n",
       "b65e9a33-b3e8-4841-b327-86d737b762e9    39\n",
       "223f9a4c-da61-42a2-abfd-1cf325c84876    39\n",
       "Name: session_uuid, dtype: int64"
      ]
     },
     "execution_count": 5,
     "metadata": {},
     "output_type": "execute_result"
    }
   ],
   "source": [
    "df['session_uuid'].value_counts()"
   ]
  },
  {
   "cell_type": "code",
   "execution_count": 6,
   "metadata": {},
   "outputs": [
    {
     "data": {
      "text/html": [
       "<div>\n",
       "<style scoped>\n",
       "    .dataframe tbody tr th:only-of-type {\n",
       "        vertical-align: middle;\n",
       "    }\n",
       "\n",
       "    .dataframe tbody tr th {\n",
       "        vertical-align: top;\n",
       "    }\n",
       "\n",
       "    .dataframe thead th {\n",
       "        text-align: right;\n",
       "    }\n",
       "</style>\n",
       "<table border=\"1\" class=\"dataframe\">\n",
       "  <thead>\n",
       "    <tr style=\"text-align: right;\">\n",
       "      <th></th>\n",
       "      <th>session_test_id</th>\n",
       "      <th>session_uuid</th>\n",
       "      <th>trial_id</th>\n",
       "      <th>rating_stimulus</th>\n",
       "      <th>rating_score</th>\n",
       "      <th>rating_time</th>\n",
       "      <th>rating_date</th>\n",
       "      <th>rating_comment</th>\n",
       "    </tr>\n",
       "  </thead>\n",
       "  <tbody>\n",
       "    <tr>\n",
       "      <th>51</th>\n",
       "      <td>style_transfer</td>\n",
       "      <td>b855b983-a931-4629-8617-a915d82251b0</td>\n",
       "      <td>multiband0</td>\n",
       "      <td>end2end</td>\n",
       "      <td>85</td>\n",
       "      <td>81117</td>\n",
       "      <td>28/03/2023, 09:25:40</td>\n",
       "      <td>NaN</td>\n",
       "    </tr>\n",
       "    <tr>\n",
       "      <th>52</th>\n",
       "      <td>style_transfer</td>\n",
       "      <td>b855b983-a931-4629-8617-a915d82251b0</td>\n",
       "      <td>multiband0</td>\n",
       "      <td>style_transfer</td>\n",
       "      <td>100</td>\n",
       "      <td>81117</td>\n",
       "      <td>28/03/2023, 09:25:40</td>\n",
       "      <td>NaN</td>\n",
       "    </tr>\n",
       "    <tr>\n",
       "      <th>53</th>\n",
       "      <td>style_transfer</td>\n",
       "      <td>b855b983-a931-4629-8617-a915d82251b0</td>\n",
       "      <td>multiband0</td>\n",
       "      <td>anchor</td>\n",
       "      <td>61</td>\n",
       "      <td>81117</td>\n",
       "      <td>28/03/2023, 09:25:40</td>\n",
       "      <td>NaN</td>\n",
       "    </tr>\n",
       "    <tr>\n",
       "      <th>54</th>\n",
       "      <td>style_transfer</td>\n",
       "      <td>b855b983-a931-4629-8617-a915d82251b0</td>\n",
       "      <td>multiband0</td>\n",
       "      <td>reference</td>\n",
       "      <td>100</td>\n",
       "      <td>81117</td>\n",
       "      <td>28/03/2023, 09:25:40</td>\n",
       "      <td>NaN</td>\n",
       "    </tr>\n",
       "    <tr>\n",
       "      <th>55</th>\n",
       "      <td>style_transfer</td>\n",
       "      <td>b855b983-a931-4629-8617-a915d82251b0</td>\n",
       "      <td>multiband1</td>\n",
       "      <td>end2end</td>\n",
       "      <td>61</td>\n",
       "      <td>41036</td>\n",
       "      <td>28/03/2023, 09:25:40</td>\n",
       "      <td>NaN</td>\n",
       "    </tr>\n",
       "  </tbody>\n",
       "</table>\n",
       "</div>"
      ],
      "text/plain": [
       "   session_test_id                          session_uuid    trial_id  \\\n",
       "51  style_transfer  b855b983-a931-4629-8617-a915d82251b0  multiband0   \n",
       "52  style_transfer  b855b983-a931-4629-8617-a915d82251b0  multiband0   \n",
       "53  style_transfer  b855b983-a931-4629-8617-a915d82251b0  multiband0   \n",
       "54  style_transfer  b855b983-a931-4629-8617-a915d82251b0  multiband0   \n",
       "55  style_transfer  b855b983-a931-4629-8617-a915d82251b0  multiband1   \n",
       "\n",
       "   rating_stimulus  rating_score  rating_time           rating_date  \\\n",
       "51         end2end            85        81117  28/03/2023, 09:25:40   \n",
       "52  style_transfer           100        81117  28/03/2023, 09:25:40   \n",
       "53          anchor            61        81117  28/03/2023, 09:25:40   \n",
       "54       reference           100        81117  28/03/2023, 09:25:40   \n",
       "55         end2end            61        41036  28/03/2023, 09:25:40   \n",
       "\n",
       "    rating_comment  \n",
       "51             NaN  \n",
       "52             NaN  \n",
       "53             NaN  \n",
       "54             NaN  \n",
       "55             NaN  "
      ]
     },
     "execution_count": 6,
     "metadata": {},
     "output_type": "execute_result"
    }
   ],
   "source": [
    "df.head()"
   ]
  },
  {
   "cell_type": "code",
   "execution_count": 7,
   "metadata": {},
   "outputs": [
    {
     "data": {
      "text/html": [
       "<div>\n",
       "<style scoped>\n",
       "    .dataframe tbody tr th:only-of-type {\n",
       "        vertical-align: middle;\n",
       "    }\n",
       "\n",
       "    .dataframe tbody tr th {\n",
       "        vertical-align: top;\n",
       "    }\n",
       "\n",
       "    .dataframe thead th {\n",
       "        text-align: right;\n",
       "    }\n",
       "</style>\n",
       "<table border=\"1\" class=\"dataframe\">\n",
       "  <thead>\n",
       "    <tr style=\"text-align: right;\">\n",
       "      <th></th>\n",
       "      <th></th>\n",
       "      <th>rating_score</th>\n",
       "      <th>rating_time</th>\n",
       "      <th>rating_comment</th>\n",
       "    </tr>\n",
       "    <tr>\n",
       "      <th>session_uuid</th>\n",
       "      <th>rating_stimulus</th>\n",
       "      <th></th>\n",
       "      <th></th>\n",
       "      <th></th>\n",
       "    </tr>\n",
       "  </thead>\n",
       "  <tbody>\n",
       "    <tr>\n",
       "      <th rowspan=\"4\" valign=\"top\">13198be2-b8dc-451e-bca1-c1e09bcbcca2</th>\n",
       "      <th>anchor</th>\n",
       "      <td>48.500000</td>\n",
       "      <td>48144.166667</td>\n",
       "      <td>NaN</td>\n",
       "    </tr>\n",
       "    <tr>\n",
       "      <th>end2end</th>\n",
       "      <td>47.916667</td>\n",
       "      <td>48144.166667</td>\n",
       "      <td>NaN</td>\n",
       "    </tr>\n",
       "    <tr>\n",
       "      <th>reference</th>\n",
       "      <td>98.916667</td>\n",
       "      <td>48144.166667</td>\n",
       "      <td>NaN</td>\n",
       "    </tr>\n",
       "    <tr>\n",
       "      <th>style_transfer</th>\n",
       "      <td>93.333333</td>\n",
       "      <td>46499.000000</td>\n",
       "      <td>NaN</td>\n",
       "    </tr>\n",
       "    <tr>\n",
       "      <th rowspan=\"4\" valign=\"top\">223f9a4c-da61-42a2-abfd-1cf325c84876</th>\n",
       "      <th>anchor</th>\n",
       "      <td>61.416667</td>\n",
       "      <td>52822.500000</td>\n",
       "      <td>NaN</td>\n",
       "    </tr>\n",
       "    <tr>\n",
       "      <th>end2end</th>\n",
       "      <td>67.666667</td>\n",
       "      <td>52822.500000</td>\n",
       "      <td>NaN</td>\n",
       "    </tr>\n",
       "    <tr>\n",
       "      <th>reference</th>\n",
       "      <td>95.083333</td>\n",
       "      <td>52822.500000</td>\n",
       "      <td>NaN</td>\n",
       "    </tr>\n",
       "    <tr>\n",
       "      <th>style_transfer</th>\n",
       "      <td>83.333333</td>\n",
       "      <td>61877.333333</td>\n",
       "      <td>NaN</td>\n",
       "    </tr>\n",
       "    <tr>\n",
       "      <th rowspan=\"4\" valign=\"top\">782723df-c3a1-44a6-af8c-e03b47609747</th>\n",
       "      <th>anchor</th>\n",
       "      <td>56.583333</td>\n",
       "      <td>21398.250000</td>\n",
       "      <td>NaN</td>\n",
       "    </tr>\n",
       "    <tr>\n",
       "      <th>end2end</th>\n",
       "      <td>73.416667</td>\n",
       "      <td>21398.250000</td>\n",
       "      <td>NaN</td>\n",
       "    </tr>\n",
       "    <tr>\n",
       "      <th>reference</th>\n",
       "      <td>76.833333</td>\n",
       "      <td>21398.250000</td>\n",
       "      <td>NaN</td>\n",
       "    </tr>\n",
       "    <tr>\n",
       "      <th>style_transfer</th>\n",
       "      <td>62.666667</td>\n",
       "      <td>19018.666667</td>\n",
       "      <td>NaN</td>\n",
       "    </tr>\n",
       "    <tr>\n",
       "      <th rowspan=\"4\" valign=\"top\">89a8207e-d6fa-423f-ad62-6d16a7b93a42</th>\n",
       "      <th>anchor</th>\n",
       "      <td>52.333333</td>\n",
       "      <td>30450.000000</td>\n",
       "      <td>NaN</td>\n",
       "    </tr>\n",
       "    <tr>\n",
       "      <th>end2end</th>\n",
       "      <td>46.750000</td>\n",
       "      <td>30450.000000</td>\n",
       "      <td>NaN</td>\n",
       "    </tr>\n",
       "    <tr>\n",
       "      <th>reference</th>\n",
       "      <td>89.833333</td>\n",
       "      <td>30450.000000</td>\n",
       "      <td>NaN</td>\n",
       "    </tr>\n",
       "    <tr>\n",
       "      <th>style_transfer</th>\n",
       "      <td>93.666667</td>\n",
       "      <td>37781.666667</td>\n",
       "      <td>NaN</td>\n",
       "    </tr>\n",
       "    <tr>\n",
       "      <th rowspan=\"4\" valign=\"top\">90913ed2-88a6-4281-8318-b57a5d240915</th>\n",
       "      <th>anchor</th>\n",
       "      <td>71.333333</td>\n",
       "      <td>18225.333333</td>\n",
       "      <td>NaN</td>\n",
       "    </tr>\n",
       "    <tr>\n",
       "      <th>end2end</th>\n",
       "      <td>76.250000</td>\n",
       "      <td>18225.333333</td>\n",
       "      <td>NaN</td>\n",
       "    </tr>\n",
       "    <tr>\n",
       "      <th>reference</th>\n",
       "      <td>93.750000</td>\n",
       "      <td>18225.333333</td>\n",
       "      <td>NaN</td>\n",
       "    </tr>\n",
       "    <tr>\n",
       "      <th>style_transfer</th>\n",
       "      <td>88.000000</td>\n",
       "      <td>23132.333333</td>\n",
       "      <td>NaN</td>\n",
       "    </tr>\n",
       "    <tr>\n",
       "      <th rowspan=\"4\" valign=\"top\">a20f653e-d7fd-4f19-887b-06ad306a75ba</th>\n",
       "      <th>anchor</th>\n",
       "      <td>40.833333</td>\n",
       "      <td>45739.833333</td>\n",
       "      <td>NaN</td>\n",
       "    </tr>\n",
       "    <tr>\n",
       "      <th>end2end</th>\n",
       "      <td>29.500000</td>\n",
       "      <td>45739.833333</td>\n",
       "      <td>NaN</td>\n",
       "    </tr>\n",
       "    <tr>\n",
       "      <th>reference</th>\n",
       "      <td>89.833333</td>\n",
       "      <td>45739.833333</td>\n",
       "      <td>NaN</td>\n",
       "    </tr>\n",
       "    <tr>\n",
       "      <th>style_transfer</th>\n",
       "      <td>82.333333</td>\n",
       "      <td>42809.333333</td>\n",
       "      <td>NaN</td>\n",
       "    </tr>\n",
       "    <tr>\n",
       "      <th rowspan=\"4\" valign=\"top\">b65e9a33-b3e8-4841-b327-86d737b762e9</th>\n",
       "      <th>anchor</th>\n",
       "      <td>46.083333</td>\n",
       "      <td>39772.500000</td>\n",
       "      <td>NaN</td>\n",
       "    </tr>\n",
       "    <tr>\n",
       "      <th>end2end</th>\n",
       "      <td>58.416667</td>\n",
       "      <td>39772.500000</td>\n",
       "      <td>NaN</td>\n",
       "    </tr>\n",
       "    <tr>\n",
       "      <th>reference</th>\n",
       "      <td>92.166667</td>\n",
       "      <td>39772.500000</td>\n",
       "      <td>NaN</td>\n",
       "    </tr>\n",
       "    <tr>\n",
       "      <th>style_transfer</th>\n",
       "      <td>69.000000</td>\n",
       "      <td>43997.333333</td>\n",
       "      <td>NaN</td>\n",
       "    </tr>\n",
       "    <tr>\n",
       "      <th rowspan=\"4\" valign=\"top\">b855b983-a931-4629-8617-a915d82251b0</th>\n",
       "      <th>anchor</th>\n",
       "      <td>63.666667</td>\n",
       "      <td>41300.916667</td>\n",
       "      <td>NaN</td>\n",
       "    </tr>\n",
       "    <tr>\n",
       "      <th>end2end</th>\n",
       "      <td>59.416667</td>\n",
       "      <td>41300.916667</td>\n",
       "      <td>NaN</td>\n",
       "    </tr>\n",
       "    <tr>\n",
       "      <th>reference</th>\n",
       "      <td>98.583333</td>\n",
       "      <td>41300.916667</td>\n",
       "      <td>NaN</td>\n",
       "    </tr>\n",
       "    <tr>\n",
       "      <th>style_transfer</th>\n",
       "      <td>96.000000</td>\n",
       "      <td>50642.666667</td>\n",
       "      <td>NaN</td>\n",
       "    </tr>\n",
       "    <tr>\n",
       "      <th rowspan=\"4\" valign=\"top\">f9840b36-a298-4e45-b879-75001199a675</th>\n",
       "      <th>anchor</th>\n",
       "      <td>30.833333</td>\n",
       "      <td>35570.583333</td>\n",
       "      <td>NaN</td>\n",
       "    </tr>\n",
       "    <tr>\n",
       "      <th>end2end</th>\n",
       "      <td>28.166667</td>\n",
       "      <td>35570.583333</td>\n",
       "      <td>NaN</td>\n",
       "    </tr>\n",
       "    <tr>\n",
       "      <th>reference</th>\n",
       "      <td>95.083333</td>\n",
       "      <td>35570.583333</td>\n",
       "      <td>NaN</td>\n",
       "    </tr>\n",
       "    <tr>\n",
       "      <th>style_transfer</th>\n",
       "      <td>55.000000</td>\n",
       "      <td>44597.666667</td>\n",
       "      <td>NaN</td>\n",
       "    </tr>\n",
       "  </tbody>\n",
       "</table>\n",
       "</div>"
      ],
      "text/plain": [
       "                                                      rating_score  \\\n",
       "session_uuid                         rating_stimulus                 \n",
       "13198be2-b8dc-451e-bca1-c1e09bcbcca2 anchor              48.500000   \n",
       "                                     end2end             47.916667   \n",
       "                                     reference           98.916667   \n",
       "                                     style_transfer      93.333333   \n",
       "223f9a4c-da61-42a2-abfd-1cf325c84876 anchor              61.416667   \n",
       "                                     end2end             67.666667   \n",
       "                                     reference           95.083333   \n",
       "                                     style_transfer      83.333333   \n",
       "782723df-c3a1-44a6-af8c-e03b47609747 anchor              56.583333   \n",
       "                                     end2end             73.416667   \n",
       "                                     reference           76.833333   \n",
       "                                     style_transfer      62.666667   \n",
       "89a8207e-d6fa-423f-ad62-6d16a7b93a42 anchor              52.333333   \n",
       "                                     end2end             46.750000   \n",
       "                                     reference           89.833333   \n",
       "                                     style_transfer      93.666667   \n",
       "90913ed2-88a6-4281-8318-b57a5d240915 anchor              71.333333   \n",
       "                                     end2end             76.250000   \n",
       "                                     reference           93.750000   \n",
       "                                     style_transfer      88.000000   \n",
       "a20f653e-d7fd-4f19-887b-06ad306a75ba anchor              40.833333   \n",
       "                                     end2end             29.500000   \n",
       "                                     reference           89.833333   \n",
       "                                     style_transfer      82.333333   \n",
       "b65e9a33-b3e8-4841-b327-86d737b762e9 anchor              46.083333   \n",
       "                                     end2end             58.416667   \n",
       "                                     reference           92.166667   \n",
       "                                     style_transfer      69.000000   \n",
       "b855b983-a931-4629-8617-a915d82251b0 anchor              63.666667   \n",
       "                                     end2end             59.416667   \n",
       "                                     reference           98.583333   \n",
       "                                     style_transfer      96.000000   \n",
       "f9840b36-a298-4e45-b879-75001199a675 anchor              30.833333   \n",
       "                                     end2end             28.166667   \n",
       "                                     reference           95.083333   \n",
       "                                     style_transfer      55.000000   \n",
       "\n",
       "                                                       rating_time  \\\n",
       "session_uuid                         rating_stimulus                 \n",
       "13198be2-b8dc-451e-bca1-c1e09bcbcca2 anchor           48144.166667   \n",
       "                                     end2end          48144.166667   \n",
       "                                     reference        48144.166667   \n",
       "                                     style_transfer   46499.000000   \n",
       "223f9a4c-da61-42a2-abfd-1cf325c84876 anchor           52822.500000   \n",
       "                                     end2end          52822.500000   \n",
       "                                     reference        52822.500000   \n",
       "                                     style_transfer   61877.333333   \n",
       "782723df-c3a1-44a6-af8c-e03b47609747 anchor           21398.250000   \n",
       "                                     end2end          21398.250000   \n",
       "                                     reference        21398.250000   \n",
       "                                     style_transfer   19018.666667   \n",
       "89a8207e-d6fa-423f-ad62-6d16a7b93a42 anchor           30450.000000   \n",
       "                                     end2end          30450.000000   \n",
       "                                     reference        30450.000000   \n",
       "                                     style_transfer   37781.666667   \n",
       "90913ed2-88a6-4281-8318-b57a5d240915 anchor           18225.333333   \n",
       "                                     end2end          18225.333333   \n",
       "                                     reference        18225.333333   \n",
       "                                     style_transfer   23132.333333   \n",
       "a20f653e-d7fd-4f19-887b-06ad306a75ba anchor           45739.833333   \n",
       "                                     end2end          45739.833333   \n",
       "                                     reference        45739.833333   \n",
       "                                     style_transfer   42809.333333   \n",
       "b65e9a33-b3e8-4841-b327-86d737b762e9 anchor           39772.500000   \n",
       "                                     end2end          39772.500000   \n",
       "                                     reference        39772.500000   \n",
       "                                     style_transfer   43997.333333   \n",
       "b855b983-a931-4629-8617-a915d82251b0 anchor           41300.916667   \n",
       "                                     end2end          41300.916667   \n",
       "                                     reference        41300.916667   \n",
       "                                     style_transfer   50642.666667   \n",
       "f9840b36-a298-4e45-b879-75001199a675 anchor           35570.583333   \n",
       "                                     end2end          35570.583333   \n",
       "                                     reference        35570.583333   \n",
       "                                     style_transfer   44597.666667   \n",
       "\n",
       "                                                      rating_comment  \n",
       "session_uuid                         rating_stimulus                  \n",
       "13198be2-b8dc-451e-bca1-c1e09bcbcca2 anchor                      NaN  \n",
       "                                     end2end                     NaN  \n",
       "                                     reference                   NaN  \n",
       "                                     style_transfer              NaN  \n",
       "223f9a4c-da61-42a2-abfd-1cf325c84876 anchor                      NaN  \n",
       "                                     end2end                     NaN  \n",
       "                                     reference                   NaN  \n",
       "                                     style_transfer              NaN  \n",
       "782723df-c3a1-44a6-af8c-e03b47609747 anchor                      NaN  \n",
       "                                     end2end                     NaN  \n",
       "                                     reference                   NaN  \n",
       "                                     style_transfer              NaN  \n",
       "89a8207e-d6fa-423f-ad62-6d16a7b93a42 anchor                      NaN  \n",
       "                                     end2end                     NaN  \n",
       "                                     reference                   NaN  \n",
       "                                     style_transfer              NaN  \n",
       "90913ed2-88a6-4281-8318-b57a5d240915 anchor                      NaN  \n",
       "                                     end2end                     NaN  \n",
       "                                     reference                   NaN  \n",
       "                                     style_transfer              NaN  \n",
       "a20f653e-d7fd-4f19-887b-06ad306a75ba anchor                      NaN  \n",
       "                                     end2end                     NaN  \n",
       "                                     reference                   NaN  \n",
       "                                     style_transfer              NaN  \n",
       "b65e9a33-b3e8-4841-b327-86d737b762e9 anchor                      NaN  \n",
       "                                     end2end                     NaN  \n",
       "                                     reference                   NaN  \n",
       "                                     style_transfer              NaN  \n",
       "b855b983-a931-4629-8617-a915d82251b0 anchor                      NaN  \n",
       "                                     end2end                     NaN  \n",
       "                                     reference                   NaN  \n",
       "                                     style_transfer              NaN  \n",
       "f9840b36-a298-4e45-b879-75001199a675 anchor                      NaN  \n",
       "                                     end2end                     NaN  \n",
       "                                     reference                   NaN  \n",
       "                                     style_transfer              NaN  "
      ]
     },
     "execution_count": 7,
     "metadata": {},
     "output_type": "execute_result"
    }
   ],
   "source": [
    "df.groupby(['session_uuid', 'rating_stimulus']).mean('rating_score')"
   ]
  },
  {
   "cell_type": "code",
   "execution_count": 8,
   "metadata": {},
   "outputs": [
    {
     "name": "stdout",
     "output_type": "stream",
     "text": [
      "Users took 24.29 mins (std: 7.71 mins) to complete the MUSHRA evaluation.\n"
     ]
    }
   ],
   "source": [
    "avg_mins = (df.groupby(['session_uuid']).sum('rating_time')['rating_time'] / (1000 * 60))\n",
    "\n",
    "print(f\"Users took {avg_mins.mean():.2f} mins (std: {avg_mins.std():.2f} mins) to complete the MUSHRA evaluation.\")"
   ]
  },
  {
   "cell_type": "code",
   "execution_count": 9,
   "metadata": {},
   "outputs": [],
   "source": [
    "def remove_anchor_reference_mix(df):\n",
    "    # Group the data by 'uuid' and 'trial_id'\n",
    "    df = df.reset_index()\n",
    "    grouped = df.groupby(['session_uuid', 'trial_id'])\n",
    "\n",
    "    # Create an empty list to store the indices of rows that meet the criteria\n",
    "    indices = []\n",
    "    num_instances = 0\n",
    "    names = []\n",
    "\n",
    "    # Iterate over each group\n",
    "    for name, group in grouped:\n",
    "        # Get the ratings for 'anchor' and 'reference' stimuli\n",
    "        anchor_rating = group[group['rating_stimulus'] == 'anchor']['rating_score'].values\n",
    "        ref_rating = group[group['rating_stimulus'] == 'reference']['rating_score'].values\n",
    "\n",
    "        # Check if the anchor rating is higher than the reference rating\n",
    "        if len(anchor_rating) > 0 and len(ref_rating) > 0 and anchor_rating[0] > ref_rating[0]:\n",
    "            num_instances += 1\n",
    "            # If so, add the indices of the rows to the list\n",
    "            indices.extend(list(group.index))\n",
    "            names.append(name)\n",
    "    \n",
    "    print(f\"{num_instances} user, trial pairs removed!\")\n",
    "    return df.drop(indices)"
   ]
  },
  {
   "cell_type": "code",
   "execution_count": 10,
   "metadata": {},
   "outputs": [
    {
     "name": "stdout",
     "output_type": "stream",
     "text": [
      "8 user, trial pairs removed!\n"
     ]
    }
   ],
   "source": [
    "df = remove_anchor_reference_mix(df)"
   ]
  },
  {
   "cell_type": "code",
   "execution_count": 11,
   "metadata": {},
   "outputs": [],
   "source": [
    "palette = sns.color_palette(n_colors=4).as_hex()\n",
    "names = ['end2end', 'style_transfer', 'reference', 'anchor']\n",
    "colour_map = {name: palette[i] for i, name in enumerate(names)}\n",
    "\n",
    "format_map = {\n",
    "    'end2end': 'End-to-end',\n",
    "    'anchor': 'Anchor',\n",
    "    'reference': 'Reference',\n",
    "    'style_transfer': 'DeepAFx-ST'\n",
    "}"
   ]
  },
  {
   "cell_type": "code",
   "execution_count": 12,
   "metadata": {},
   "outputs": [],
   "source": [
    "# def boxplot_effect(df, effect_name):\n",
    "#     fx = df[df['trial_id'].str.contains(effect_name.lower())]\n",
    "#     order = fx.groupby(by=[\"rating_stimulus\"])['rating_score'].median().sort_values().index\n",
    "    \n",
    "#     my_colours = [colour_map[fx] for fx in order]\n",
    "#     sns.set_palette(my_colours)\n",
    "    \n",
    "#     ax = sns.boxplot(fx, x='rating_stimulus', y='rating_score', order=order)\n",
    "    \n",
    "#     ax.set_xlabel(\"Rating Stimulus\")\n",
    "#     ax.set_ylabel(\"Rating Score\")\n",
    "#     ax.set_ylim([0,105])\n",
    "#     ax.yaxis.grid(True)\n",
    "    \n",
    "#     labels = [format_map[x] for x in order]\n",
    "#     ax.set_xticklabels(labels, \n",
    "# #                        rotation=20, \n",
    "# #                        fontsize=12\n",
    "#                       )\n",
    "    \n",
    "#     ax.set_title(effect_name.title())\n",
    "#     plt.show()"
   ]
  },
  {
   "cell_type": "code",
   "execution_count": 13,
   "metadata": {
    "scrolled": false
   },
   "outputs": [
    {
     "data": {
      "image/png": "[encoded data removed]",
      "text/plain": [
       "<Figure size 800x800 with 4 Axes>"
      ]
     },
     "metadata": {},
     "output_type": "display_data"
    }
   ],
   "source": [
    "fig, ax = plt.subplots(2,2, figsize=(8,8), sharey=True)\n",
    "\n",
    "effects = ['overdrive', 'multiband', 'ambience', 'delay']\n",
    "\n",
    "for i, effect_name in enumerate(effects):\n",
    "    row_idx, col_idx = divmod(i, 2)\n",
    "    current_ax = ax[row_idx, col_idx]\n",
    "    \n",
    "    fx = df[df['trial_id'].str.contains(effect_name.lower())]\n",
    "    order = fx.groupby(by=[\"rating_stimulus\"])['rating_score'].median().sort_values().index\n",
    "    \n",
    "    my_colours = [colour_map[fx] for fx in order]\n",
    "    sns.set_palette(my_colours)\n",
    "    \n",
    "    sns.boxplot(fx, x='rating_stimulus', y='rating_score', order=order, ax=current_ax, fliersize=0, width=.6)\n",
    "    sns.stripplot(fx, x='rating_stimulus', y='rating_score', order=order, ax=current_ax, color='k', size=3, alpha=.6)\n",
    "    \n",
    "    if col_idx == 0:\n",
    "        current_ax.set_ylabel(\"Rating Score\")\n",
    "    else:\n",
    "        current_ax.set_ylabel(\"\")\n",
    "        \n",
    "    if row_idx == 1:\n",
    "        current_ax.set_xlabel(\"\")\n",
    "    else:\n",
    "        current_ax.set_xlabel(\"\")\n",
    "    \n",
    "    current_ax.set_ylim([-5,105])\n",
    "    current_ax.yaxis.grid(True)\n",
    "    \n",
    "    labels = [format_map[x] for x in order]\n",
    "    current_ax.set_xticklabels(labels, \n",
    "                       rotation=20, \n",
    "                       fontsize=10\n",
    "                      )\n",
    "    \n",
    "    current_ax.set_title(effect_name.title(), fontsize=12)\n",
    "\n",
    "plt.tight_layout()\n",
    "plt.savefig(\"/home/kieran/Level5ProjectAudioVAE/src/evaluation/figures/mushra/mushra_strip.pdf\")"
   ]
  },
  {
   "cell_type": "code",
   "execution_count": 41,
   "metadata": {},
   "outputs": [],
   "source": [
    "e2e = df[(df['trial_id'].str.contains('multiband')) & (df['rating_stimulus'] == 'end2end')]['rating_score'].values\n",
    "rnd = df[(df['trial_id'].str.contains('multiband')) & (df['rating_stimulus'] == 'anchor')]['rating_score'].values\n",
    "st = df[(df['trial_id'].str.contains('multiband')) & (df['rating_stimulus'] == 'style_transfer')]['rating_score'].values"
   ]
  },
  {
   "cell_type": "code",
   "execution_count": 42,
   "metadata": {},
   "outputs": [
    {
     "data": {
      "text/plain": [
       "27"
      ]
     },
     "execution_count": 42,
     "metadata": {},
     "output_type": "execute_result"
    }
   ],
   "source": [
    "len(e2e)"
   ]
  },
  {
   "cell_type": "code",
   "execution_count": 43,
   "metadata": {},
   "outputs": [
    {
     "data": {
      "text/plain": [
       "27"
      ]
     },
     "execution_count": 43,
     "metadata": {},
     "output_type": "execute_result"
    }
   ],
   "source": [
    "len(rnd)"
   ]
  },
  {
   "cell_type": "code",
   "execution_count": 44,
   "metadata": {},
   "outputs": [],
   "source": [
    "from scipy.stats import ttest_ind"
   ]
  },
  {
   "cell_type": "code",
   "execution_count": 45,
   "metadata": {},
   "outputs": [
    {
     "data": {
      "text/plain": [
       "True"
      ]
     },
     "execution_count": 45,
     "metadata": {},
     "output_type": "execute_result"
    }
   ],
   "source": [
    "ttest_ind(e2e, rnd).pvalue < 1e-7"
   ]
  },
  {
   "cell_type": "code",
   "execution_count": 47,
   "metadata": {},
   "outputs": [
    {
     "data": {
      "text/plain": [
       "76.0"
      ]
     },
     "execution_count": 47,
     "metadata": {},
     "output_type": "execute_result"
    }
   ],
   "source": [
    "import numpy as np\n",
    "\n",
    "np.mean(e2e)"
   ]
  },
  {
   "cell_type": "code",
   "execution_count": 48,
   "metadata": {},
   "outputs": [
    {
     "data": {
      "text/plain": [
       "80.37037037037037"
      ]
     },
     "execution_count": 48,
     "metadata": {},
     "output_type": "execute_result"
    }
   ],
   "source": [
    "np.mean(st)"
   ]
  },
  {
   "cell_type": "code",
   "execution_count": 49,
   "metadata": {},
   "outputs": [
    {
     "data": {
      "text/plain": [
       "0.9456221198156682"
      ]
     },
     "execution_count": 49,
     "metadata": {},
     "output_type": "execute_result"
    }
   ],
   "source": [
    "np.mean(e2e)/np.mean(st)"
   ]
  },
  {
   "cell_type": "code",
   "execution_count": null,
   "metadata": {},
   "outputs": [],
   "source": [
    "fig, ax = plt.subplots(2,2, figsize=(8,8), sharey=True)\n",
    "\n",
    "effects = ['overdrive', 'multiband', 'ambience', 'delay']\n",
    "\n",
    "for i, effect_name in enumerate(effects):\n",
    "    row_idx, col_idx = divmod(i, 2)\n",
    "    current_ax = ax[row_idx, col_idx]\n",
    "    \n",
    "    fx = df[df['trial_id'].str.contains(effect_name.lower())]\n",
    "    order = fx.groupby(by=[\"rating_stimulus\"])['rating_score'].median().sort_values().index\n",
    "    \n",
    "    my_colours = [colour_map[fx] for fx in order]\n",
    "    sns.set_palette(my_colours)\n",
    "    \n",
    "    sns.boxplot(fx, x='rating_stimulus', y='rating_score', order=order, ax=current_ax, fliersize=0, width=.6)\n",
    "    sns.stripplot(fx, x='rating_stimulus', y='rating_score', order=order, ax=current_ax, color='k', size=3, alpha=.6)\n",
    "    \n",
    "    if col_idx == 0:\n",
    "        current_ax.set_ylabel(\"Rating Score\")\n",
    "    else:\n",
    "        current_ax.set_ylabel(\"\")\n",
    "        \n",
    "    if row_idx == 1:\n",
    "        current_ax.set_xlabel(\"\")\n",
    "    else:\n",
    "        current_ax.set_xlabel(\"\")\n",
    "    \n",
    "    current_ax.set_ylim([-5,105])\n",
    "    current_ax.yaxis.grid(True)\n",
    "    \n",
    "    labels = [format_map[x] for x in order]\n",
    "    current_ax.set_xticklabels(labels, \n",
    "                       rotation=20, \n",
    "                       fontsize=10\n",
    "                      )\n",
    "    \n",
    "    current_ax.set_title(effect_name.title(), fontsize=12)\n",
    "\n",
    "plt.tight_layout()\n",
    "plt.savefig(\"/home/kieran/Level5ProjectAudioVAE/src/evaluation/figures/mushra/mushra_strip.pdf\")"
   ]
  },
  {
   "cell_type": "code",
   "execution_count": 19,
   "metadata": {},
   "outputs": [],
   "source": [
    "# boxplot_effect(df, 'overdrive')"
   ]
  },
  {
   "cell_type": "code",
   "execution_count": 20,
   "metadata": {},
   "outputs": [],
   "source": [
    "# boxplot_effect(df, 'multiband')"
   ]
  },
  {
   "cell_type": "code",
   "execution_count": 33,
   "metadata": {},
   "outputs": [],
   "source": [
    "# boxplot_effect(df, 'delay')"
   ]
  },
  {
   "cell_type": "code",
   "execution_count": 34,
   "metadata": {},
   "outputs": [],
   "source": [
    "# boxplot_effect(df, 'ambience')"
   ]
  },
  {
   "cell_type": "code",
   "execution_count": null,
   "metadata": {},
   "outputs": [],
   "source": []
  }
 ],
 "metadata": {
  "kernelspec": {
   "display_name": "Python 3 (ipykernel)",
   "language": "python",
   "name": "python3"
  },
  "language_info": {
   "codemirror_mode": {
    "name": "ipython",
    "version": 3
   },
   "file_extension": ".py",
   "mimetype": "text/x-python",
   "name": "python",
   "nbconvert_exporter": "python",
   "pygments_lexer": "ipython3",
   "version": "3.10.6"
  }
 },
 "nbformat": 4,
 "nbformat_minor": 1
}
