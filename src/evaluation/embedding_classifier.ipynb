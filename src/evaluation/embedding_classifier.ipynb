{
 "cells": [
  {
   "cell_type": "code",
   "execution_count": 77,
   "metadata": {
    "collapsed": true
   },
   "outputs": [],
   "source": [
    "import numpy as np\n",
    "import pandas as pd\n",
    "import seaborn as sns\n",
    "import matplotlib.pyplot as plt\n",
    "import pickle\n",
    "\n",
    "from sklearn.model_selection import train_test_split\n",
    "from sklearn.ensemble import RandomForestClassifier\n",
    "from sklearn.metrics import confusion_matrix, f1_score"
   ]
  },
  {
   "cell_type": "code",
   "execution_count": 151,
   "metadata": {},
   "outputs": [],
   "source": [
    "IN_DATA_DIR = \"/home/kieran/Level5ProjectAudioVAE/src/evaluation/data/dafx_latent_extraction\"\n",
    "OUT_DATA_DIR = \"/home/kieran/Level5ProjectAudioVAE/src/evaluation/data/embedding_classifier\""
   ]
  },
  {
   "cell_type": "code",
   "execution_count": 25,
   "metadata": {},
   "outputs": [],
   "source": [
    "emb = np.load(f\"{IN_DATA_DIR}/emb_data.npy\")\n",
    "pca = np.load(f\"{IN_DATA_DIR}/pca_features.npy\")\n",
    "labels = np.load(f\"{IN_DATA_DIR}/labels.npy\")"
   ]
  },
  {
   "cell_type": "code",
   "execution_count": 117,
   "metadata": {},
   "outputs": [],
   "source": [
    "with open(f'{IN_DATA_DIR}/label_mapping.pkl', 'rb') as handle:\n",
    "    m = pickle.load(handle)"
   ]
  },
  {
   "cell_type": "code",
   "execution_count": 120,
   "metadata": {},
   "outputs": [],
   "source": [
    "dafx_name_format = {\n",
    "     'mda Ambience': 'Ambience',\n",
    "     'mda Combo': 'Combo',\n",
    "     'mda Delay': 'Delay',\n",
    "     'mda Dynamics': 'Dynamics',\n",
    "     'mda Overdrive': 'Overdrive',\n",
    "     'mda RingMod': 'RingMod',\n",
    "}"
   ]
  },
  {
   "cell_type": "code",
   "execution_count": 123,
   "metadata": {},
   "outputs": [],
   "source": [
    "mapping = {v: dafx_name_format[k] for k, v in m.items()}"
   ]
  },
  {
   "cell_type": "code",
   "execution_count": 124,
   "metadata": {},
   "outputs": [
    {
     "data": {
      "text/plain": [
       "{0: 'Ambience',\n",
       " 1: 'Combo',\n",
       " 2: 'Delay',\n",
       " 3: 'Dynamics',\n",
       " 4: 'Overdrive',\n",
       " 5: 'RingMod'}"
      ]
     },
     "execution_count": 124,
     "metadata": {},
     "output_type": "execute_result"
    }
   ],
   "source": [
    "mapping"
   ]
  },
  {
   "cell_type": "code",
   "execution_count": 27,
   "metadata": {},
   "outputs": [
    {
     "name": "stdout",
     "output_type": "stream",
     "text": [
      "Model embedding shape:  (6000, 128)\n",
      "PCA embedding shape:  (6000, 128)\n",
      "Label shape: (6000,)\n"
     ]
    }
   ],
   "source": [
    "print(\"Model embedding shape: \", emb.shape)\n",
    "print(\"PCA embedding shape: \", pca.shape)\n",
    "print(\"Label shape:\", labels.shape)"
   ]
  },
  {
   "cell_type": "code",
   "execution_count": 31,
   "metadata": {},
   "outputs": [],
   "source": [
    "X_emb = pd.DataFrame(emb)\n",
    "X_pca = pd.DataFrame(pca)\n",
    "y = pd.Series(labels)"
   ]
  },
  {
   "cell_type": "code",
   "execution_count": 59,
   "metadata": {},
   "outputs": [],
   "source": [
    "X_emb_train, X_emb_test, y_train, y_test = train_test_split(X_emb, y, test_size=.15)"
   ]
  },
  {
   "cell_type": "code",
   "execution_count": 60,
   "metadata": {},
   "outputs": [],
   "source": [
    "X_pca_train = X_pca.iloc[X_emb_train.index]\n",
    "X_pca_test = X_pca.iloc[X_emb_test.index]"
   ]
  },
  {
   "cell_type": "code",
   "execution_count": 61,
   "metadata": {},
   "outputs": [
    {
     "name": "stdout",
     "output_type": "stream",
     "text": [
      "Train size: 5100\n",
      "Test size: 900\n"
     ]
    }
   ],
   "source": [
    "print(f\"Train size: {len(X_pca_train)}\")\n",
    "print(f\"Test size: {len(X_pca_test)}\")"
   ]
  },
  {
   "cell_type": "code",
   "execution_count": 91,
   "metadata": {},
   "outputs": [],
   "source": [
    "model_emb = RandomForestClassifier()\n",
    "model_pca = RandomForestClassifier()"
   ]
  },
  {
   "cell_type": "code",
   "execution_count": 92,
   "metadata": {},
   "outputs": [
    {
     "data": {
      "text/html": [
       "<style>#sk-container-id-4 {color: black;background-color: white;}#sk-container-id-4 pre{padding: 0;}#sk-container-id-4 div.sk-toggleable {background-color: white;}#sk-container-id-4 label.sk-toggleable__label {cursor: pointer;display: block;width: 100%;margin-bottom: 0;padding: 0.3em;box-sizing: border-box;text-align: center;}#sk-container-id-4 label.sk-toggleable__label-arrow:before {content: \"▸\";float: left;margin-right: 0.25em;color: #696969;}#sk-container-id-4 label.sk-toggleable__label-arrow:hover:before {color: black;}#sk-container-id-4 div.sk-estimator:hover label.sk-toggleable__label-arrow:before {color: black;}#sk-container-id-4 div.sk-toggleable__content {max-height: 0;max-width: 0;overflow: hidden;text-align: left;background-color: #f0f8ff;}#sk-container-id-4 div.sk-toggleable__content pre {margin: 0.2em;color: black;border-radius: 0.25em;background-color: #f0f8ff;}#sk-container-id-4 input.sk-toggleable__control:checked~div.sk-toggleable__content {max-height: 200px;max-width: 100%;overflow: auto;}#sk-container-id-4 input.sk-toggleable__control:checked~label.sk-toggleable__label-arrow:before {content: \"▾\";}#sk-container-id-4 div.sk-estimator input.sk-toggleable__control:checked~label.sk-toggleable__label {background-color: #d4ebff;}#sk-container-id-4 div.sk-label input.sk-toggleable__control:checked~label.sk-toggleable__label {background-color: #d4ebff;}#sk-container-id-4 input.sk-hidden--visually {border: 0;clip: rect(1px 1px 1px 1px);clip: rect(1px, 1px, 1px, 1px);height: 1px;margin: -1px;overflow: hidden;padding: 0;position: absolute;width: 1px;}#sk-container-id-4 div.sk-estimator {font-family: monospace;background-color: #f0f8ff;border: 1px dotted black;border-radius: 0.25em;box-sizing: border-box;margin-bottom: 0.5em;}#sk-container-id-4 div.sk-estimator:hover {background-color: #d4ebff;}#sk-container-id-4 div.sk-parallel-item::after {content: \"\";width: 100%;border-bottom: 1px solid gray;flex-grow: 1;}#sk-container-id-4 div.sk-label:hover label.sk-toggleable__label {background-color: #d4ebff;}#sk-container-id-4 div.sk-serial::before {content: \"\";position: absolute;border-left: 1px solid gray;box-sizing: border-box;top: 0;bottom: 0;left: 50%;z-index: 0;}#sk-container-id-4 div.sk-serial {display: flex;flex-direction: column;align-items: center;background-color: white;padding-right: 0.2em;padding-left: 0.2em;position: relative;}#sk-container-id-4 div.sk-item {position: relative;z-index: 1;}#sk-container-id-4 div.sk-parallel {display: flex;align-items: stretch;justify-content: center;background-color: white;position: relative;}#sk-container-id-4 div.sk-item::before, #sk-container-id-4 div.sk-parallel-item::before {content: \"\";position: absolute;border-left: 1px solid gray;box-sizing: border-box;top: 0;bottom: 0;left: 50%;z-index: -1;}#sk-container-id-4 div.sk-parallel-item {display: flex;flex-direction: column;z-index: 1;position: relative;background-color: white;}#sk-container-id-4 div.sk-parallel-item:first-child::after {align-self: flex-end;width: 50%;}#sk-container-id-4 div.sk-parallel-item:last-child::after {align-self: flex-start;width: 50%;}#sk-container-id-4 div.sk-parallel-item:only-child::after {width: 0;}#sk-container-id-4 div.sk-dashed-wrapped {border: 1px dashed gray;margin: 0 0.4em 0.5em 0.4em;box-sizing: border-box;padding-bottom: 0.4em;background-color: white;}#sk-container-id-4 div.sk-label label {font-family: monospace;font-weight: bold;display: inline-block;line-height: 1.2em;}#sk-container-id-4 div.sk-label-container {text-align: center;}#sk-container-id-4 div.sk-container {/* jupyter's `normalize.less` sets `[hidden] { display: none; }` but bootstrap.min.css set `[hidden] { display: none !important; }` so we also need the `!important` here to be able to override the default hidden behavior on the sphinx rendered scikit-learn.org. See: https://github.com/scikit-learn/scikit-learn/issues/21755 */display: inline-block !important;position: relative;}#sk-container-id-4 div.sk-text-repr-fallback {display: none;}</style><div id=\"sk-container-id-4\" class=\"sk-top-container\"><div class=\"sk-text-repr-fallback\"><pre>RandomForestClassifier()</pre><b>In a Jupyter environment, please rerun this cell to show the HTML representation or trust the notebook. <br />On GitHub, the HTML representation is unable to render, please try loading this page with nbviewer.org.</b></div><div class=\"sk-container\" hidden><div class=\"sk-item\"><div class=\"sk-estimator sk-toggleable\"><input class=\"sk-toggleable__control sk-hidden--visually\" id=\"sk-estimator-id-4\" type=\"checkbox\" checked><label for=\"sk-estimator-id-4\" class=\"sk-toggleable__label sk-toggleable__label-arrow\">RandomForestClassifier</label><div class=\"sk-toggleable__content\"><pre>RandomForestClassifier()</pre></div></div></div></div></div>"
      ],
      "text/plain": [
       "RandomForestClassifier()"
      ]
     },
     "execution_count": 92,
     "metadata": {},
     "output_type": "execute_result"
    }
   ],
   "source": [
    "model_emb.fit(X_emb_train, y_train)"
   ]
  },
  {
   "cell_type": "code",
   "execution_count": 93,
   "metadata": {},
   "outputs": [
    {
     "data": {
      "text/html": [
       "<style>#sk-container-id-5 {color: black;background-color: white;}#sk-container-id-5 pre{padding: 0;}#sk-container-id-5 div.sk-toggleable {background-color: white;}#sk-container-id-5 label.sk-toggleable__label {cursor: pointer;display: block;width: 100%;margin-bottom: 0;padding: 0.3em;box-sizing: border-box;text-align: center;}#sk-container-id-5 label.sk-toggleable__label-arrow:before {content: \"▸\";float: left;margin-right: 0.25em;color: #696969;}#sk-container-id-5 label.sk-toggleable__label-arrow:hover:before {color: black;}#sk-container-id-5 div.sk-estimator:hover label.sk-toggleable__label-arrow:before {color: black;}#sk-container-id-5 div.sk-toggleable__content {max-height: 0;max-width: 0;overflow: hidden;text-align: left;background-color: #f0f8ff;}#sk-container-id-5 div.sk-toggleable__content pre {margin: 0.2em;color: black;border-radius: 0.25em;background-color: #f0f8ff;}#sk-container-id-5 input.sk-toggleable__control:checked~div.sk-toggleable__content {max-height: 200px;max-width: 100%;overflow: auto;}#sk-container-id-5 input.sk-toggleable__control:checked~label.sk-toggleable__label-arrow:before {content: \"▾\";}#sk-container-id-5 div.sk-estimator input.sk-toggleable__control:checked~label.sk-toggleable__label {background-color: #d4ebff;}#sk-container-id-5 div.sk-label input.sk-toggleable__control:checked~label.sk-toggleable__label {background-color: #d4ebff;}#sk-container-id-5 input.sk-hidden--visually {border: 0;clip: rect(1px 1px 1px 1px);clip: rect(1px, 1px, 1px, 1px);height: 1px;margin: -1px;overflow: hidden;padding: 0;position: absolute;width: 1px;}#sk-container-id-5 div.sk-estimator {font-family: monospace;background-color: #f0f8ff;border: 1px dotted black;border-radius: 0.25em;box-sizing: border-box;margin-bottom: 0.5em;}#sk-container-id-5 div.sk-estimator:hover {background-color: #d4ebff;}#sk-container-id-5 div.sk-parallel-item::after {content: \"\";width: 100%;border-bottom: 1px solid gray;flex-grow: 1;}#sk-container-id-5 div.sk-label:hover label.sk-toggleable__label {background-color: #d4ebff;}#sk-container-id-5 div.sk-serial::before {content: \"\";position: absolute;border-left: 1px solid gray;box-sizing: border-box;top: 0;bottom: 0;left: 50%;z-index: 0;}#sk-container-id-5 div.sk-serial {display: flex;flex-direction: column;align-items: center;background-color: white;padding-right: 0.2em;padding-left: 0.2em;position: relative;}#sk-container-id-5 div.sk-item {position: relative;z-index: 1;}#sk-container-id-5 div.sk-parallel {display: flex;align-items: stretch;justify-content: center;background-color: white;position: relative;}#sk-container-id-5 div.sk-item::before, #sk-container-id-5 div.sk-parallel-item::before {content: \"\";position: absolute;border-left: 1px solid gray;box-sizing: border-box;top: 0;bottom: 0;left: 50%;z-index: -1;}#sk-container-id-5 div.sk-parallel-item {display: flex;flex-direction: column;z-index: 1;position: relative;background-color: white;}#sk-container-id-5 div.sk-parallel-item:first-child::after {align-self: flex-end;width: 50%;}#sk-container-id-5 div.sk-parallel-item:last-child::after {align-self: flex-start;width: 50%;}#sk-container-id-5 div.sk-parallel-item:only-child::after {width: 0;}#sk-container-id-5 div.sk-dashed-wrapped {border: 1px dashed gray;margin: 0 0.4em 0.5em 0.4em;box-sizing: border-box;padding-bottom: 0.4em;background-color: white;}#sk-container-id-5 div.sk-label label {font-family: monospace;font-weight: bold;display: inline-block;line-height: 1.2em;}#sk-container-id-5 div.sk-label-container {text-align: center;}#sk-container-id-5 div.sk-container {/* jupyter's `normalize.less` sets `[hidden] { display: none; }` but bootstrap.min.css set `[hidden] { display: none !important; }` so we also need the `!important` here to be able to override the default hidden behavior on the sphinx rendered scikit-learn.org. See: https://github.com/scikit-learn/scikit-learn/issues/21755 */display: inline-block !important;position: relative;}#sk-container-id-5 div.sk-text-repr-fallback {display: none;}</style><div id=\"sk-container-id-5\" class=\"sk-top-container\"><div class=\"sk-text-repr-fallback\"><pre>RandomForestClassifier()</pre><b>In a Jupyter environment, please rerun this cell to show the HTML representation or trust the notebook. <br />On GitHub, the HTML representation is unable to render, please try loading this page with nbviewer.org.</b></div><div class=\"sk-container\" hidden><div class=\"sk-item\"><div class=\"sk-estimator sk-toggleable\"><input class=\"sk-toggleable__control sk-hidden--visually\" id=\"sk-estimator-id-5\" type=\"checkbox\" checked><label for=\"sk-estimator-id-5\" class=\"sk-toggleable__label sk-toggleable__label-arrow\">RandomForestClassifier</label><div class=\"sk-toggleable__content\"><pre>RandomForestClassifier()</pre></div></div></div></div></div>"
      ],
      "text/plain": [
       "RandomForestClassifier()"
      ]
     },
     "execution_count": 93,
     "metadata": {},
     "output_type": "execute_result"
    }
   ],
   "source": [
    "model_pca.fit(X_pca_train, y_train)"
   ]
  },
  {
   "cell_type": "code",
   "execution_count": 94,
   "metadata": {},
   "outputs": [],
   "source": [
    "y_emb_hat = model_emb.predict(X_emb_test)"
   ]
  },
  {
   "cell_type": "code",
   "execution_count": 95,
   "metadata": {},
   "outputs": [],
   "source": [
    "y_pca_hat = model_emb.predict(X_pca_test)"
   ]
  },
  {
   "cell_type": "code",
   "execution_count": 109,
   "metadata": {},
   "outputs": [],
   "source": [
    "cm_emb = confusion_matrix(y_test, y_emb_hat, normalize='true')\n",
    "cm_pca = confusion_matrix(y_test, y_pca_hat, normalize='true')"
   ]
  },
  {
   "cell_type": "code",
   "execution_count": 110,
   "metadata": {},
   "outputs": [
    {
     "data": {
      "image/png": "[encoded data removed]",
      "text/plain": [
       "<Figure size 640x480 with 2 Axes>"
      ]
     },
     "metadata": {},
     "output_type": "display_data"
    }
   ],
   "source": [
    "sns.heatmap(cm_emb, annot=True)\n",
    "plt.show()"
   ]
  },
  {
   "cell_type": "code",
   "execution_count": 111,
   "metadata": {},
   "outputs": [
    {
     "data": {
      "image/png": "[encoded data removed]",
      "text/plain": [
       "<Figure size 640x480 with 2 Axes>"
      ]
     },
     "metadata": {},
     "output_type": "display_data"
    }
   ],
   "source": [
    "sns.heatmap(cm_pca, annot=True)\n",
    "plt.show()"
   ]
  },
  {
   "cell_type": "code",
   "execution_count": 143,
   "metadata": {},
   "outputs": [],
   "source": [
    "def sub_df_from_metrics(emb_type, y, y_hat, label_mapping):\n",
    "    f1 = f1_score(y, y_hat, average=None).T\n",
    "    cm = confusion_matrix(y, y_hat)\n",
    "    acc = cm.diagonal()/cm.sum(axis=1).T\n",
    "    fx_labels = np.array([label_mapping[i] for i in range(len(label_mapping))]).T\n",
    "\n",
    "    df = pd.DataFrame({'DAFX': fx_labels, 'Acc': acc, 'F1': f1})\n",
    "    df = df.set_index('DAFX')\n",
    "    df.columns = pd.MultiIndex.from_product([[emb_type], df.columns])\n",
    "\n",
    "    return df"
   ]
  },
  {
   "cell_type": "code",
   "execution_count": 146,
   "metadata": {},
   "outputs": [],
   "source": [
    "emb_metrics_df = sub_df_from_metrics('Our model', y_test, y_emb_hat, mapping)"
   ]
  },
  {
   "cell_type": "code",
   "execution_count": 147,
   "metadata": {},
   "outputs": [],
   "source": [
    "pca_metrics_df = sub_df_from_metrics('PCA', y_test, y_pca_hat, mapping)"
   ]
  },
  {
   "cell_type": "code",
   "execution_count": 149,
   "metadata": {},
   "outputs": [],
   "source": [
    "metrics_df = pd.concat([emb_metrics_df, pca_metrics_df], axis=1)"
   ]
  },
  {
   "cell_type": "code",
   "execution_count": 152,
   "metadata": {},
   "outputs": [],
   "source": [
    "metrics_df.to_csv(f\"{OUT_DATA_DIR}/classifier_metrics.csv\")"
   ]
  },
  {
   "cell_type": "code",
   "execution_count": 154,
   "metadata": {},
   "outputs": [
    {
     "data": {
      "text/html": [
       "<div>\n",
       "<style scoped>\n",
       "    .dataframe tbody tr th:only-of-type {\n",
       "        vertical-align: middle;\n",
       "    }\n",
       "\n",
       "    .dataframe tbody tr th {\n",
       "        vertical-align: top;\n",
       "    }\n",
       "\n",
       "    .dataframe thead tr th {\n",
       "        text-align: left;\n",
       "    }\n",
       "\n",
       "    .dataframe thead tr:last-of-type th {\n",
       "        text-align: right;\n",
       "    }\n",
       "</style>\n",
       "<table border=\"1\" class=\"dataframe\">\n",
       "  <thead>\n",
       "    <tr>\n",
       "      <th></th>\n",
       "      <th colspan=\"2\" halign=\"left\">Our model</th>\n",
       "      <th colspan=\"2\" halign=\"left\">PCA</th>\n",
       "    </tr>\n",
       "    <tr>\n",
       "      <th></th>\n",
       "      <th>Acc</th>\n",
       "      <th>F1</th>\n",
       "      <th>Acc</th>\n",
       "      <th>F1</th>\n",
       "    </tr>\n",
       "    <tr>\n",
       "      <th>DAFX</th>\n",
       "      <th></th>\n",
       "      <th></th>\n",
       "      <th></th>\n",
       "      <th></th>\n",
       "    </tr>\n",
       "  </thead>\n",
       "  <tbody>\n",
       "    <tr>\n",
       "      <th>Ambience</th>\n",
       "      <td>0.582278</td>\n",
       "      <td>0.647887</td>\n",
       "      <td>0.246835</td>\n",
       "      <td>0.193069</td>\n",
       "    </tr>\n",
       "    <tr>\n",
       "      <th>Combo</th>\n",
       "      <td>1.000000</td>\n",
       "      <td>1.000000</td>\n",
       "      <td>0.167939</td>\n",
       "      <td>0.145695</td>\n",
       "    </tr>\n",
       "    <tr>\n",
       "      <th>Delay</th>\n",
       "      <td>0.973333</td>\n",
       "      <td>0.935897</td>\n",
       "      <td>0.006667</td>\n",
       "      <td>0.012821</td>\n",
       "    </tr>\n",
       "    <tr>\n",
       "      <th>Dynamics</th>\n",
       "      <td>0.718121</td>\n",
       "      <td>0.690323</td>\n",
       "      <td>0.087248</td>\n",
       "      <td>0.095941</td>\n",
       "    </tr>\n",
       "    <tr>\n",
       "      <th>Overdrive</th>\n",
       "      <td>0.980892</td>\n",
       "      <td>0.956522</td>\n",
       "      <td>0.000000</td>\n",
       "      <td>0.000000</td>\n",
       "    </tr>\n",
       "    <tr>\n",
       "      <th>RingMod</th>\n",
       "      <td>1.000000</td>\n",
       "      <td>1.000000</td>\n",
       "      <td>0.380645</td>\n",
       "      <td>0.231373</td>\n",
       "    </tr>\n",
       "  </tbody>\n",
       "</table>\n",
       "</div>"
      ],
      "text/plain": [
       "          Our model                 PCA          \n",
       "                Acc        F1       Acc        F1\n",
       "DAFX                                             \n",
       "Ambience   0.582278  0.647887  0.246835  0.193069\n",
       "Combo      1.000000  1.000000  0.167939  0.145695\n",
       "Delay      0.973333  0.935897  0.006667  0.012821\n",
       "Dynamics   0.718121  0.690323  0.087248  0.095941\n",
       "Overdrive  0.980892  0.956522  0.000000  0.000000\n",
       "RingMod    1.000000  1.000000  0.380645  0.231373"
      ]
     },
     "execution_count": 154,
     "metadata": {},
     "output_type": "execute_result"
    }
   ],
   "source": [
    "metrics_df"
   ]
  },
  {
   "cell_type": "code",
   "execution_count": 163,
   "metadata": {},
   "outputs": [],
   "source": [
    "blue_cm = sns.light_palette(\"blue\", as_cmap=True)\n",
    "\n",
    "styler = metrics_df.style\\\n",
    "        .background_gradient(cmap=blue_cm, vmin=0, vmax=1)\\\n",
    "        .set_properties(**{'text-align': 'center',\n",
    "                           'font-family': \"Calibri\",})\\\n",
    "        .format(na_rep='', precision=2)"
   ]
  },
  {
   "cell_type": "code",
   "execution_count": 164,
   "metadata": {},
   "outputs": [
    {
     "data": {
      "text/html": [
       "<style type=\"text/css\">\n",
       "#T_ee6e7_row0_col0 {\n",
       "  background-color: #6464fa;\n",
       "  color: #f1f1f1;\n",
       "  text-align: center;\n",
       "  font-family: Calibri;\n",
       "}\n",
       "#T_ee6e7_row0_col1 {\n",
       "  background-color: #5555fb;\n",
       "  color: #f1f1f1;\n",
       "  text-align: center;\n",
       "  font-family: Calibri;\n",
       "}\n",
       "#T_ee6e7_row0_col2 {\n",
       "  background-color: #b5b5f6;\n",
       "  color: #000000;\n",
       "  text-align: center;\n",
       "  font-family: Calibri;\n",
       "}\n",
       "#T_ee6e7_row0_col3 {\n",
       "  background-color: #c2c2f5;\n",
       "  color: #000000;\n",
       "  text-align: center;\n",
       "  font-family: Calibri;\n",
       "}\n",
       "#T_ee6e7_row1_col0, #T_ee6e7_row1_col1, #T_ee6e7_row5_col0, #T_ee6e7_row5_col1 {\n",
       "  background-color: #0000ff;\n",
       "  color: #f1f1f1;\n",
       "  text-align: center;\n",
       "  font-family: Calibri;\n",
       "}\n",
       "#T_ee6e7_row1_col2 {\n",
       "  background-color: #c9c9f5;\n",
       "  color: #000000;\n",
       "  text-align: center;\n",
       "  font-family: Calibri;\n",
       "}\n",
       "#T_ee6e7_row1_col3 {\n",
       "  background-color: #cecef5;\n",
       "  color: #000000;\n",
       "  text-align: center;\n",
       "  font-family: Calibri;\n",
       "}\n",
       "#T_ee6e7_row2_col0 {\n",
       "  background-color: #0606ff;\n",
       "  color: #f1f1f1;\n",
       "  text-align: center;\n",
       "  font-family: Calibri;\n",
       "}\n",
       "#T_ee6e7_row2_col1 {\n",
       "  background-color: #0f0ffe;\n",
       "  color: #f1f1f1;\n",
       "  text-align: center;\n",
       "  font-family: Calibri;\n",
       "}\n",
       "#T_ee6e7_row2_col2 {\n",
       "  background-color: #efeff3;\n",
       "  color: #000000;\n",
       "  text-align: center;\n",
       "  font-family: Calibri;\n",
       "}\n",
       "#T_ee6e7_row2_col3 {\n",
       "  background-color: #eeeef3;\n",
       "  color: #000000;\n",
       "  text-align: center;\n",
       "  font-family: Calibri;\n",
       "}\n",
       "#T_ee6e7_row3_col0 {\n",
       "  background-color: #4444fc;\n",
       "  color: #f1f1f1;\n",
       "  text-align: center;\n",
       "  font-family: Calibri;\n",
       "}\n",
       "#T_ee6e7_row3_col1 {\n",
       "  background-color: #4a4afb;\n",
       "  color: #f1f1f1;\n",
       "  text-align: center;\n",
       "  font-family: Calibri;\n",
       "}\n",
       "#T_ee6e7_row3_col2 {\n",
       "  background-color: #dcdcf4;\n",
       "  color: #000000;\n",
       "  text-align: center;\n",
       "  font-family: Calibri;\n",
       "}\n",
       "#T_ee6e7_row3_col3 {\n",
       "  background-color: #dadaf4;\n",
       "  color: #000000;\n",
       "  text-align: center;\n",
       "  font-family: Calibri;\n",
       "}\n",
       "#T_ee6e7_row4_col0 {\n",
       "  background-color: #0404ff;\n",
       "  color: #f1f1f1;\n",
       "  text-align: center;\n",
       "  font-family: Calibri;\n",
       "}\n",
       "#T_ee6e7_row4_col1 {\n",
       "  background-color: #0a0afe;\n",
       "  color: #f1f1f1;\n",
       "  text-align: center;\n",
       "  font-family: Calibri;\n",
       "}\n",
       "#T_ee6e7_row4_col2, #T_ee6e7_row4_col3 {\n",
       "  background-color: #f0f0f3;\n",
       "  color: #000000;\n",
       "  text-align: center;\n",
       "  font-family: Calibri;\n",
       "}\n",
       "#T_ee6e7_row5_col2 {\n",
       "  background-color: #9595f7;\n",
       "  color: #f1f1f1;\n",
       "  text-align: center;\n",
       "  font-family: Calibri;\n",
       "}\n",
       "#T_ee6e7_row5_col3 {\n",
       "  background-color: #b9b9f6;\n",
       "  color: #000000;\n",
       "  text-align: center;\n",
       "  font-family: Calibri;\n",
       "}\n",
       "</style>\n",
       "<table id=\"T_ee6e7\">\n",
       "  <thead>\n",
       "    <tr>\n",
       "      <th class=\"blank level0\" >&nbsp;</th>\n",
       "      <th id=\"T_ee6e7_level0_col0\" class=\"col_heading level0 col0\" colspan=\"2\">Our model</th>\n",
       "      <th id=\"T_ee6e7_level0_col2\" class=\"col_heading level0 col2\" colspan=\"2\">PCA</th>\n",
       "    </tr>\n",
       "    <tr>\n",
       "      <th class=\"blank level1\" >&nbsp;</th>\n",
       "      <th id=\"T_ee6e7_level1_col0\" class=\"col_heading level1 col0\" >Acc</th>\n",
       "      <th id=\"T_ee6e7_level1_col1\" class=\"col_heading level1 col1\" >F1</th>\n",
       "      <th id=\"T_ee6e7_level1_col2\" class=\"col_heading level1 col2\" >Acc</th>\n",
       "      <th id=\"T_ee6e7_level1_col3\" class=\"col_heading level1 col3\" >F1</th>\n",
       "    </tr>\n",
       "    <tr>\n",
       "      <th class=\"index_name level0\" >DAFX</th>\n",
       "      <th class=\"blank col0\" >&nbsp;</th>\n",
       "      <th class=\"blank col1\" >&nbsp;</th>\n",
       "      <th class=\"blank col2\" >&nbsp;</th>\n",
       "      <th class=\"blank col3\" >&nbsp;</th>\n",
       "    </tr>\n",
       "  </thead>\n",
       "  <tbody>\n",
       "    <tr>\n",
       "      <th id=\"T_ee6e7_level0_row0\" class=\"row_heading level0 row0\" >Ambience</th>\n",
       "      <td id=\"T_ee6e7_row0_col0\" class=\"data row0 col0\" >0.58</td>\n",
       "      <td id=\"T_ee6e7_row0_col1\" class=\"data row0 col1\" >0.65</td>\n",
       "      <td id=\"T_ee6e7_row0_col2\" class=\"data row0 col2\" >0.25</td>\n",
       "      <td id=\"T_ee6e7_row0_col3\" class=\"data row0 col3\" >0.19</td>\n",
       "    </tr>\n",
       "    <tr>\n",
       "      <th id=\"T_ee6e7_level0_row1\" class=\"row_heading level0 row1\" >Combo</th>\n",
       "      <td id=\"T_ee6e7_row1_col0\" class=\"data row1 col0\" >1.00</td>\n",
       "      <td id=\"T_ee6e7_row1_col1\" class=\"data row1 col1\" >1.00</td>\n",
       "      <td id=\"T_ee6e7_row1_col2\" class=\"data row1 col2\" >0.17</td>\n",
       "      <td id=\"T_ee6e7_row1_col3\" class=\"data row1 col3\" >0.15</td>\n",
       "    </tr>\n",
       "    <tr>\n",
       "      <th id=\"T_ee6e7_level0_row2\" class=\"row_heading level0 row2\" >Delay</th>\n",
       "      <td id=\"T_ee6e7_row2_col0\" class=\"data row2 col0\" >0.97</td>\n",
       "      <td id=\"T_ee6e7_row2_col1\" class=\"data row2 col1\" >0.94</td>\n",
       "      <td id=\"T_ee6e7_row2_col2\" class=\"data row2 col2\" >0.01</td>\n",
       "      <td id=\"T_ee6e7_row2_col3\" class=\"data row2 col3\" >0.01</td>\n",
       "    </tr>\n",
       "    <tr>\n",
       "      <th id=\"T_ee6e7_level0_row3\" class=\"row_heading level0 row3\" >Dynamics</th>\n",
       "      <td id=\"T_ee6e7_row3_col0\" class=\"data row3 col0\" >0.72</td>\n",
       "      <td id=\"T_ee6e7_row3_col1\" class=\"data row3 col1\" >0.69</td>\n",
       "      <td id=\"T_ee6e7_row3_col2\" class=\"data row3 col2\" >0.09</td>\n",
       "      <td id=\"T_ee6e7_row3_col3\" class=\"data row3 col3\" >0.10</td>\n",
       "    </tr>\n",
       "    <tr>\n",
       "      <th id=\"T_ee6e7_level0_row4\" class=\"row_heading level0 row4\" >Overdrive</th>\n",
       "      <td id=\"T_ee6e7_row4_col0\" class=\"data row4 col0\" >0.98</td>\n",
       "      <td id=\"T_ee6e7_row4_col1\" class=\"data row4 col1\" >0.96</td>\n",
       "      <td id=\"T_ee6e7_row4_col2\" class=\"data row4 col2\" >0.00</td>\n",
       "      <td id=\"T_ee6e7_row4_col3\" class=\"data row4 col3\" >0.00</td>\n",
       "    </tr>\n",
       "    <tr>\n",
       "      <th id=\"T_ee6e7_level0_row5\" class=\"row_heading level0 row5\" >RingMod</th>\n",
       "      <td id=\"T_ee6e7_row5_col0\" class=\"data row5 col0\" >1.00</td>\n",
       "      <td id=\"T_ee6e7_row5_col1\" class=\"data row5 col1\" >1.00</td>\n",
       "      <td id=\"T_ee6e7_row5_col2\" class=\"data row5 col2\" >0.38</td>\n",
       "      <td id=\"T_ee6e7_row5_col3\" class=\"data row5 col3\" >0.23</td>\n",
       "    </tr>\n",
       "  </tbody>\n",
       "</table>\n"
      ],
      "text/plain": [
       "<pandas.io.formats.style.Styler at 0x7f2048ccfa30>"
      ]
     },
     "execution_count": 164,
     "metadata": {},
     "output_type": "execute_result"
    }
   ],
   "source": [
    "styler"
   ]
  },
  {
   "cell_type": "code",
   "execution_count": 165,
   "metadata": {},
   "outputs": [],
   "source": [
    "styler.to_excel(f\"{OUT_DATA_DIR}/metrics.xlsx\")"
   ]
  },
  {
   "cell_type": "code",
   "execution_count": null,
   "metadata": {},
   "outputs": [],
   "source": []
  }
 ],
 "metadata": {
  "kernelspec": {
   "display_name": "Python 3 (ipykernel)",
   "language": "python",
   "name": "python3"
  },
  "language_info": {
   "codemirror_mode": {
    "name": "ipython",
    "version": 3
   },
   "file_extension": ".py",
   "mimetype": "text/x-python",
   "name": "python",
   "nbconvert_exporter": "python",
   "pygments_lexer": "ipython3",
   "version": "3.10.6"
  }
 },
 "nbformat": 4,
 "nbformat_minor": 1
}
