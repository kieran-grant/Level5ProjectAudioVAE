{
 "cells": [
  {
   "cell_type": "code",
   "execution_count": 19,
   "metadata": {
    "pycharm": {
     "is_executing": true
    }
   },
   "outputs": [],
   "source": [
    "import pandas as pd\n",
    "import seaborn as sns\n",
    "import matplotlib.pyplot as plt"
   ]
  },
  {
   "cell_type": "code",
   "execution_count": 3,
   "metadata": {},
   "outputs": [],
   "source": [
    "test_1_file = \"/home/kieran/Level5ProjectAudioVAE/src/evaluation/data/latent_controller/expert_evaluation_test1.csv\"\n",
    "test_2_file = \"/home/kieran/Level5ProjectAudioVAE/src/evaluation/data/latent_controller/expert_evaluation_test2.csv\"\n",
    "test_final_file = \"/home/kieran/Level5ProjectAudioVAE/src/evaluation/data/latent_controller/expert_evaluation_final.csv\""
   ]
  },
  {
   "cell_type": "code",
   "execution_count": 55,
   "metadata": {},
   "outputs": [],
   "source": [
    "FIGURE_DIR = \"/home/kieran/Level5ProjectAudioVAE/src/evaluation/figures/expert_evaluation\""
   ]
  },
  {
   "cell_type": "code",
   "execution_count": 6,
   "metadata": {},
   "outputs": [],
   "source": [
    "df_1 = pd.read_csv(test_1_file)\n",
    "df_2 = pd.read_csv(test_2_file)\n",
    "df_fn = pd.read_csv(test_final_file)"
   ]
  },
  {
   "cell_type": "code",
   "execution_count": 22,
   "metadata": {},
   "outputs": [
    {
     "data": {
      "text/html": [
       "<div>\n",
       "<style scoped>\n",
       "    .dataframe tbody tr th:only-of-type {\n",
       "        vertical-align: middle;\n",
       "    }\n",
       "\n",
       "    .dataframe tbody tr th {\n",
       "        vertical-align: top;\n",
       "    }\n",
       "\n",
       "    .dataframe thead th {\n",
       "        text-align: right;\n",
       "    }\n",
       "</style>\n",
       "<table border=\"1\" class=\"dataframe\">\n",
       "  <thead>\n",
       "    <tr style=\"text-align: right;\">\n",
       "      <th></th>\n",
       "      <th>effect</th>\n",
       "      <th>a</th>\n",
       "      <th>b</th>\n",
       "      <th>example_num</th>\n",
       "      <th>score</th>\n",
       "      <th>comments</th>\n",
       "    </tr>\n",
       "  </thead>\n",
       "  <tbody>\n",
       "    <tr>\n",
       "      <th>0</th>\n",
       "      <td>Overdrive</td>\n",
       "      <td>x_min</td>\n",
       "      <td>x_max</td>\n",
       "      <td>1</td>\n",
       "      <td>10</td>\n",
       "      <td>NaN</td>\n",
       "    </tr>\n",
       "    <tr>\n",
       "      <th>1</th>\n",
       "      <td>Overdrive</td>\n",
       "      <td>y_min</td>\n",
       "      <td>y_max</td>\n",
       "      <td>2</td>\n",
       "      <td>10</td>\n",
       "      <td>NaN</td>\n",
       "    </tr>\n",
       "    <tr>\n",
       "      <th>2</th>\n",
       "      <td>Overdrive</td>\n",
       "      <td>drive_min</td>\n",
       "      <td>drive_max</td>\n",
       "      <td>3</td>\n",
       "      <td>7</td>\n",
       "      <td>brighter than expected, expected closer to B</td>\n",
       "    </tr>\n",
       "    <tr>\n",
       "      <th>3</th>\n",
       "      <td>MultiBand</td>\n",
       "      <td>bright_min</td>\n",
       "      <td>bright_max</td>\n",
       "      <td>1</td>\n",
       "      <td>8</td>\n",
       "      <td>NaN</td>\n",
       "    </tr>\n",
       "    <tr>\n",
       "      <th>4</th>\n",
       "      <td>MultiBand</td>\n",
       "      <td>x_min</td>\n",
       "      <td>x_max</td>\n",
       "      <td>2</td>\n",
       "      <td>9</td>\n",
       "      <td>NaN</td>\n",
       "    </tr>\n",
       "    <tr>\n",
       "      <th>5</th>\n",
       "      <td>MultiBand</td>\n",
       "      <td>y_min</td>\n",
       "      <td>y_max</td>\n",
       "      <td>3</td>\n",
       "      <td>9</td>\n",
       "      <td>NaN</td>\n",
       "    </tr>\n",
       "  </tbody>\n",
       "</table>\n",
       "</div>"
      ],
      "text/plain": [
       "      effect           a           b  example_num  score  \\\n",
       "0  Overdrive       x_min       x_max            1     10   \n",
       "1  Overdrive       y_min       y_max            2     10   \n",
       "2  Overdrive   drive_min   drive_max            3      7   \n",
       "3  MultiBand  bright_min  bright_max            1      8   \n",
       "4  MultiBand       x_min       x_max            2      9   \n",
       "5  MultiBand       y_min       y_max            3      9   \n",
       "\n",
       "                                       comments  \n",
       "0                                           NaN  \n",
       "1                                           NaN  \n",
       "2  brighter than expected, expected closer to B  \n",
       "3                                           NaN  \n",
       "4                                           NaN  \n",
       "5                                           NaN  "
      ]
     },
     "execution_count": 22,
     "metadata": {},
     "output_type": "execute_result"
    }
   ],
   "source": [
    "df_1"
   ]
  },
  {
   "cell_type": "code",
   "execution_count": 9,
   "metadata": {},
   "outputs": [
    {
     "data": {
      "text/html": [
       "<div>\n",
       "<style scoped>\n",
       "    .dataframe tbody tr th:only-of-type {\n",
       "        vertical-align: middle;\n",
       "    }\n",
       "\n",
       "    .dataframe tbody tr th {\n",
       "        vertical-align: top;\n",
       "    }\n",
       "\n",
       "    .dataframe thead th {\n",
       "        text-align: right;\n",
       "    }\n",
       "</style>\n",
       "<table border=\"1\" class=\"dataframe\">\n",
       "  <thead>\n",
       "    <tr style=\"text-align: right;\">\n",
       "      <th></th>\n",
       "      <th>effect</th>\n",
       "      <th>prompt_text</th>\n",
       "      <th>prompt_num</th>\n",
       "      <th>num_attempts</th>\n",
       "      <th>score</th>\n",
       "      <th>id_chosen</th>\n",
       "      <th>comments</th>\n",
       "    </tr>\n",
       "  </thead>\n",
       "  <tbody>\n",
       "    <tr>\n",
       "      <th>0</th>\n",
       "      <td>Overdrive</td>\n",
       "      <td>Apply a small amount of drive to the clean audio</td>\n",
       "      <td>1</td>\n",
       "      <td>2</td>\n",
       "      <td>10</td>\n",
       "      <td>269</td>\n",
       "      <td>NaN</td>\n",
       "    </tr>\n",
       "    <tr>\n",
       "      <th>1</th>\n",
       "      <td>Overdrive</td>\n",
       "      <td>Apply as much drive as possible to the clean a...</td>\n",
       "      <td>2</td>\n",
       "      <td>5</td>\n",
       "      <td>8</td>\n",
       "      <td>805</td>\n",
       "      <td>more overdrive left than right, brighter == mo...</td>\n",
       "    </tr>\n",
       "    <tr>\n",
       "      <th>2</th>\n",
       "      <td>Overdrive</td>\n",
       "      <td>Apply an overdrive setting with lots of high f...</td>\n",
       "      <td>3</td>\n",
       "      <td>1</td>\n",
       "      <td>10</td>\n",
       "      <td>142</td>\n",
       "      <td>NaN</td>\n",
       "    </tr>\n",
       "    <tr>\n",
       "      <th>3</th>\n",
       "      <td>Overdrive</td>\n",
       "      <td>Apply an overdrive setting with very little hi...</td>\n",
       "      <td>4</td>\n",
       "      <td>1</td>\n",
       "      <td>10</td>\n",
       "      <td>539</td>\n",
       "      <td>NaN</td>\n",
       "    </tr>\n",
       "    <tr>\n",
       "      <th>4</th>\n",
       "      <td>MultiBand</td>\n",
       "      <td>Make the clean audio sound slightly brighter</td>\n",
       "      <td>1</td>\n",
       "      <td>4</td>\n",
       "      <td>7</td>\n",
       "      <td>452</td>\n",
       "      <td>NaN</td>\n",
       "    </tr>\n",
       "  </tbody>\n",
       "</table>\n",
       "</div>"
      ],
      "text/plain": [
       "      effect                                        prompt_text  prompt_num  \\\n",
       "0  Overdrive   Apply a small amount of drive to the clean audio           1   \n",
       "1  Overdrive  Apply as much drive as possible to the clean a...           2   \n",
       "2  Overdrive  Apply an overdrive setting with lots of high f...           3   \n",
       "3  Overdrive  Apply an overdrive setting with very little hi...           4   \n",
       "4  MultiBand       Make the clean audio sound slightly brighter           1   \n",
       "\n",
       "   num_attempts  score  id_chosen  \\\n",
       "0             2     10        269   \n",
       "1             5      8        805   \n",
       "2             1     10        142   \n",
       "3             1     10        539   \n",
       "4             4      7        452   \n",
       "\n",
       "                                            comments  \n",
       "0                                                NaN  \n",
       "1  more overdrive left than right, brighter == mo...  \n",
       "2                                                NaN  \n",
       "3                                                NaN  \n",
       "4                                                NaN  "
      ]
     },
     "execution_count": 9,
     "metadata": {},
     "output_type": "execute_result"
    }
   ],
   "source": [
    "df_2.head()"
   ]
  },
  {
   "cell_type": "code",
   "execution_count": 10,
   "metadata": {},
   "outputs": [
    {
     "data": {
      "text/html": [
       "<div>\n",
       "<style scoped>\n",
       "    .dataframe tbody tr th:only-of-type {\n",
       "        vertical-align: middle;\n",
       "    }\n",
       "\n",
       "    .dataframe tbody tr th {\n",
       "        vertical-align: top;\n",
       "    }\n",
       "\n",
       "    .dataframe thead th {\n",
       "        text-align: right;\n",
       "    }\n",
       "</style>\n",
       "<table border=\"1\" class=\"dataframe\">\n",
       "  <thead>\n",
       "    <tr style=\"text-align: right;\">\n",
       "      <th></th>\n",
       "      <th>effect</th>\n",
       "      <th>question_text</th>\n",
       "      <th>question_num</th>\n",
       "      <th>score</th>\n",
       "      <th>comments</th>\n",
       "    </tr>\n",
       "  </thead>\n",
       "  <tbody>\n",
       "    <tr>\n",
       "      <th>0</th>\n",
       "      <td>Overdrive</td>\n",
       "      <td>Overall, how intuative did you find the interf...</td>\n",
       "      <td>1</td>\n",
       "      <td>7.0</td>\n",
       "      <td>Expected brighter and darker sounds to be mirr...</td>\n",
       "    </tr>\n",
       "    <tr>\n",
       "      <th>1</th>\n",
       "      <td>MultiBand</td>\n",
       "      <td>Overall, how intuative did you find the interf...</td>\n",
       "      <td>1</td>\n",
       "      <td>9.0</td>\n",
       "      <td>Once familar with changes in space easier to t...</td>\n",
       "    </tr>\n",
       "    <tr>\n",
       "      <th>2</th>\n",
       "      <td>Overdrive</td>\n",
       "      <td>Were you able to accurately apply the effect y...</td>\n",
       "      <td>2</td>\n",
       "      <td>10.0</td>\n",
       "      <td>Change from least effected - expect more of a ...</td>\n",
       "    </tr>\n",
       "    <tr>\n",
       "      <th>3</th>\n",
       "      <td>MultiBand</td>\n",
       "      <td>Were you able to accurately apply the effect y...</td>\n",
       "      <td>2</td>\n",
       "      <td>10.0</td>\n",
       "      <td>Feel like the user understood intuatively what...</td>\n",
       "    </tr>\n",
       "    <tr>\n",
       "      <th>4</th>\n",
       "      <td>Overdrive</td>\n",
       "      <td>Would you say that similar sounding effect set...</td>\n",
       "      <td>3</td>\n",
       "      <td>10.0</td>\n",
       "      <td>NaN</td>\n",
       "    </tr>\n",
       "  </tbody>\n",
       "</table>\n",
       "</div>"
      ],
      "text/plain": [
       "      effect                                      question_text  question_num  \\\n",
       "0  Overdrive  Overall, how intuative did you find the interf...             1   \n",
       "1  MultiBand  Overall, how intuative did you find the interf...             1   \n",
       "2  Overdrive  Were you able to accurately apply the effect y...             2   \n",
       "3  MultiBand  Were you able to accurately apply the effect y...             2   \n",
       "4  Overdrive  Would you say that similar sounding effect set...             3   \n",
       "\n",
       "   score                                           comments  \n",
       "0    7.0  Expected brighter and darker sounds to be mirr...  \n",
       "1    9.0  Once familar with changes in space easier to t...  \n",
       "2   10.0  Change from least effected - expect more of a ...  \n",
       "3   10.0  Feel like the user understood intuatively what...  \n",
       "4   10.0                                                NaN  "
      ]
     },
     "execution_count": 10,
     "metadata": {},
     "output_type": "execute_result"
    }
   ],
   "source": [
    "df_fn.head()"
   ]
  },
  {
   "cell_type": "code",
   "execution_count": 31,
   "metadata": {},
   "outputs": [
    {
     "data": {
      "text/html": [
       "<div>\n",
       "<style scoped>\n",
       "    .dataframe tbody tr th:only-of-type {\n",
       "        vertical-align: middle;\n",
       "    }\n",
       "\n",
       "    .dataframe tbody tr th {\n",
       "        vertical-align: top;\n",
       "    }\n",
       "\n",
       "    .dataframe thead th {\n",
       "        text-align: right;\n",
       "    }\n",
       "</style>\n",
       "<table border=\"1\" class=\"dataframe\">\n",
       "  <thead>\n",
       "    <tr style=\"text-align: right;\">\n",
       "      <th></th>\n",
       "      <th>mean</th>\n",
       "      <th>std</th>\n",
       "    </tr>\n",
       "    <tr>\n",
       "      <th>effect</th>\n",
       "      <th></th>\n",
       "      <th></th>\n",
       "    </tr>\n",
       "  </thead>\n",
       "  <tbody>\n",
       "    <tr>\n",
       "      <th>MultiBand</th>\n",
       "      <td>8.666667</td>\n",
       "      <td>0.577350</td>\n",
       "    </tr>\n",
       "    <tr>\n",
       "      <th>Overdrive</th>\n",
       "      <td>9.000000</td>\n",
       "      <td>1.732051</td>\n",
       "    </tr>\n",
       "  </tbody>\n",
       "</table>\n",
       "</div>"
      ],
      "text/plain": [
       "               mean       std\n",
       "effect                       \n",
       "MultiBand  8.666667  0.577350\n",
       "Overdrive  9.000000  1.732051"
      ]
     },
     "execution_count": 31,
     "metadata": {},
     "output_type": "execute_result"
    }
   ],
   "source": [
    "df_1.groupby('effect')['score'].describe()[['mean', 'std']]"
   ]
  },
  {
   "cell_type": "code",
   "execution_count": 56,
   "metadata": {},
   "outputs": [
    {
     "data": {
      "image/png": "[encoded data removed]",
      "text/plain": [
       "<Figure size 640x480 with 1 Axes>"
      ]
     },
     "metadata": {},
     "output_type": "display_data"
    }
   ],
   "source": [
    "ax = sns.boxplot(df_1, x='effect', y='score')\n",
    "ax.set_ylim([1, 11])\n",
    "plt.title(\"Test 1 (midpoint expectation score)\")\n",
    "plt.savefig(f\"{FIGURE_DIR}/test1_score.png\")"
   ]
  },
  {
   "cell_type": "code",
   "execution_count": 49,
   "metadata": {},
   "outputs": [
    {
     "data": {
      "text/html": [
       "<div>\n",
       "<style scoped>\n",
       "    .dataframe tbody tr th:only-of-type {\n",
       "        vertical-align: middle;\n",
       "    }\n",
       "\n",
       "    .dataframe tbody tr th {\n",
       "        vertical-align: top;\n",
       "    }\n",
       "\n",
       "    .dataframe thead th {\n",
       "        text-align: right;\n",
       "    }\n",
       "</style>\n",
       "<table border=\"1\" class=\"dataframe\">\n",
       "  <thead>\n",
       "    <tr style=\"text-align: right;\">\n",
       "      <th></th>\n",
       "      <th>effect</th>\n",
       "      <th>prompt_text</th>\n",
       "      <th>prompt_num</th>\n",
       "      <th>num_attempts</th>\n",
       "      <th>score</th>\n",
       "      <th>id_chosen</th>\n",
       "      <th>comments</th>\n",
       "    </tr>\n",
       "  </thead>\n",
       "  <tbody>\n",
       "    <tr>\n",
       "      <th>0</th>\n",
       "      <td>Overdrive</td>\n",
       "      <td>Apply a small amount of drive to the clean audio</td>\n",
       "      <td>1</td>\n",
       "      <td>2</td>\n",
       "      <td>10</td>\n",
       "      <td>269</td>\n",
       "      <td>NaN</td>\n",
       "    </tr>\n",
       "    <tr>\n",
       "      <th>1</th>\n",
       "      <td>Overdrive</td>\n",
       "      <td>Apply as much drive as possible to the clean a...</td>\n",
       "      <td>2</td>\n",
       "      <td>5</td>\n",
       "      <td>8</td>\n",
       "      <td>805</td>\n",
       "      <td>more overdrive left than right, brighter == mo...</td>\n",
       "    </tr>\n",
       "    <tr>\n",
       "      <th>2</th>\n",
       "      <td>Overdrive</td>\n",
       "      <td>Apply an overdrive setting with lots of high f...</td>\n",
       "      <td>3</td>\n",
       "      <td>1</td>\n",
       "      <td>10</td>\n",
       "      <td>142</td>\n",
       "      <td>NaN</td>\n",
       "    </tr>\n",
       "    <tr>\n",
       "      <th>3</th>\n",
       "      <td>Overdrive</td>\n",
       "      <td>Apply an overdrive setting with very little hi...</td>\n",
       "      <td>4</td>\n",
       "      <td>1</td>\n",
       "      <td>10</td>\n",
       "      <td>539</td>\n",
       "      <td>NaN</td>\n",
       "    </tr>\n",
       "    <tr>\n",
       "      <th>4</th>\n",
       "      <td>MultiBand</td>\n",
       "      <td>Make the clean audio sound slightly brighter</td>\n",
       "      <td>1</td>\n",
       "      <td>4</td>\n",
       "      <td>7</td>\n",
       "      <td>452</td>\n",
       "      <td>NaN</td>\n",
       "    </tr>\n",
       "    <tr>\n",
       "      <th>5</th>\n",
       "      <td>MultiBand</td>\n",
       "      <td>Make the clean audio sound as bright as possible</td>\n",
       "      <td>2</td>\n",
       "      <td>5</td>\n",
       "      <td>9</td>\n",
       "      <td>889</td>\n",
       "      <td>NaN</td>\n",
       "    </tr>\n",
       "    <tr>\n",
       "      <th>6</th>\n",
       "      <td>MultiBand</td>\n",
       "      <td>Make the clean audio sound slightly bassier</td>\n",
       "      <td>3</td>\n",
       "      <td>4</td>\n",
       "      <td>9</td>\n",
       "      <td>816</td>\n",
       "      <td>NaN</td>\n",
       "    </tr>\n",
       "    <tr>\n",
       "      <th>7</th>\n",
       "      <td>MultiBand</td>\n",
       "      <td>Make the clean audio sound as bassy as possible</td>\n",
       "      <td>4</td>\n",
       "      <td>1</td>\n",
       "      <td>10</td>\n",
       "      <td>394</td>\n",
       "      <td>NaN</td>\n",
       "    </tr>\n",
       "  </tbody>\n",
       "</table>\n",
       "</div>"
      ],
      "text/plain": [
       "      effect                                        prompt_text  prompt_num  \\\n",
       "0  Overdrive   Apply a small amount of drive to the clean audio           1   \n",
       "1  Overdrive  Apply as much drive as possible to the clean a...           2   \n",
       "2  Overdrive  Apply an overdrive setting with lots of high f...           3   \n",
       "3  Overdrive  Apply an overdrive setting with very little hi...           4   \n",
       "4  MultiBand       Make the clean audio sound slightly brighter           1   \n",
       "5  MultiBand   Make the clean audio sound as bright as possible           2   \n",
       "6  MultiBand        Make the clean audio sound slightly bassier           3   \n",
       "7  MultiBand    Make the clean audio sound as bassy as possible           4   \n",
       "\n",
       "   num_attempts  score  id_chosen  \\\n",
       "0             2     10        269   \n",
       "1             5      8        805   \n",
       "2             1     10        142   \n",
       "3             1     10        539   \n",
       "4             4      7        452   \n",
       "5             5      9        889   \n",
       "6             4      9        816   \n",
       "7             1     10        394   \n",
       "\n",
       "                                            comments  \n",
       "0                                                NaN  \n",
       "1  more overdrive left than right, brighter == mo...  \n",
       "2                                                NaN  \n",
       "3                                                NaN  \n",
       "4                                                NaN  \n",
       "5                                                NaN  \n",
       "6                                                NaN  \n",
       "7                                                NaN  "
      ]
     },
     "execution_count": 49,
     "metadata": {},
     "output_type": "execute_result"
    }
   ],
   "source": [
    "df_2"
   ]
  },
  {
   "cell_type": "code",
   "execution_count": 57,
   "metadata": {},
   "outputs": [
    {
     "data": {
      "image/png": "[encoded data removed]",
      "text/plain": [
       "<Figure size 640x480 with 1 Axes>"
      ]
     },
     "metadata": {},
     "output_type": "display_data"
    }
   ],
   "source": [
    "ax = sns.boxplot(df_2, x='effect', y='score')\n",
    "ax.set_ylim([1, 11])\n",
    "plt.title(\"Test 2 (ease of use score)\")\n",
    "plt.savefig(f\"{FIGURE_DIR}/test2_score.png\")"
   ]
  },
  {
   "cell_type": "code",
   "execution_count": 60,
   "metadata": {},
   "outputs": [
    {
     "data": {
      "image/png": "[encoded data removed]",
      "text/plain": [
       "<Figure size 640x480 with 1 Axes>"
      ]
     },
     "metadata": {},
     "output_type": "display_data"
    }
   ],
   "source": [
    "ax = sns.boxplot(df_2, x='effect', y='num_attempts')\n",
    "ax.set_ylim([0, 6])\n",
    "plt.title(\"Test 2 (number of attempts)\")\n",
    "plt.savefig(f\"{FIGURE_DIR}/test2_attempts.png\")"
   ]
  },
  {
   "cell_type": "code",
   "execution_count": 62,
   "metadata": {},
   "outputs": [
    {
     "data": {
      "image/png": "[encoded data removed]",
      "text/plain": [
       "<Figure size 640x480 with 1 Axes>"
      ]
     },
     "metadata": {},
     "output_type": "display_data"
    }
   ],
   "source": [
    "ax = sns.scatterplot(df_2, x='score', y='num_attempts')\n",
    "plt.title(\"Test 2 (number of attempts)\")\n",
    "plt.savefig(f\"{FIGURE_DIR}/test2_corln.png\")"
   ]
  },
  {
   "cell_type": "code",
   "execution_count": 67,
   "metadata": {},
   "outputs": [
    {
     "data": {
      "image/png": "[encoded data removed]",
      "text/plain": [
       "<Figure size 640x480 with 1 Axes>"
      ]
     },
     "metadata": {},
     "output_type": "display_data"
    }
   ],
   "source": [
    "ax = sns.scatterplot(df_2[df_2['effect']=='Overdrive'], x='prompt_num', y='score')\n",
    "plt.title(\"Test 2 (number of attempts)\")\n",
    "plt.show()"
   ]
  },
  {
   "cell_type": "code",
   "execution_count": null,
   "metadata": {},
   "outputs": [],
   "source": []
  }
 ],
 "metadata": {
  "kernelspec": {
   "display_name": "Python 3 (ipykernel)",
   "language": "python",
   "name": "python3"
  },
  "language_info": {
   "codemirror_mode": {
    "name": "ipython",
    "version": 3
   },
   "file_extension": ".py",
   "mimetype": "text/x-python",
   "name": "python",
   "nbconvert_exporter": "python",
   "pygments_lexer": "ipython3",
   "version": "3.10.6"
  }
 },
 "nbformat": 4,
 "nbformat_minor": 1
}
