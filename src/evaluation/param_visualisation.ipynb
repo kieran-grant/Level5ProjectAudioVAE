{
 "cells": [
  {
   "cell_type": "code",
   "execution_count": 1,
   "metadata": {
    "collapsed": true
   },
   "outputs": [],
   "source": [
    "import numpy as np\n",
    "import seaborn as sns\n",
    "import matplotlib.pyplot as plt\n",
    "\n",
    "from src.plot_utils import get_subplot_dimensions, dafx_from_name"
   ]
  },
  {
   "cell_type": "code",
   "execution_count": 2,
   "outputs": [],
   "source": [
    "DATA_DIR = \"/home/kieran/Level5ProjectAudioVAE/src/evaluation/data/param_extraction\"\n",
    "FIG_DIR = \"/home/kieran/Level5ProjectAudioVAE/src/evaluation/figures/param_visualisation\""
   ],
   "metadata": {
    "collapsed": false
   }
  },
  {
   "cell_type": "code",
   "execution_count": 3,
   "outputs": [],
   "source": [
    "emb = np.load(f\"{DATA_DIR}/overdrive_projection.npy\")\n",
    "settings = np.load(f\"{DATA_DIR}/overdrive_settings.npy\")"
   ],
   "metadata": {
    "collapsed": false
   }
  },
  {
   "cell_type": "code",
   "execution_count": 4,
   "outputs": [],
   "source": [
    "dafx = dafx_from_name('mda Overdrive')"
   ],
   "metadata": {
    "collapsed": false
   }
  },
  {
   "cell_type": "code",
   "execution_count": 5,
   "outputs": [],
   "source": [
    "sns.set(style='white')\n",
    "\n",
    "n = 3 # Define the size of the plot\n",
    "max_columns = 3  # set a maximum number of columns\n",
    "\n",
    "num_rows, num_cols = get_subplot_dimensions(n, max_columns=max_columns)\n",
    "# Create the figure and subplots\n",
    "fig, axs = plt.subplots(num_rows,\n",
    "                        num_cols,\n",
    "                        figsize=(8, 4.5),\n",
    "                        sharex=True,\n",
    "                        sharey=True)\n",
    "\n",
    "count = 0\n",
    "for i in range(dafx.get_num_params()):\n",
    "    row_idx, col_idx = divmod(count, num_cols)\n",
    "\n",
    "    if num_rows == 1:\n",
    "            current_ax = axs[col_idx]\n",
    "    elif num_cols == 1:\n",
    "        current_ax = axs[row_idx]\n",
    "    else:\n",
    "        current_ax = axs[row_idx, col_idx]\n",
    "\n",
    "    param_name = dafx.idx_to_param_map[i]\n",
    "\n",
    "    sc = current_ax.scatter(x=emb[:,0], y=emb[:,1], c=settings[:,i], alpha=0.7, cmap='magma')\n",
    "\n",
    "    current_ax.set_title(param_name, fontsize=16)\n",
    "    current_ax.grid()\n",
    "    current_ax.set_xlabel(\"\")\n",
    "    current_ax.set_ylabel(\"\")\n",
    "    # current_ax.set_aspect('equal', 'datalim')\n",
    "\n",
    "    count += 1\n",
    "\n",
    "    # If we have processed all the subplots, break out of the loop\n",
    "    if count == n:\n",
    "        break\n",
    "\n",
    "# fig.suptitle(f\"{DAFX_NAME} {NUM_EXAMPLES} parameter configurations latent space\")\n",
    "\n",
    "# If we have fewer subplots than required, remove the remaining subplots\n",
    "while count < n:\n",
    "    row_idx, col_idx = divmod(count, num_cols)\n",
    "    axs[row_idx, col_idx].remove()\n",
    "    # fig.delaxes()\n",
    "    count += 1\n",
    "\n",
    "# Adjust the spacing between subplots\n",
    "fig.tight_layout()\n",
    "\n",
    "# Add colorbar\n",
    "cbar = fig.colorbar(sc, ax=axs.ravel().tolist(), aspect=20, shrink=.5, pad=.1, orientation='horizontal')\n",
    "cbar.set_label('Parameter value', fontsize=16)\n",
    "\n",
    "plt.savefig(f\"{FIG_DIR}/overdrive_settings.png\")"
   ],
   "metadata": {
    "collapsed": false
   }
  },
  {
   "cell_type": "code",
   "execution_count": null,
   "outputs": [],
   "source": [],
   "metadata": {
    "collapsed": false
   }
  }
 ],
 "metadata": {
  "kernelspec": {
   "display_name": "Python 3",
   "language": "python",
   "name": "python3"
  },
  "language_info": {
   "codemirror_mode": {
    "name": "ipython",
    "version": 2
   },
   "file_extension": ".py",
   "mimetype": "text/x-python",
   "name": "python",
   "nbconvert_exporter": "python",
   "pygments_lexer": "ipython2",
   "version": "2.7.6"
  }
 },
 "nbformat": 4,
 "nbformat_minor": 0
}
