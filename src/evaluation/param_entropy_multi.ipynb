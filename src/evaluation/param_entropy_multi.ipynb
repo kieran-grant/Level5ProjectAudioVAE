{
 "cells": [
  {
   "cell_type": "code",
   "execution_count": 1,
   "metadata": {},
   "outputs": [],
   "source": [
    "import numpy as np\n",
    "import pandas as pd\n",
    "import seaborn as sns\n",
    "import matplotlib.pyplot as plt\n",
    "\n",
    "from src.plot_utils import dafx_from_name\n",
    "from sklearn.feature_selection import mutual_info_regression"
   ]
  },
  {
   "cell_type": "code",
   "execution_count": 2,
   "outputs": [],
   "source": [
    "sns.set(style=\"white\")"
   ],
   "metadata": {
    "collapsed": false
   }
  },
  {
   "cell_type": "code",
   "execution_count": 3,
   "metadata": {},
   "outputs": [],
   "source": [
    "DATA_DIR = \"/home/kieran/Level5ProjectAudioVAE/src/evaluation/data/param_extraction\"\n",
    "FIG_DIR = \"/home/kieran/Level5ProjectAudioVAE/src/evaluation/figures/param_entropy_multi\"\n",
    "OUT_DATA_DIR = \"/home/kieran/Level5ProjectAudioVAE/src/evaluation/data/param_entropy_multi\"\n",
    "\n",
    "DAFX = [\"overdrive\", \"combo\", \"delay\", \"ambience\", \"dynamics\", \"ringmod\"]\n",
    "\n",
    "DAFX_TO_MDA_NAME = {\n",
    "    \"delay\": \"mda Delay\",\n",
    "    \"combo\": \"mda Combo\",\n",
    "    \"overdrive\": \"mda Overdrive\",\n",
    "    \"ambience\": \"mda Ambience\",\n",
    "    \"dynamics\": \"mda Dynamics\",\n",
    "    \"ringmod\": \"mda RingMod\",\n",
    "}"
   ]
  },
  {
   "cell_type": "code",
   "execution_count": 29,
   "outputs": [],
   "source": [
    "dataframes = {}\n",
    "\n",
    "param_sizes = {}\n",
    "\n",
    "for fx in DAFX:\n",
    "    emb = np.load(f\"{DATA_DIR}/{fx}_projection.npy\")\n",
    "    params = np.load(f\"{DATA_DIR}/{fx}_settings.npy\")\n",
    "\n",
    "    idx_param_map = dafx_from_name(DAFX_TO_MDA_NAME[fx]).idx_to_param_map\n",
    "\n",
    "    param_sizes[fx] = len(idx_param_map)\n",
    "\n",
    "    mi_matrix = np.array([mutual_info_regression(emb, params[:, i]) for i in range(params.shape[1])])\n",
    "    df = pd.DataFrame(mi_matrix, index=[idx_param_map[i] for i in range(params.shape[1])])\n",
    "\n",
    "    dataframes[fx] = df\n",
    "\n",
    "    df.to_csv(f\"{OUT_DATA_DIR}/{fx}.csv\")"
   ],
   "metadata": {
    "collapsed": false
   }
  },
  {
   "cell_type": "code",
   "execution_count": 30,
   "outputs": [],
   "source": [
    "sorted_fx = sorted(param_sizes, key=param_sizes.get)"
   ],
   "metadata": {
    "collapsed": false
   }
  },
  {
   "cell_type": "code",
   "execution_count": 97,
   "outputs": [],
   "source": [
    "subframes = []\n",
    "vmax = 0\n",
    "\n",
    "for fx in sorted_fx:\n",
    "    df = dataframes[fx]\n",
    "    sub_df = df.max(axis='columns').reset_index()\n",
    "\n",
    "    vm = sub_df[0].max()\n",
    "\n",
    "    vmax = max(vm, vmax)\n",
    "\n",
    "    # mean_data = ['mean', sub_df[0].mean()]\n",
    "    # sub_df = pd.concat([sub_df, pd.DataFrame([mean_data], columns=sub_df.columns)], ignore_index=True)\n",
    "\n",
    "    fx_name = DAFX_TO_MDA_NAME[fx].split()[-1]\n",
    "\n",
    "    y = [(fx_name, 'Param'), (fx_name, 'MMI')]\n",
    "    cols = pd.MultiIndex.from_tuples(y)\n",
    "    sub_df.columns = cols\n",
    "\n",
    "    subframes.append(sub_df)"
   ],
   "metadata": {
    "collapsed": false
   }
  },
  {
   "cell_type": "code",
   "execution_count": 98,
   "outputs": [
    {
     "data": {
      "text/plain": "3.3155506127469057"
     },
     "execution_count": 98,
     "metadata": {},
     "output_type": "execute_result"
    }
   ],
   "source": [
    "vmax"
   ],
   "metadata": {
    "collapsed": false
   }
  },
  {
   "cell_type": "code",
   "execution_count": 99,
   "outputs": [],
   "source": [
    "full_df = pd.concat(subframes, axis=1)"
   ],
   "metadata": {
    "collapsed": false
   }
  },
  {
   "cell_type": "code",
   "execution_count": 100,
   "outputs": [],
   "source": [
    "full_df.to_csv(f\"{OUT_DATA_DIR}/full.csv\")"
   ],
   "metadata": {
    "collapsed": false
   }
  },
  {
   "cell_type": "code",
   "execution_count": 101,
   "outputs": [],
   "source": [
    "slice = [x for x in full_df.columns if x[1] == 'MMI']"
   ],
   "metadata": {
    "collapsed": false
   }
  },
  {
   "cell_type": "code",
   "execution_count": 102,
   "outputs": [
    {
     "data": {
      "text/plain": "[('Overdrive', 'MMI'),\n ('RingMod', 'MMI'),\n ('Ambience', 'MMI'),\n ('Combo', 'MMI'),\n ('Delay', 'MMI'),\n ('Dynamics', 'MMI')]"
     },
     "execution_count": 102,
     "metadata": {},
     "output_type": "execute_result"
    }
   ],
   "source": [
    "slice"
   ],
   "metadata": {
    "collapsed": false
   }
  },
  {
   "cell_type": "code",
   "execution_count": 103,
   "outputs": [
    {
     "data": {
      "text/plain": "<pandas.io.formats.style.Styler at 0x7f33b7d474f0>",
      "text/html": "<style type=\"text/css\">\n#T_f3280_row0_col1 {\n  background-color: #c7c7f5;\n  color: #000000;\n}\n#T_f3280_row0_col3 {\n  background-color: #0000ff;\n  color: #f1f1f1;\n}\n#T_f3280_row0_col5 {\n  background-color: #dbdbf4;\n  color: #000000;\n}\n#T_f3280_row0_col7 {\n  background-color: #b0b0f6;\n  color: #000000;\n}\n#T_f3280_row0_col9 {\n  background-color: #b8b8f6;\n  color: #000000;\n}\n#T_f3280_row0_col11, #T_f3280_row1_col3, #T_f3280_row1_col5, #T_f3280_row2_col9, #T_f3280_row5_col11 {\n  background-color: #efeff3;\n  color: #000000;\n}\n#T_f3280_row1_col1 {\n  background-color: #8c8cf8;\n  color: #f1f1f1;\n}\n#T_f3280_row1_col7, #T_f3280_row1_col11, #T_f3280_row2_col1, #T_f3280_row2_col7, #T_f3280_row3_col5, #T_f3280_row3_col11, #T_f3280_row7_col11 {\n  background-color: #f0f0f3;\n  color: #000000;\n}\n#T_f3280_row1_col9, #T_f3280_row4_col7 {\n  background-color: #e0e0f4;\n  color: #000000;\n}\n#T_f3280_row2_col3 {\n  background-color: #e7e7f3;\n  color: #000000;\n}\n#T_f3280_row2_col5 {\n  background-color: #cecef4;\n  color: #000000;\n}\n#T_f3280_row2_col11, #T_f3280_row8_col11 {\n  background-color: #ececf3;\n  color: #000000;\n}\n#T_f3280_row3_col1, #T_f3280_row3_col3, #T_f3280_row4_col1, #T_f3280_row4_col3, #T_f3280_row4_col5, #T_f3280_row5_col1, #T_f3280_row5_col3, #T_f3280_row5_col5, #T_f3280_row5_col7, #T_f3280_row5_col9, #T_f3280_row6_col1, #T_f3280_row6_col3, #T_f3280_row6_col5, #T_f3280_row6_col7, #T_f3280_row6_col9, #T_f3280_row7_col1, #T_f3280_row7_col3, #T_f3280_row7_col5, #T_f3280_row7_col7, #T_f3280_row7_col9, #T_f3280_row8_col1, #T_f3280_row8_col3, #T_f3280_row8_col5, #T_f3280_row8_col7, #T_f3280_row8_col9, #T_f3280_row9_col1, #T_f3280_row9_col3, #T_f3280_row9_col5, #T_f3280_row9_col7, #T_f3280_row9_col9 {\n  background-color: #000000;\n  color: #f1f1f1;\n}\n#T_f3280_row3_col7 {\n  background-color: #7d7df9;\n  color: #f1f1f1;\n}\n#T_f3280_row3_col9 {\n  background-color: #eeeef3;\n  color: #000000;\n}\n#T_f3280_row4_col9 {\n  background-color: #dadaf4;\n  color: #000000;\n}\n#T_f3280_row4_col11 {\n  background-color: #e4e4f3;\n  color: #000000;\n}\n#T_f3280_row6_col11 {\n  background-color: #dedff4;\n  color: #000000;\n}\n#T_f3280_row9_col11 {\n  background-color: #ededf3;\n  color: #000000;\n}\n</style>\n<table id=\"T_f3280\">\n  <thead>\n    <tr>\n      <th class=\"blank level0\" >&nbsp;</th>\n      <th id=\"T_f3280_level0_col0\" class=\"col_heading level0 col0\" colspan=\"2\">Overdrive</th>\n      <th id=\"T_f3280_level0_col2\" class=\"col_heading level0 col2\" colspan=\"2\">RingMod</th>\n      <th id=\"T_f3280_level0_col4\" class=\"col_heading level0 col4\" colspan=\"2\">Ambience</th>\n      <th id=\"T_f3280_level0_col6\" class=\"col_heading level0 col6\" colspan=\"2\">Combo</th>\n      <th id=\"T_f3280_level0_col8\" class=\"col_heading level0 col8\" colspan=\"2\">Delay</th>\n      <th id=\"T_f3280_level0_col10\" class=\"col_heading level0 col10\" colspan=\"2\">Dynamics</th>\n    </tr>\n    <tr>\n      <th class=\"blank level1\" >&nbsp;</th>\n      <th id=\"T_f3280_level1_col0\" class=\"col_heading level1 col0\" >Param</th>\n      <th id=\"T_f3280_level1_col1\" class=\"col_heading level1 col1\" >MMI</th>\n      <th id=\"T_f3280_level1_col2\" class=\"col_heading level1 col2\" >Param</th>\n      <th id=\"T_f3280_level1_col3\" class=\"col_heading level1 col3\" >MMI</th>\n      <th id=\"T_f3280_level1_col4\" class=\"col_heading level1 col4\" >Param</th>\n      <th id=\"T_f3280_level1_col5\" class=\"col_heading level1 col5\" >MMI</th>\n      <th id=\"T_f3280_level1_col6\" class=\"col_heading level1 col6\" >Param</th>\n      <th id=\"T_f3280_level1_col7\" class=\"col_heading level1 col7\" >MMI</th>\n      <th id=\"T_f3280_level1_col8\" class=\"col_heading level1 col8\" >Param</th>\n      <th id=\"T_f3280_level1_col9\" class=\"col_heading level1 col9\" >MMI</th>\n      <th id=\"T_f3280_level1_col10\" class=\"col_heading level1 col10\" >Param</th>\n      <th id=\"T_f3280_level1_col11\" class=\"col_heading level1 col11\" >MMI</th>\n    </tr>\n  </thead>\n  <tbody>\n    <tr>\n      <th id=\"T_f3280_level0_row0\" class=\"row_heading level0 row0\" >0</th>\n      <td id=\"T_f3280_row0_col0\" class=\"data row0 col0\" >drive</td>\n      <td id=\"T_f3280_row0_col1\" class=\"data row0 col1\" >0.580494</td>\n      <td id=\"T_f3280_row0_col2\" class=\"data row0 col2\" >freq_hz</td>\n      <td id=\"T_f3280_row0_col3\" class=\"data row0 col3\" >3.315551</td>\n      <td id=\"T_f3280_row0_col4\" class=\"data row0 col4\" >size_m</td>\n      <td id=\"T_f3280_row0_col5\" class=\"data row0 col5\" >0.306228</td>\n      <td id=\"T_f3280_row0_col6\" class=\"data row0 col6\" >drive_s_h</td>\n      <td id=\"T_f3280_row0_col7\" class=\"data row0 col7\" >0.891225</td>\n      <td id=\"T_f3280_row0_col8\" class=\"data row0 col8\" >l_delay_ms</td>\n      <td id=\"T_f3280_row0_col9\" class=\"data row0 col9\" >0.789228</td>\n      <td id=\"T_f3280_row0_col10\" class=\"data row0 col10\" >thresh_db</td>\n      <td id=\"T_f3280_row0_col11\" class=\"data row0 col11\" >0.021160</td>\n    </tr>\n    <tr>\n      <th id=\"T_f3280_level0_row1\" class=\"row_heading level0 row1\" >1</th>\n      <td id=\"T_f3280_row1_col0\" class=\"data row1 col0\" >muffle</td>\n      <td id=\"T_f3280_row1_col1\" class=\"data row1 col1\" >1.378618</td>\n      <td id=\"T_f3280_row1_col2\" class=\"data row1 col2\" >fine_hz</td>\n      <td id=\"T_f3280_row1_col3\" class=\"data row1 col3\" >0.029495</td>\n      <td id=\"T_f3280_row1_col4\" class=\"data row1 col4\" >hf_damp</td>\n      <td id=\"T_f3280_row1_col5\" class=\"data row1 col5\" >0.022788</td>\n      <td id=\"T_f3280_row1_col6\" class=\"data row1 col6\" >bias</td>\n      <td id=\"T_f3280_row1_col7\" class=\"data row1 col7\" >0.010484</td>\n      <td id=\"T_f3280_row1_col8\" class=\"data row1 col8\" >r_delay</td>\n      <td id=\"T_f3280_row1_col9\" class=\"data row1 col9\" >0.222316</td>\n      <td id=\"T_f3280_row1_col10\" class=\"data row1 col10\" >ratio</td>\n      <td id=\"T_f3280_row1_col11\" class=\"data row1 col11\" >0.009682</td>\n    </tr>\n    <tr>\n      <th id=\"T_f3280_level0_row2\" class=\"row_heading level0 row2\" >2</th>\n      <td id=\"T_f3280_row2_col0\" class=\"data row2 col0\" >output_db</td>\n      <td id=\"T_f3280_row2_col1\" class=\"data row2 col1\" >0.001248</td>\n      <td id=\"T_f3280_row2_col2\" class=\"data row2 col2\" >feedback</td>\n      <td id=\"T_f3280_row2_col3\" class=\"data row2 col3\" >0.138130</td>\n      <td id=\"T_f3280_row2_col4\" class=\"data row2 col4\" >mix</td>\n      <td id=\"T_f3280_row2_col5\" class=\"data row2 col5\" >0.474104</td>\n      <td id=\"T_f3280_row2_col6\" class=\"data row2 col6\" >output_db</td>\n      <td id=\"T_f3280_row2_col7\" class=\"data row2 col7\" >0.005743</td>\n      <td id=\"T_f3280_row2_col8\" class=\"data row2 col8\" >feedback</td>\n      <td id=\"T_f3280_row2_col9\" class=\"data row2 col9\" >0.030766</td>\n      <td id=\"T_f3280_row2_col10\" class=\"data row2 col10\" >output_db</td>\n      <td id=\"T_f3280_row2_col11\" class=\"data row2 col11\" >0.070965</td>\n    </tr>\n    <tr>\n      <th id=\"T_f3280_level0_row3\" class=\"row_heading level0 row3\" >3</th>\n      <td id=\"T_f3280_row3_col0\" class=\"data row3 col0\" >nan</td>\n      <td id=\"T_f3280_row3_col1\" class=\"data row3 col1\" >nan</td>\n      <td id=\"T_f3280_row3_col2\" class=\"data row3 col2\" >nan</td>\n      <td id=\"T_f3280_row3_col3\" class=\"data row3 col3\" >nan</td>\n      <td id=\"T_f3280_row3_col4\" class=\"data row3 col4\" >output_db</td>\n      <td id=\"T_f3280_row3_col5\" class=\"data row3 col5\" >0.006581</td>\n      <td id=\"T_f3280_row3_col6\" class=\"data row3 col6\" >hpf_freq</td>\n      <td id=\"T_f3280_row3_col7\" class=\"data row3 col7\" >1.582003</td>\n      <td id=\"T_f3280_row3_col8\" class=\"data row3 col8\" >fb_tone_lo_hi</td>\n      <td id=\"T_f3280_row3_col9\" class=\"data row3 col9\" >0.047116</td>\n      <td id=\"T_f3280_row3_col10\" class=\"data row3 col10\" >attack_s</td>\n      <td id=\"T_f3280_row3_col11\" class=\"data row3 col11\" >0.000000</td>\n    </tr>\n    <tr>\n      <th id=\"T_f3280_level0_row4\" class=\"row_heading level0 row4\" >4</th>\n      <td id=\"T_f3280_row4_col0\" class=\"data row4 col0\" >nan</td>\n      <td id=\"T_f3280_row4_col1\" class=\"data row4 col1\" >nan</td>\n      <td id=\"T_f3280_row4_col2\" class=\"data row4 col2\" >nan</td>\n      <td id=\"T_f3280_row4_col3\" class=\"data row4 col3\" >nan</td>\n      <td id=\"T_f3280_row4_col4\" class=\"data row4 col4\" >nan</td>\n      <td id=\"T_f3280_row4_col5\" class=\"data row4 col5\" >nan</td>\n      <td id=\"T_f3280_row4_col6\" class=\"data row4 col6\" >hpf_reso</td>\n      <td id=\"T_f3280_row4_col7\" class=\"data row4 col7\" >0.225313</td>\n      <td id=\"T_f3280_row4_col8\" class=\"data row4 col8\" >fb_mix</td>\n      <td id=\"T_f3280_row4_col9\" class=\"data row4 col9\" >0.318375</td>\n      <td id=\"T_f3280_row4_col10\" class=\"data row4 col10\" >release_ms</td>\n      <td id=\"T_f3280_row4_col11\" class=\"data row4 col11\" >0.178540</td>\n    </tr>\n    <tr>\n      <th id=\"T_f3280_level0_row5\" class=\"row_heading level0 row5\" >5</th>\n      <td id=\"T_f3280_row5_col0\" class=\"data row5 col0\" >nan</td>\n      <td id=\"T_f3280_row5_col1\" class=\"data row5 col1\" >nan</td>\n      <td id=\"T_f3280_row5_col2\" class=\"data row5 col2\" >nan</td>\n      <td id=\"T_f3280_row5_col3\" class=\"data row5 col3\" >nan</td>\n      <td id=\"T_f3280_row5_col4\" class=\"data row5 col4\" >nan</td>\n      <td id=\"T_f3280_row5_col5\" class=\"data row5 col5\" >nan</td>\n      <td id=\"T_f3280_row5_col6\" class=\"data row5 col6\" >nan</td>\n      <td id=\"T_f3280_row5_col7\" class=\"data row5 col7\" >nan</td>\n      <td id=\"T_f3280_row5_col8\" class=\"data row5 col8\" >nan</td>\n      <td id=\"T_f3280_row5_col9\" class=\"data row5 col9\" >nan</td>\n      <td id=\"T_f3280_row5_col10\" class=\"data row5 col10\" >limiter_db</td>\n      <td id=\"T_f3280_row5_col11\" class=\"data row5 col11\" >0.018847</td>\n    </tr>\n    <tr>\n      <th id=\"T_f3280_level0_row6\" class=\"row_heading level0 row6\" >6</th>\n      <td id=\"T_f3280_row6_col0\" class=\"data row6 col0\" >nan</td>\n      <td id=\"T_f3280_row6_col1\" class=\"data row6 col1\" >nan</td>\n      <td id=\"T_f3280_row6_col2\" class=\"data row6 col2\" >nan</td>\n      <td id=\"T_f3280_row6_col3\" class=\"data row6 col3\" >nan</td>\n      <td id=\"T_f3280_row6_col4\" class=\"data row6 col4\" >nan</td>\n      <td id=\"T_f3280_row6_col5\" class=\"data row6 col5\" >nan</td>\n      <td id=\"T_f3280_row6_col6\" class=\"data row6 col6\" >nan</td>\n      <td id=\"T_f3280_row6_col7\" class=\"data row6 col7\" >nan</td>\n      <td id=\"T_f3280_row6_col8\" class=\"data row6 col8\" >nan</td>\n      <td id=\"T_f3280_row6_col9\" class=\"data row6 col9\" >nan</td>\n      <td id=\"T_f3280_row6_col10\" class=\"data row6 col10\" >gate_thr_db</td>\n      <td id=\"T_f3280_row6_col11\" class=\"data row6 col11\" >0.249928</td>\n    </tr>\n    <tr>\n      <th id=\"T_f3280_level0_row7\" class=\"row_heading level0 row7\" >7</th>\n      <td id=\"T_f3280_row7_col0\" class=\"data row7 col0\" >nan</td>\n      <td id=\"T_f3280_row7_col1\" class=\"data row7 col1\" >nan</td>\n      <td id=\"T_f3280_row7_col2\" class=\"data row7 col2\" >nan</td>\n      <td id=\"T_f3280_row7_col3\" class=\"data row7 col3\" >nan</td>\n      <td id=\"T_f3280_row7_col4\" class=\"data row7 col4\" >nan</td>\n      <td id=\"T_f3280_row7_col5\" class=\"data row7 col5\" >nan</td>\n      <td id=\"T_f3280_row7_col6\" class=\"data row7 col6\" >nan</td>\n      <td id=\"T_f3280_row7_col7\" class=\"data row7 col7\" >nan</td>\n      <td id=\"T_f3280_row7_col8\" class=\"data row7 col8\" >nan</td>\n      <td id=\"T_f3280_row7_col9\" class=\"data row7 col9\" >nan</td>\n      <td id=\"T_f3280_row7_col10\" class=\"data row7 col10\" >gate_att_s</td>\n      <td id=\"T_f3280_row7_col11\" class=\"data row7 col11\" >0.000000</td>\n    </tr>\n    <tr>\n      <th id=\"T_f3280_level0_row8\" class=\"row_heading level0 row8\" >8</th>\n      <td id=\"T_f3280_row8_col0\" class=\"data row8 col0\" >nan</td>\n      <td id=\"T_f3280_row8_col1\" class=\"data row8 col1\" >nan</td>\n      <td id=\"T_f3280_row8_col2\" class=\"data row8 col2\" >nan</td>\n      <td id=\"T_f3280_row8_col3\" class=\"data row8 col3\" >nan</td>\n      <td id=\"T_f3280_row8_col4\" class=\"data row8 col4\" >nan</td>\n      <td id=\"T_f3280_row8_col5\" class=\"data row8 col5\" >nan</td>\n      <td id=\"T_f3280_row8_col6\" class=\"data row8 col6\" >nan</td>\n      <td id=\"T_f3280_row8_col7\" class=\"data row8 col7\" >nan</td>\n      <td id=\"T_f3280_row8_col8\" class=\"data row8 col8\" >nan</td>\n      <td id=\"T_f3280_row8_col9\" class=\"data row8 col9\" >nan</td>\n      <td id=\"T_f3280_row8_col10\" class=\"data row8 col10\" >gate_rel_ms</td>\n      <td id=\"T_f3280_row8_col11\" class=\"data row8 col11\" >0.074006</td>\n    </tr>\n    <tr>\n      <th id=\"T_f3280_level0_row9\" class=\"row_heading level0 row9\" >9</th>\n      <td id=\"T_f3280_row9_col0\" class=\"data row9 col0\" >nan</td>\n      <td id=\"T_f3280_row9_col1\" class=\"data row9 col1\" >nan</td>\n      <td id=\"T_f3280_row9_col2\" class=\"data row9 col2\" >nan</td>\n      <td id=\"T_f3280_row9_col3\" class=\"data row9 col3\" >nan</td>\n      <td id=\"T_f3280_row9_col4\" class=\"data row9 col4\" >nan</td>\n      <td id=\"T_f3280_row9_col5\" class=\"data row9 col5\" >nan</td>\n      <td id=\"T_f3280_row9_col6\" class=\"data row9 col6\" >nan</td>\n      <td id=\"T_f3280_row9_col7\" class=\"data row9 col7\" >nan</td>\n      <td id=\"T_f3280_row9_col8\" class=\"data row9 col8\" >nan</td>\n      <td id=\"T_f3280_row9_col9\" class=\"data row9 col9\" >nan</td>\n      <td id=\"T_f3280_row9_col10\" class=\"data row9 col10\" >mix</td>\n      <td id=\"T_f3280_row9_col11\" class=\"data row9 col11\" >0.064735</td>\n    </tr>\n  </tbody>\n</table>\n"
     },
     "metadata": {},
     "output_type": "display_data"
    }
   ],
   "source": [
    "blue_cm = sns.light_palette(\"blue\", as_cmap=True)\n",
    "\n",
    "display(full_df.style.background_gradient(cmap=blue_cm, subset=slice, vmin=0, vmax=vmax))\n",
    "\n"
   ],
   "metadata": {
    "collapsed": false
   }
  },
  {
   "cell_type": "code",
   "execution_count": 94,
   "outputs": [
    {
     "data": {
      "text/plain": "    Overdrive             RingMod             Ambience                Combo  \\\n        Param       MMI     Param       MMI      Param       MMI      Param   \n0       drive  0.580494   freq_hz  3.315551     size_m  0.306228  drive_s_h   \n1      muffle  1.378618   fine_hz  0.029495    hf_damp  0.022788       bias   \n2   output_db  0.001248  feedback  0.138130        mix  0.474104  output_db   \n3        mean  0.653453      mean  1.161059  output_db  0.006581   hpf_freq   \n4         NaN       NaN       NaN       NaN       mean  0.202425   hpf_reso   \n5         NaN       NaN       NaN       NaN        NaN       NaN       mean   \n6         NaN       NaN       NaN       NaN        NaN       NaN        NaN   \n7         NaN       NaN       NaN       NaN        NaN       NaN        NaN   \n8         NaN       NaN       NaN       NaN        NaN       NaN        NaN   \n9         NaN       NaN       NaN       NaN        NaN       NaN        NaN   \n10        NaN       NaN       NaN       NaN        NaN       NaN        NaN   \n\n                      Delay               Dynamics            \n         MMI          Param       MMI        Param       MMI  \n0   0.891225     l_delay_ms  0.789228    thresh_db  0.021160  \n1   0.010484        r_delay  0.222316        ratio  0.009682  \n2   0.005743       feedback  0.030766    output_db  0.070965  \n3   1.582003  fb_tone_lo_hi  0.047116     attack_s  0.000000  \n4   0.225313         fb_mix  0.318375   release_ms  0.178540  \n5   0.542954           mean  0.281560   limiter_db  0.018847  \n6        NaN            NaN       NaN  gate_thr_db  0.249928  \n7        NaN            NaN       NaN   gate_att_s  0.000000  \n8        NaN            NaN       NaN  gate_rel_ms  0.074006  \n9        NaN            NaN       NaN          mix  0.064735  \n10       NaN            NaN       NaN         mean  0.068786  ",
      "text/html": "<div>\n<style scoped>\n    .dataframe tbody tr th:only-of-type {\n        vertical-align: middle;\n    }\n\n    .dataframe tbody tr th {\n        vertical-align: top;\n    }\n\n    .dataframe thead tr th {\n        text-align: left;\n    }\n</style>\n<table border=\"1\" class=\"dataframe\">\n  <thead>\n    <tr>\n      <th></th>\n      <th colspan=\"2\" halign=\"left\">Overdrive</th>\n      <th colspan=\"2\" halign=\"left\">RingMod</th>\n      <th colspan=\"2\" halign=\"left\">Ambience</th>\n      <th colspan=\"2\" halign=\"left\">Combo</th>\n      <th colspan=\"2\" halign=\"left\">Delay</th>\n      <th colspan=\"2\" halign=\"left\">Dynamics</th>\n    </tr>\n    <tr>\n      <th></th>\n      <th>Param</th>\n      <th>MMI</th>\n      <th>Param</th>\n      <th>MMI</th>\n      <th>Param</th>\n      <th>MMI</th>\n      <th>Param</th>\n      <th>MMI</th>\n      <th>Param</th>\n      <th>MMI</th>\n      <th>Param</th>\n      <th>MMI</th>\n    </tr>\n  </thead>\n  <tbody>\n    <tr>\n      <th>0</th>\n      <td>drive</td>\n      <td>0.580494</td>\n      <td>freq_hz</td>\n      <td>3.315551</td>\n      <td>size_m</td>\n      <td>0.306228</td>\n      <td>drive_s_h</td>\n      <td>0.891225</td>\n      <td>l_delay_ms</td>\n      <td>0.789228</td>\n      <td>thresh_db</td>\n      <td>0.021160</td>\n    </tr>\n    <tr>\n      <th>1</th>\n      <td>muffle</td>\n      <td>1.378618</td>\n      <td>fine_hz</td>\n      <td>0.029495</td>\n      <td>hf_damp</td>\n      <td>0.022788</td>\n      <td>bias</td>\n      <td>0.010484</td>\n      <td>r_delay</td>\n      <td>0.222316</td>\n      <td>ratio</td>\n      <td>0.009682</td>\n    </tr>\n    <tr>\n      <th>2</th>\n      <td>output_db</td>\n      <td>0.001248</td>\n      <td>feedback</td>\n      <td>0.138130</td>\n      <td>mix</td>\n      <td>0.474104</td>\n      <td>output_db</td>\n      <td>0.005743</td>\n      <td>feedback</td>\n      <td>0.030766</td>\n      <td>output_db</td>\n      <td>0.070965</td>\n    </tr>\n    <tr>\n      <th>3</th>\n      <td>mean</td>\n      <td>0.653453</td>\n      <td>mean</td>\n      <td>1.161059</td>\n      <td>output_db</td>\n      <td>0.006581</td>\n      <td>hpf_freq</td>\n      <td>1.582003</td>\n      <td>fb_tone_lo_hi</td>\n      <td>0.047116</td>\n      <td>attack_s</td>\n      <td>0.000000</td>\n    </tr>\n    <tr>\n      <th>4</th>\n      <td>NaN</td>\n      <td>NaN</td>\n      <td>NaN</td>\n      <td>NaN</td>\n      <td>mean</td>\n      <td>0.202425</td>\n      <td>hpf_reso</td>\n      <td>0.225313</td>\n      <td>fb_mix</td>\n      <td>0.318375</td>\n      <td>release_ms</td>\n      <td>0.178540</td>\n    </tr>\n    <tr>\n      <th>5</th>\n      <td>NaN</td>\n      <td>NaN</td>\n      <td>NaN</td>\n      <td>NaN</td>\n      <td>NaN</td>\n      <td>NaN</td>\n      <td>mean</td>\n      <td>0.542954</td>\n      <td>mean</td>\n      <td>0.281560</td>\n      <td>limiter_db</td>\n      <td>0.018847</td>\n    </tr>\n    <tr>\n      <th>6</th>\n      <td>NaN</td>\n      <td>NaN</td>\n      <td>NaN</td>\n      <td>NaN</td>\n      <td>NaN</td>\n      <td>NaN</td>\n      <td>NaN</td>\n      <td>NaN</td>\n      <td>NaN</td>\n      <td>NaN</td>\n      <td>gate_thr_db</td>\n      <td>0.249928</td>\n    </tr>\n    <tr>\n      <th>7</th>\n      <td>NaN</td>\n      <td>NaN</td>\n      <td>NaN</td>\n      <td>NaN</td>\n      <td>NaN</td>\n      <td>NaN</td>\n      <td>NaN</td>\n      <td>NaN</td>\n      <td>NaN</td>\n      <td>NaN</td>\n      <td>gate_att_s</td>\n      <td>0.000000</td>\n    </tr>\n    <tr>\n      <th>8</th>\n      <td>NaN</td>\n      <td>NaN</td>\n      <td>NaN</td>\n      <td>NaN</td>\n      <td>NaN</td>\n      <td>NaN</td>\n      <td>NaN</td>\n      <td>NaN</td>\n      <td>NaN</td>\n      <td>NaN</td>\n      <td>gate_rel_ms</td>\n      <td>0.074006</td>\n    </tr>\n    <tr>\n      <th>9</th>\n      <td>NaN</td>\n      <td>NaN</td>\n      <td>NaN</td>\n      <td>NaN</td>\n      <td>NaN</td>\n      <td>NaN</td>\n      <td>NaN</td>\n      <td>NaN</td>\n      <td>NaN</td>\n      <td>NaN</td>\n      <td>mix</td>\n      <td>0.064735</td>\n    </tr>\n    <tr>\n      <th>10</th>\n      <td>NaN</td>\n      <td>NaN</td>\n      <td>NaN</td>\n      <td>NaN</td>\n      <td>NaN</td>\n      <td>NaN</td>\n      <td>NaN</td>\n      <td>NaN</td>\n      <td>NaN</td>\n      <td>NaN</td>\n      <td>mean</td>\n      <td>0.068786</td>\n    </tr>\n  </tbody>\n</table>\n</div>"
     },
     "execution_count": 94,
     "metadata": {},
     "output_type": "execute_result"
    }
   ],
   "source": [
    "full_df"
   ],
   "metadata": {
    "collapsed": false
   }
  },
  {
   "cell_type": "code",
   "execution_count": 73,
   "outputs": [
    {
     "data": {
      "text/plain": "    Overdrive             RingMod             Ambience                Combo  \\\n        Param       MMI     Param       MMI      Param       MMI      Param   \n0       drive  0.580494   freq_hz  3.315551     size_m  0.306228  drive_s_h   \n1      muffle  1.378618   fine_hz  0.029495    hf_damp  0.022788       bias   \n2   output_db  0.001248  feedback  0.138130        mix  0.474104  output_db   \n3        mean  0.653453      mean  1.161059  output_db  0.006581   hpf_freq   \n4         NaN       NaN       NaN       NaN       mean  0.202425   hpf_reso   \n5         NaN       NaN       NaN       NaN        NaN       NaN       mean   \n6         NaN       NaN       NaN       NaN        NaN       NaN        NaN   \n7         NaN       NaN       NaN       NaN        NaN       NaN        NaN   \n8         NaN       NaN       NaN       NaN        NaN       NaN        NaN   \n9         NaN       NaN       NaN       NaN        NaN       NaN        NaN   \n10        NaN       NaN       NaN       NaN        NaN       NaN        NaN   \n\n                      Delay               Dynamics            \n         MMI          Param       MMI        Param       MMI  \n0   0.891225     l_delay_ms  0.789228    thresh_db  0.021160  \n1   0.010484        r_delay  0.222316        ratio  0.009682  \n2   0.005743       feedback  0.030766    output_db  0.070965  \n3   1.582003  fb_tone_lo_hi  0.047116     attack_s  0.000000  \n4   0.225313         fb_mix  0.318375   release_ms  0.178540  \n5   0.542954           mean  0.281560   limiter_db  0.018847  \n6        NaN            NaN       NaN  gate_thr_db  0.249928  \n7        NaN            NaN       NaN   gate_att_s  0.000000  \n8        NaN            NaN       NaN  gate_rel_ms  0.074006  \n9        NaN            NaN       NaN          mix  0.064735  \n10       NaN            NaN       NaN         mean  0.068786  ",
      "text/html": "<div>\n<style scoped>\n    .dataframe tbody tr th:only-of-type {\n        vertical-align: middle;\n    }\n\n    .dataframe tbody tr th {\n        vertical-align: top;\n    }\n\n    .dataframe thead tr th {\n        text-align: left;\n    }\n</style>\n<table border=\"1\" class=\"dataframe\">\n  <thead>\n    <tr>\n      <th></th>\n      <th colspan=\"2\" halign=\"left\">Overdrive</th>\n      <th colspan=\"2\" halign=\"left\">RingMod</th>\n      <th colspan=\"2\" halign=\"left\">Ambience</th>\n      <th colspan=\"2\" halign=\"left\">Combo</th>\n      <th colspan=\"2\" halign=\"left\">Delay</th>\n      <th colspan=\"2\" halign=\"left\">Dynamics</th>\n    </tr>\n    <tr>\n      <th></th>\n      <th>Param</th>\n      <th>MMI</th>\n      <th>Param</th>\n      <th>MMI</th>\n      <th>Param</th>\n      <th>MMI</th>\n      <th>Param</th>\n      <th>MMI</th>\n      <th>Param</th>\n      <th>MMI</th>\n      <th>Param</th>\n      <th>MMI</th>\n    </tr>\n  </thead>\n  <tbody>\n    <tr>\n      <th>0</th>\n      <td>drive</td>\n      <td>0.580494</td>\n      <td>freq_hz</td>\n      <td>3.315551</td>\n      <td>size_m</td>\n      <td>0.306228</td>\n      <td>drive_s_h</td>\n      <td>0.891225</td>\n      <td>l_delay_ms</td>\n      <td>0.789228</td>\n      <td>thresh_db</td>\n      <td>0.021160</td>\n    </tr>\n    <tr>\n      <th>1</th>\n      <td>muffle</td>\n      <td>1.378618</td>\n      <td>fine_hz</td>\n      <td>0.029495</td>\n      <td>hf_damp</td>\n      <td>0.022788</td>\n      <td>bias</td>\n      <td>0.010484</td>\n      <td>r_delay</td>\n      <td>0.222316</td>\n      <td>ratio</td>\n      <td>0.009682</td>\n    </tr>\n    <tr>\n      <th>2</th>\n      <td>output_db</td>\n      <td>0.001248</td>\n      <td>feedback</td>\n      <td>0.138130</td>\n      <td>mix</td>\n      <td>0.474104</td>\n      <td>output_db</td>\n      <td>0.005743</td>\n      <td>feedback</td>\n      <td>0.030766</td>\n      <td>output_db</td>\n      <td>0.070965</td>\n    </tr>\n    <tr>\n      <th>3</th>\n      <td>mean</td>\n      <td>0.653453</td>\n      <td>mean</td>\n      <td>1.161059</td>\n      <td>output_db</td>\n      <td>0.006581</td>\n      <td>hpf_freq</td>\n      <td>1.582003</td>\n      <td>fb_tone_lo_hi</td>\n      <td>0.047116</td>\n      <td>attack_s</td>\n      <td>0.000000</td>\n    </tr>\n    <tr>\n      <th>4</th>\n      <td>NaN</td>\n      <td>NaN</td>\n      <td>NaN</td>\n      <td>NaN</td>\n      <td>mean</td>\n      <td>0.202425</td>\n      <td>hpf_reso</td>\n      <td>0.225313</td>\n      <td>fb_mix</td>\n      <td>0.318375</td>\n      <td>release_ms</td>\n      <td>0.178540</td>\n    </tr>\n    <tr>\n      <th>5</th>\n      <td>NaN</td>\n      <td>NaN</td>\n      <td>NaN</td>\n      <td>NaN</td>\n      <td>NaN</td>\n      <td>NaN</td>\n      <td>mean</td>\n      <td>0.542954</td>\n      <td>mean</td>\n      <td>0.281560</td>\n      <td>limiter_db</td>\n      <td>0.018847</td>\n    </tr>\n    <tr>\n      <th>6</th>\n      <td>NaN</td>\n      <td>NaN</td>\n      <td>NaN</td>\n      <td>NaN</td>\n      <td>NaN</td>\n      <td>NaN</td>\n      <td>NaN</td>\n      <td>NaN</td>\n      <td>NaN</td>\n      <td>NaN</td>\n      <td>gate_thr_db</td>\n      <td>0.249928</td>\n    </tr>\n    <tr>\n      <th>7</th>\n      <td>NaN</td>\n      <td>NaN</td>\n      <td>NaN</td>\n      <td>NaN</td>\n      <td>NaN</td>\n      <td>NaN</td>\n      <td>NaN</td>\n      <td>NaN</td>\n      <td>NaN</td>\n      <td>NaN</td>\n      <td>gate_att_s</td>\n      <td>0.000000</td>\n    </tr>\n    <tr>\n      <th>8</th>\n      <td>NaN</td>\n      <td>NaN</td>\n      <td>NaN</td>\n      <td>NaN</td>\n      <td>NaN</td>\n      <td>NaN</td>\n      <td>NaN</td>\n      <td>NaN</td>\n      <td>NaN</td>\n      <td>NaN</td>\n      <td>gate_rel_ms</td>\n      <td>0.074006</td>\n    </tr>\n    <tr>\n      <th>9</th>\n      <td>NaN</td>\n      <td>NaN</td>\n      <td>NaN</td>\n      <td>NaN</td>\n      <td>NaN</td>\n      <td>NaN</td>\n      <td>NaN</td>\n      <td>NaN</td>\n      <td>NaN</td>\n      <td>NaN</td>\n      <td>mix</td>\n      <td>0.064735</td>\n    </tr>\n    <tr>\n      <th>10</th>\n      <td>NaN</td>\n      <td>NaN</td>\n      <td>NaN</td>\n      <td>NaN</td>\n      <td>NaN</td>\n      <td>NaN</td>\n      <td>NaN</td>\n      <td>NaN</td>\n      <td>NaN</td>\n      <td>NaN</td>\n      <td>mean</td>\n      <td>0.068786</td>\n    </tr>\n  </tbody>\n</table>\n</div>"
     },
     "execution_count": 73,
     "metadata": {},
     "output_type": "execute_result"
    }
   ],
   "source": [
    "full_df"
   ],
   "metadata": {
    "collapsed": false
   }
  },
  {
   "cell_type": "code",
   "execution_count": null,
   "outputs": [],
   "source": [],
   "metadata": {
    "collapsed": false
   }
  }
 ],
 "metadata": {
  "kernelspec": {
   "display_name": "Python 3 (ipykernel)",
   "language": "python",
   "name": "python3"
  },
  "language_info": {
   "codemirror_mode": {
    "name": "ipython",
    "version": 3
   },
   "file_extension": ".py",
   "mimetype": "text/x-python",
   "name": "python",
   "nbconvert_exporter": "python",
   "pygments_lexer": "ipython3",
   "version": "3.10.6"
  }
 },
 "nbformat": 4,
 "nbformat_minor": 1
}
