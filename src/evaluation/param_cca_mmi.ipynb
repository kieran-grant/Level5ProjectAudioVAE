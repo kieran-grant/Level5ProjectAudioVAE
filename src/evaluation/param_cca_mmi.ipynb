{
 "cells": [
  {
   "cell_type": "code",
   "execution_count": 92,
   "metadata": {},
   "outputs": [],
   "source": [
    "import numpy as np\n",
    "import pandas as pd\n",
    "import seaborn as sns\n",
    "\n",
    "from tqdm import tqdm\n",
    "\n",
    "from src.plot_utils import dafx_from_name\n",
    "from sklearn.feature_selection import mutual_info_regression\n",
    "from sklearn.cross_decomposition import CCA"
   ]
  },
  {
   "cell_type": "code",
   "execution_count": 93,
   "outputs": [],
   "source": [
    "sns.set(style=\"white\")"
   ],
   "metadata": {
    "collapsed": false
   }
  },
  {
   "cell_type": "code",
   "execution_count": 94,
   "metadata": {},
   "outputs": [],
   "source": [
    "DATA_DIR = \"/home/kieran/Level5ProjectAudioVAE/src/evaluation/data/param_extraction\"\n",
    "FIG_DIR = \"/home/kieran/Level5ProjectAudioVAE/src/evaluation/figures/param_cca_mmi\"\n",
    "OUT_DATA_DIR = \"/home/kieran/Level5ProjectAudioVAE/src/evaluation/data/param_cca_mmi\"\n",
    "\n",
    "DAFX = [\"overdrive\", \"combo\", \"delay\", \"ambience\", \"dynamics\", \"ringmod\"]\n",
    "\n",
    "DAFX_TO_MDA_NAME = {\n",
    "    \"delay\": \"mda Delay\",\n",
    "    \"combo\": \"mda Combo\",\n",
    "    \"overdrive\": \"mda Overdrive\",\n",
    "    \"ambience\": \"mda Ambience\",\n",
    "    \"dynamics\": \"mda Dynamics\",\n",
    "    \"ringmod\": \"mda RingMod\",\n",
    "}"
   ]
  },
  {
   "cell_type": "code",
   "execution_count": 95,
   "outputs": [
    {
     "name": "stderr",
     "output_type": "stream",
     "text": [
      "100%|██████████| 6/6 [00:04<00:00,  1.43it/s]\n"
     ]
    }
   ],
   "source": [
    "dataframes = {}\n",
    "\n",
    "param_sizes = {}\n",
    "\n",
    "for fx in tqdm(DAFX):\n",
    "    emb = np.load(f\"{DATA_DIR}/{fx}_data.npy\")\n",
    "    params = np.load(f\"{DATA_DIR}/{fx}_settings.npy\")\n",
    "\n",
    "    idx_param_map = dafx_from_name(DAFX_TO_MDA_NAME[fx]).idx_to_param_map\n",
    "    param_sizes[fx] = len(idx_param_map)\n",
    "\n",
    "    cca = CCA(n_components=2)\n",
    "    cca.fit(emb, params)\n",
    "    X_c = cca.transform(emb)\n",
    "\n",
    "    mi_matrix = np.array([mutual_info_regression(X_c, params[:, i]) for i in range(params.shape[1])])\n",
    "    df = pd.DataFrame(mi_matrix, index=[idx_param_map[i] for i in range(params.shape[1])])\n",
    "\n",
    "    dataframes[fx] = df\n",
    "\n",
    "    df.to_csv(f\"{OUT_DATA_DIR}/{fx}.csv\")"
   ],
   "metadata": {
    "collapsed": false
   }
  },
  {
   "cell_type": "code",
   "execution_count": 96,
   "outputs": [],
   "source": [
    "sorted_fx = sorted(param_sizes, key=param_sizes.get)"
   ],
   "metadata": {
    "collapsed": false
   }
  },
  {
   "cell_type": "code",
   "execution_count": 97,
   "outputs": [
    {
     "data": {
      "text/plain": "['overdrive', 'ringmod', 'ambience', 'combo', 'delay', 'dynamics']"
     },
     "execution_count": 97,
     "metadata": {},
     "output_type": "execute_result"
    }
   ],
   "source": [
    "sorted_fx"
   ],
   "metadata": {
    "collapsed": false
   }
  },
  {
   "cell_type": "code",
   "execution_count": 98,
   "outputs": [],
   "source": [
    "subframes = []\n",
    "vmax = 0\n",
    "\n",
    "for fx in sorted_fx:\n",
    "    df = dataframes[fx]\n",
    "    sub_df = df.max(axis='columns').sort_values(ascending=False).reset_index()\n",
    "\n",
    "    vm = sub_df[0].max()\n",
    "\n",
    "    vmax = max(vm, vmax)\n",
    "\n",
    "    # mean_data = ['mean', sub_df[0].mean()]\n",
    "    # sub_df = pd.concat([sub_df, pd.DataFrame([mean_data], columns=sub_df.columns)], ignore_index=True)\n",
    "\n",
    "    fx_name = DAFX_TO_MDA_NAME[fx].split()[-1]\n",
    "\n",
    "    y = [(fx_name, 'Param'), (fx_name, 'MMI')]\n",
    "    cols = pd.MultiIndex.from_tuples(y)\n",
    "    sub_df.columns = cols\n",
    "\n",
    "    subframes.append(sub_df)"
   ],
   "metadata": {
    "collapsed": false
   }
  },
  {
   "cell_type": "code",
   "execution_count": 100,
   "outputs": [],
   "source": [
    "full_df = pd.concat(subframes, axis=1)"
   ],
   "metadata": {
    "collapsed": false
   }
  },
  {
   "cell_type": "code",
   "execution_count": 101,
   "outputs": [],
   "source": [
    "slice = [x for x in full_df.columns if x[1] == 'MMI']"
   ],
   "metadata": {
    "collapsed": false
   }
  },
  {
   "cell_type": "code",
   "execution_count": 102,
   "outputs": [
    {
     "data": {
      "text/plain": "[('Overdrive', 'MMI'),\n ('RingMod', 'MMI'),\n ('Ambience', 'MMI'),\n ('Combo', 'MMI'),\n ('Delay', 'MMI'),\n ('Dynamics', 'MMI')]"
     },
     "execution_count": 102,
     "metadata": {},
     "output_type": "execute_result"
    }
   ],
   "source": [
    "slice"
   ],
   "metadata": {
    "collapsed": false
   }
  },
  {
   "cell_type": "code",
   "execution_count": 103,
   "outputs": [],
   "source": [
    "res = full_df.mean(numeric_only=True)"
   ],
   "metadata": {
    "collapsed": false
   }
  },
  {
   "cell_type": "code",
   "execution_count": 104,
   "outputs": [],
   "source": [
    "mean_data = []\n",
    "for i in res:\n",
    "    mean_data.append('mean')\n",
    "    mean_data.append(i)"
   ],
   "metadata": {
    "collapsed": false
   }
  },
  {
   "cell_type": "code",
   "execution_count": 105,
   "outputs": [],
   "source": [
    "full_df = pd.concat([full_df, pd.DataFrame([mean_data], columns=full_df.columns)], ignore_index=True)"
   ],
   "metadata": {
    "collapsed": false
   }
  },
  {
   "cell_type": "code",
   "execution_count": 106,
   "outputs": [],
   "source": [
    "full_df.to_csv(f\"{OUT_DATA_DIR}_full.csv\")"
   ],
   "metadata": {
    "collapsed": false
   }
  },
  {
   "cell_type": "code",
   "execution_count": 107,
   "outputs": [],
   "source": [
    "blue_cm = sns.light_palette(\"blue\", as_cmap=True)\n",
    "\n",
    "styler = full_df.style\\\n",
    "    .background_gradient(cmap=blue_cm, subset=slice, vmin=0, vmax=vmax)\\\n",
    "    .set_properties(**{'text-align': 'center',\n",
    "                       'font-family': \"Calibri\",})\\\n",
    "    .format(na_rep='', precision=2)\\\n",
    "    .hide(axis='index')\n",
    "\n",
    "# Define the CSS style rule for the table headers\n",
    "header_css = [{'selector': '.col_heading',\n",
    "               'props': [('font-family', 'Calibri')]}]\n",
    "\n",
    "# Define the CSS style rule for cell padding\n",
    "padding_css = [{'selector': 'td',\n",
    "                'props': [('padding-left', '15px'), ('padding-right', '15px')]}]\n",
    "\n",
    "# Combine the CSS style rules\n",
    "css = padding_css  + header_css\n",
    "\n",
    "# Apply the CSS style rule to the table\n",
    "html = styler.set_table_styles(css).hide(axis='index').to_html(border=True)"
   ],
   "metadata": {
    "collapsed": false
   }
  },
  {
   "cell_type": "code",
   "execution_count": 108,
   "outputs": [],
   "source": [
    "# html = styler.to_html(index=False)"
   ],
   "metadata": {
    "collapsed": false
   }
  },
  {
   "cell_type": "code",
   "execution_count": 109,
   "outputs": [],
   "source": [
    "with open(f'{OUT_DATA_DIR}/table.html', 'w') as f:\n",
    "    f.write(html)"
   ],
   "metadata": {
    "collapsed": false
   }
  },
  {
   "cell_type": "code",
   "execution_count": 110,
   "outputs": [],
   "source": [
    "latex = styler.set_table_styles(css).hide(axis='index').to_latex()"
   ],
   "metadata": {
    "collapsed": false
   }
  },
  {
   "cell_type": "code",
   "execution_count": 111,
   "outputs": [],
   "source": [
    "with open(f'{OUT_DATA_DIR}/table.tex', 'w') as f:\n",
    "    f.write(latex)"
   ],
   "metadata": {
    "collapsed": false
   }
  },
  {
   "cell_type": "code",
   "execution_count": 112,
   "outputs": [],
   "source": [
    "styler.set_table_styles(css).hide(axis='index').to_excel(f\"{OUT_DATA_DIR}/full.xlsx\")"
   ],
   "metadata": {
    "collapsed": false
   }
  },
  {
   "cell_type": "code",
   "execution_count": null,
   "outputs": [],
   "source": [],
   "metadata": {
    "collapsed": false,
    "pycharm": {
     "is_executing": true
    }
   }
  },
  {
   "cell_type": "code",
   "execution_count": 113,
   "outputs": [
    {
     "data": {
      "text/plain": "<pandas.io.formats.style.Styler at 0x7fd68056c670>",
      "text/html": "<style type=\"text/css\">\n#T_c0c6a td {\n  padding-left: 15px;\n  padding-right: 15px;\n}\n#T_c0c6a .col_heading {\n  font-family: Calibri;\n}\n#T_c0c6a_row0_col0, #T_c0c6a_row0_col2, #T_c0c6a_row0_col4, #T_c0c6a_row0_col6, #T_c0c6a_row0_col8, #T_c0c6a_row0_col10, #T_c0c6a_row1_col0, #T_c0c6a_row1_col2, #T_c0c6a_row1_col4, #T_c0c6a_row1_col6, #T_c0c6a_row1_col8, #T_c0c6a_row1_col10, #T_c0c6a_row2_col0, #T_c0c6a_row2_col2, #T_c0c6a_row2_col4, #T_c0c6a_row2_col6, #T_c0c6a_row2_col8, #T_c0c6a_row2_col10, #T_c0c6a_row3_col0, #T_c0c6a_row3_col2, #T_c0c6a_row3_col4, #T_c0c6a_row3_col6, #T_c0c6a_row3_col8, #T_c0c6a_row3_col10, #T_c0c6a_row4_col0, #T_c0c6a_row4_col2, #T_c0c6a_row4_col4, #T_c0c6a_row4_col6, #T_c0c6a_row4_col8, #T_c0c6a_row4_col10, #T_c0c6a_row5_col0, #T_c0c6a_row5_col2, #T_c0c6a_row5_col4, #T_c0c6a_row5_col6, #T_c0c6a_row5_col8, #T_c0c6a_row5_col10, #T_c0c6a_row6_col0, #T_c0c6a_row6_col2, #T_c0c6a_row6_col4, #T_c0c6a_row6_col6, #T_c0c6a_row6_col8, #T_c0c6a_row6_col10, #T_c0c6a_row7_col0, #T_c0c6a_row7_col2, #T_c0c6a_row7_col4, #T_c0c6a_row7_col6, #T_c0c6a_row7_col8, #T_c0c6a_row7_col10, #T_c0c6a_row8_col0, #T_c0c6a_row8_col2, #T_c0c6a_row8_col4, #T_c0c6a_row8_col6, #T_c0c6a_row8_col8, #T_c0c6a_row8_col10, #T_c0c6a_row9_col0, #T_c0c6a_row9_col2, #T_c0c6a_row9_col4, #T_c0c6a_row9_col6, #T_c0c6a_row9_col8, #T_c0c6a_row9_col10, #T_c0c6a_row10_col0, #T_c0c6a_row10_col2, #T_c0c6a_row10_col4, #T_c0c6a_row10_col6, #T_c0c6a_row10_col8, #T_c0c6a_row10_col10 {\n  text-align: center;\n  font-family: Calibri;\n}\n#T_c0c6a_row0_col1 {\n  background-color: #0000ff;\n  color: #f1f1f1;\n  text-align: center;\n  font-family: Calibri;\n}\n#T_c0c6a_row0_col3 {\n  background-color: #a4a4f7;\n  color: #000000;\n  text-align: center;\n  font-family: Calibri;\n}\n#T_c0c6a_row0_col5 {\n  background-color: #bbbbf5;\n  color: #000000;\n  text-align: center;\n  font-family: Calibri;\n}\n#T_c0c6a_row0_col7 {\n  background-color: #7272f9;\n  color: #f1f1f1;\n  text-align: center;\n  font-family: Calibri;\n}\n#T_c0c6a_row0_col9 {\n  background-color: #bebef5;\n  color: #000000;\n  text-align: center;\n  font-family: Calibri;\n}\n#T_c0c6a_row0_col11 {\n  background-color: #e4e4f3;\n  color: #000000;\n  text-align: center;\n  font-family: Calibri;\n}\n#T_c0c6a_row1_col1 {\n  background-color: #8e8ef8;\n  color: #f1f1f1;\n  text-align: center;\n  font-family: Calibri;\n}\n#T_c0c6a_row1_col3 {\n  background-color: #babaf6;\n  color: #000000;\n  text-align: center;\n  font-family: Calibri;\n}\n#T_c0c6a_row1_col5 {\n  background-color: #d3d3f4;\n  color: #000000;\n  text-align: center;\n  font-family: Calibri;\n}\n#T_c0c6a_row1_col7 {\n  background-color: #c2c2f5;\n  color: #000000;\n  text-align: center;\n  font-family: Calibri;\n}\n#T_c0c6a_row1_col9, #T_c0c6a_row10_col7 {\n  background-color: #cecef5;\n  color: #000000;\n  text-align: center;\n  font-family: Calibri;\n}\n#T_c0c6a_row1_col11 {\n  background-color: #e5e5f3;\n  color: #000000;\n  text-align: center;\n  font-family: Calibri;\n}\n#T_c0c6a_row2_col1, #T_c0c6a_row2_col3, #T_c0c6a_row3_col5, #T_c0c6a_row3_col7, #T_c0c6a_row4_col7, #T_c0c6a_row4_col9, #T_c0c6a_row8_col11, #T_c0c6a_row9_col11 {\n  background-color: #f0f0f3;\n  color: #000000;\n  text-align: center;\n  font-family: Calibri;\n}\n#T_c0c6a_row2_col5, #T_c0c6a_row3_col11 {\n  background-color: #e9e9f3;\n  color: #000000;\n  text-align: center;\n  font-family: Calibri;\n}\n#T_c0c6a_row2_col7, #T_c0c6a_row6_col11, #T_c0c6a_row7_col11 {\n  background-color: #efeff3;\n  color: #000000;\n  text-align: center;\n  font-family: Calibri;\n}\n#T_c0c6a_row2_col9 {\n  background-color: #ebebf3;\n  color: #000000;\n  text-align: center;\n  font-family: Calibri;\n}\n#T_c0c6a_row2_col11 {\n  background-color: #e7e7f3;\n  color: #000000;\n  text-align: center;\n  font-family: Calibri;\n}\n#T_c0c6a_row3_col1, #T_c0c6a_row3_col3, #T_c0c6a_row4_col1, #T_c0c6a_row4_col3, #T_c0c6a_row4_col5, #T_c0c6a_row5_col1, #T_c0c6a_row5_col3, #T_c0c6a_row5_col5, #T_c0c6a_row5_col7, #T_c0c6a_row5_col9, #T_c0c6a_row6_col1, #T_c0c6a_row6_col3, #T_c0c6a_row6_col5, #T_c0c6a_row6_col7, #T_c0c6a_row6_col9, #T_c0c6a_row7_col1, #T_c0c6a_row7_col3, #T_c0c6a_row7_col5, #T_c0c6a_row7_col7, #T_c0c6a_row7_col9, #T_c0c6a_row8_col1, #T_c0c6a_row8_col3, #T_c0c6a_row8_col5, #T_c0c6a_row8_col7, #T_c0c6a_row8_col9, #T_c0c6a_row9_col1, #T_c0c6a_row9_col3, #T_c0c6a_row9_col5, #T_c0c6a_row9_col7, #T_c0c6a_row9_col9 {\n  background-color: #000000;\n  color: #f1f1f1;\n  text-align: center;\n  font-family: Calibri;\n}\n#T_c0c6a_row3_col9, #T_c0c6a_row5_col11 {\n  background-color: #eeeef3;\n  color: #000000;\n  text-align: center;\n  font-family: Calibri;\n}\n#T_c0c6a_row4_col11 {\n  background-color: #ededf3;\n  color: #000000;\n  text-align: center;\n  font-family: Calibri;\n}\n#T_c0c6a_row10_col1 {\n  background-color: #7f7ff9;\n  color: #f1f1f1;\n  text-align: center;\n  font-family: Calibri;\n}\n#T_c0c6a_row10_col3 {\n  background-color: #c5c5f5;\n  color: #000000;\n  text-align: center;\n  font-family: Calibri;\n}\n#T_c0c6a_row10_col5 {\n  background-color: #dadaf4;\n  color: #000000;\n  text-align: center;\n  font-family: Calibri;\n}\n#T_c0c6a_row10_col9 {\n  background-color: #dedef4;\n  color: #000000;\n  text-align: center;\n  font-family: Calibri;\n}\n#T_c0c6a_row10_col11 {\n  background-color: #ececf3;\n  color: #000000;\n  text-align: center;\n  font-family: Calibri;\n}\n</style>\n<table id=\"T_c0c6a\">\n  <thead>\n    <tr>\n      <th id=\"T_c0c6a_level0_col0\" class=\"col_heading level0 col0\" colspan=\"2\">Overdrive</th>\n      <th id=\"T_c0c6a_level0_col2\" class=\"col_heading level0 col2\" colspan=\"2\">RingMod</th>\n      <th id=\"T_c0c6a_level0_col4\" class=\"col_heading level0 col4\" colspan=\"2\">Ambience</th>\n      <th id=\"T_c0c6a_level0_col6\" class=\"col_heading level0 col6\" colspan=\"2\">Combo</th>\n      <th id=\"T_c0c6a_level0_col8\" class=\"col_heading level0 col8\" colspan=\"2\">Delay</th>\n      <th id=\"T_c0c6a_level0_col10\" class=\"col_heading level0 col10\" colspan=\"2\">Dynamics</th>\n    </tr>\n    <tr>\n      <th id=\"T_c0c6a_level1_col0\" class=\"col_heading level1 col0\" >Param</th>\n      <th id=\"T_c0c6a_level1_col1\" class=\"col_heading level1 col1\" >MMI</th>\n      <th id=\"T_c0c6a_level1_col2\" class=\"col_heading level1 col2\" >Param</th>\n      <th id=\"T_c0c6a_level1_col3\" class=\"col_heading level1 col3\" >MMI</th>\n      <th id=\"T_c0c6a_level1_col4\" class=\"col_heading level1 col4\" >Param</th>\n      <th id=\"T_c0c6a_level1_col5\" class=\"col_heading level1 col5\" >MMI</th>\n      <th id=\"T_c0c6a_level1_col6\" class=\"col_heading level1 col6\" >Param</th>\n      <th id=\"T_c0c6a_level1_col7\" class=\"col_heading level1 col7\" >MMI</th>\n      <th id=\"T_c0c6a_level1_col8\" class=\"col_heading level1 col8\" >Param</th>\n      <th id=\"T_c0c6a_level1_col9\" class=\"col_heading level1 col9\" >MMI</th>\n      <th id=\"T_c0c6a_level1_col10\" class=\"col_heading level1 col10\" >Param</th>\n      <th id=\"T_c0c6a_level1_col11\" class=\"col_heading level1 col11\" >MMI</th>\n    </tr>\n  </thead>\n  <tbody>\n    <tr>\n      <td id=\"T_c0c6a_row0_col0\" class=\"data row0 col0\" >muffle</td>\n      <td id=\"T_c0c6a_row0_col1\" class=\"data row0 col1\" >2.34</td>\n      <td id=\"T_c0c6a_row0_col2\" class=\"data row0 col2\" >freq_hz</td>\n      <td id=\"T_c0c6a_row0_col3\" class=\"data row0 col3\" >0.74</td>\n      <td id=\"T_c0c6a_row0_col4\" class=\"data row0 col4\" >mix</td>\n      <td id=\"T_c0c6a_row0_col5\" class=\"data row0 col5\" >0.53</td>\n      <td id=\"T_c0c6a_row0_col6\" class=\"data row0 col6\" >hpf_freq</td>\n      <td id=\"T_c0c6a_row0_col7\" class=\"data row0 col7\" >1.23</td>\n      <td id=\"T_c0c6a_row0_col8\" class=\"data row0 col8\" >fb_mix</td>\n      <td id=\"T_c0c6a_row0_col9\" class=\"data row0 col9\" >0.49</td>\n      <td id=\"T_c0c6a_row0_col10\" class=\"data row0 col10\" >output_db</td>\n      <td id=\"T_c0c6a_row0_col11\" class=\"data row0 col11\" >0.12</td>\n    </tr>\n    <tr>\n      <td id=\"T_c0c6a_row1_col0\" class=\"data row1 col0\" >drive</td>\n      <td id=\"T_c0c6a_row1_col1\" class=\"data row1 col1\" >0.96</td>\n      <td id=\"T_c0c6a_row1_col2\" class=\"data row1 col2\" >feedback</td>\n      <td id=\"T_c0c6a_row1_col3\" class=\"data row1 col3\" >0.54</td>\n      <td id=\"T_c0c6a_row1_col4\" class=\"data row1 col4\" >size_m</td>\n      <td id=\"T_c0c6a_row1_col5\" class=\"data row1 col5\" >0.28</td>\n      <td id=\"T_c0c6a_row1_col6\" class=\"data row1 col6\" >hpf_reso</td>\n      <td id=\"T_c0c6a_row1_col7\" class=\"data row1 col7\" >0.46</td>\n      <td id=\"T_c0c6a_row1_col8\" class=\"data row1 col8\" >l_delay_ms</td>\n      <td id=\"T_c0c6a_row1_col9\" class=\"data row1 col9\" >0.34</td>\n      <td id=\"T_c0c6a_row1_col10\" class=\"data row1 col10\" >gate_thr_db</td>\n      <td id=\"T_c0c6a_row1_col11\" class=\"data row1 col11\" >0.12</td>\n    </tr>\n    <tr>\n      <td id=\"T_c0c6a_row2_col0\" class=\"data row2 col0\" >output_db</td>\n      <td id=\"T_c0c6a_row2_col1\" class=\"data row2 col1\" >0.00</td>\n      <td id=\"T_c0c6a_row2_col2\" class=\"data row2 col2\" >fine_hz</td>\n      <td id=\"T_c0c6a_row2_col3\" class=\"data row2 col3\" >0.00</td>\n      <td id=\"T_c0c6a_row2_col4\" class=\"data row2 col4\" >hf_damp</td>\n      <td id=\"T_c0c6a_row2_col5\" class=\"data row2 col5\" >0.08</td>\n      <td id=\"T_c0c6a_row2_col6\" class=\"data row2 col6\" >drive_s_h</td>\n      <td id=\"T_c0c6a_row2_col7\" class=\"data row2 col7\" >0.02</td>\n      <td id=\"T_c0c6a_row2_col8\" class=\"data row2 col8\" >r_delay</td>\n      <td id=\"T_c0c6a_row2_col9\" class=\"data row2 col9\" >0.06</td>\n      <td id=\"T_c0c6a_row2_col10\" class=\"data row2 col10\" >mix</td>\n      <td id=\"T_c0c6a_row2_col11\" class=\"data row2 col11\" >0.10</td>\n    </tr>\n    <tr>\n      <td id=\"T_c0c6a_row3_col0\" class=\"data row3 col0\" ></td>\n      <td id=\"T_c0c6a_row3_col1\" class=\"data row3 col1\" ></td>\n      <td id=\"T_c0c6a_row3_col2\" class=\"data row3 col2\" ></td>\n      <td id=\"T_c0c6a_row3_col3\" class=\"data row3 col3\" ></td>\n      <td id=\"T_c0c6a_row3_col4\" class=\"data row3 col4\" >output_db</td>\n      <td id=\"T_c0c6a_row3_col5\" class=\"data row3 col5\" >0.00</td>\n      <td id=\"T_c0c6a_row3_col6\" class=\"data row3 col6\" >bias</td>\n      <td id=\"T_c0c6a_row3_col7\" class=\"data row3 col7\" >0.01</td>\n      <td id=\"T_c0c6a_row3_col8\" class=\"data row3 col8\" >feedback</td>\n      <td id=\"T_c0c6a_row3_col9\" class=\"data row3 col9\" >0.03</td>\n      <td id=\"T_c0c6a_row3_col10\" class=\"data row3 col10\" >release_ms</td>\n      <td id=\"T_c0c6a_row3_col11\" class=\"data row3 col11\" >0.08</td>\n    </tr>\n    <tr>\n      <td id=\"T_c0c6a_row4_col0\" class=\"data row4 col0\" ></td>\n      <td id=\"T_c0c6a_row4_col1\" class=\"data row4 col1\" ></td>\n      <td id=\"T_c0c6a_row4_col2\" class=\"data row4 col2\" ></td>\n      <td id=\"T_c0c6a_row4_col3\" class=\"data row4 col3\" ></td>\n      <td id=\"T_c0c6a_row4_col4\" class=\"data row4 col4\" ></td>\n      <td id=\"T_c0c6a_row4_col5\" class=\"data row4 col5\" ></td>\n      <td id=\"T_c0c6a_row4_col6\" class=\"data row4 col6\" >output_db</td>\n      <td id=\"T_c0c6a_row4_col7\" class=\"data row4 col7\" >0.00</td>\n      <td id=\"T_c0c6a_row4_col8\" class=\"data row4 col8\" >fb_tone_lo_hi</td>\n      <td id=\"T_c0c6a_row4_col9\" class=\"data row4 col9\" >0.01</td>\n      <td id=\"T_c0c6a_row4_col10\" class=\"data row4 col10\" >gate_rel_ms</td>\n      <td id=\"T_c0c6a_row4_col11\" class=\"data row4 col11\" >0.04</td>\n    </tr>\n    <tr>\n      <td id=\"T_c0c6a_row5_col0\" class=\"data row5 col0\" ></td>\n      <td id=\"T_c0c6a_row5_col1\" class=\"data row5 col1\" ></td>\n      <td id=\"T_c0c6a_row5_col2\" class=\"data row5 col2\" ></td>\n      <td id=\"T_c0c6a_row5_col3\" class=\"data row5 col3\" ></td>\n      <td id=\"T_c0c6a_row5_col4\" class=\"data row5 col4\" ></td>\n      <td id=\"T_c0c6a_row5_col5\" class=\"data row5 col5\" ></td>\n      <td id=\"T_c0c6a_row5_col6\" class=\"data row5 col6\" ></td>\n      <td id=\"T_c0c6a_row5_col7\" class=\"data row5 col7\" ></td>\n      <td id=\"T_c0c6a_row5_col8\" class=\"data row5 col8\" ></td>\n      <td id=\"T_c0c6a_row5_col9\" class=\"data row5 col9\" ></td>\n      <td id=\"T_c0c6a_row5_col10\" class=\"data row5 col10\" >limiter_db</td>\n      <td id=\"T_c0c6a_row5_col11\" class=\"data row5 col11\" >0.03</td>\n    </tr>\n    <tr>\n      <td id=\"T_c0c6a_row6_col0\" class=\"data row6 col0\" ></td>\n      <td id=\"T_c0c6a_row6_col1\" class=\"data row6 col1\" ></td>\n      <td id=\"T_c0c6a_row6_col2\" class=\"data row6 col2\" ></td>\n      <td id=\"T_c0c6a_row6_col3\" class=\"data row6 col3\" ></td>\n      <td id=\"T_c0c6a_row6_col4\" class=\"data row6 col4\" ></td>\n      <td id=\"T_c0c6a_row6_col5\" class=\"data row6 col5\" ></td>\n      <td id=\"T_c0c6a_row6_col6\" class=\"data row6 col6\" ></td>\n      <td id=\"T_c0c6a_row6_col7\" class=\"data row6 col7\" ></td>\n      <td id=\"T_c0c6a_row6_col8\" class=\"data row6 col8\" ></td>\n      <td id=\"T_c0c6a_row6_col9\" class=\"data row6 col9\" ></td>\n      <td id=\"T_c0c6a_row6_col10\" class=\"data row6 col10\" >ratio</td>\n      <td id=\"T_c0c6a_row6_col11\" class=\"data row6 col11\" >0.02</td>\n    </tr>\n    <tr>\n      <td id=\"T_c0c6a_row7_col0\" class=\"data row7 col0\" ></td>\n      <td id=\"T_c0c6a_row7_col1\" class=\"data row7 col1\" ></td>\n      <td id=\"T_c0c6a_row7_col2\" class=\"data row7 col2\" ></td>\n      <td id=\"T_c0c6a_row7_col3\" class=\"data row7 col3\" ></td>\n      <td id=\"T_c0c6a_row7_col4\" class=\"data row7 col4\" ></td>\n      <td id=\"T_c0c6a_row7_col5\" class=\"data row7 col5\" ></td>\n      <td id=\"T_c0c6a_row7_col6\" class=\"data row7 col6\" ></td>\n      <td id=\"T_c0c6a_row7_col7\" class=\"data row7 col7\" ></td>\n      <td id=\"T_c0c6a_row7_col8\" class=\"data row7 col8\" ></td>\n      <td id=\"T_c0c6a_row7_col9\" class=\"data row7 col9\" ></td>\n      <td id=\"T_c0c6a_row7_col10\" class=\"data row7 col10\" >thresh_db</td>\n      <td id=\"T_c0c6a_row7_col11\" class=\"data row7 col11\" >0.02</td>\n    </tr>\n    <tr>\n      <td id=\"T_c0c6a_row8_col0\" class=\"data row8 col0\" ></td>\n      <td id=\"T_c0c6a_row8_col1\" class=\"data row8 col1\" ></td>\n      <td id=\"T_c0c6a_row8_col2\" class=\"data row8 col2\" ></td>\n      <td id=\"T_c0c6a_row8_col3\" class=\"data row8 col3\" ></td>\n      <td id=\"T_c0c6a_row8_col4\" class=\"data row8 col4\" ></td>\n      <td id=\"T_c0c6a_row8_col5\" class=\"data row8 col5\" ></td>\n      <td id=\"T_c0c6a_row8_col6\" class=\"data row8 col6\" ></td>\n      <td id=\"T_c0c6a_row8_col7\" class=\"data row8 col7\" ></td>\n      <td id=\"T_c0c6a_row8_col8\" class=\"data row8 col8\" ></td>\n      <td id=\"T_c0c6a_row8_col9\" class=\"data row8 col9\" ></td>\n      <td id=\"T_c0c6a_row8_col10\" class=\"data row8 col10\" >gate_att_s</td>\n      <td id=\"T_c0c6a_row8_col11\" class=\"data row8 col11\" >0.01</td>\n    </tr>\n    <tr>\n      <td id=\"T_c0c6a_row9_col0\" class=\"data row9 col0\" ></td>\n      <td id=\"T_c0c6a_row9_col1\" class=\"data row9 col1\" ></td>\n      <td id=\"T_c0c6a_row9_col2\" class=\"data row9 col2\" ></td>\n      <td id=\"T_c0c6a_row9_col3\" class=\"data row9 col3\" ></td>\n      <td id=\"T_c0c6a_row9_col4\" class=\"data row9 col4\" ></td>\n      <td id=\"T_c0c6a_row9_col5\" class=\"data row9 col5\" ></td>\n      <td id=\"T_c0c6a_row9_col6\" class=\"data row9 col6\" ></td>\n      <td id=\"T_c0c6a_row9_col7\" class=\"data row9 col7\" ></td>\n      <td id=\"T_c0c6a_row9_col8\" class=\"data row9 col8\" ></td>\n      <td id=\"T_c0c6a_row9_col9\" class=\"data row9 col9\" ></td>\n      <td id=\"T_c0c6a_row9_col10\" class=\"data row9 col10\" >attack_s</td>\n      <td id=\"T_c0c6a_row9_col11\" class=\"data row9 col11\" >0.00</td>\n    </tr>\n    <tr>\n      <td id=\"T_c0c6a_row10_col0\" class=\"data row10 col0\" >mean</td>\n      <td id=\"T_c0c6a_row10_col1\" class=\"data row10 col1\" >1.10</td>\n      <td id=\"T_c0c6a_row10_col2\" class=\"data row10 col2\" >mean</td>\n      <td id=\"T_c0c6a_row10_col3\" class=\"data row10 col3\" >0.43</td>\n      <td id=\"T_c0c6a_row10_col4\" class=\"data row10 col4\" >mean</td>\n      <td id=\"T_c0c6a_row10_col5\" class=\"data row10 col5\" >0.22</td>\n      <td id=\"T_c0c6a_row10_col6\" class=\"data row10 col6\" >mean</td>\n      <td id=\"T_c0c6a_row10_col7\" class=\"data row10 col7\" >0.34</td>\n      <td id=\"T_c0c6a_row10_col8\" class=\"data row10 col8\" >mean</td>\n      <td id=\"T_c0c6a_row10_col9\" class=\"data row10 col9\" >0.19</td>\n      <td id=\"T_c0c6a_row10_col10\" class=\"data row10 col10\" >mean</td>\n      <td id=\"T_c0c6a_row10_col11\" class=\"data row10 col11\" >0.05</td>\n    </tr>\n  </tbody>\n</table>\n"
     },
     "metadata": {},
     "output_type": "display_data"
    }
   ],
   "source": [
    "display(styler)"
   ],
   "metadata": {
    "collapsed": false
   }
  },
  {
   "cell_type": "code",
   "execution_count": null,
   "outputs": [],
   "source": [],
   "metadata": {
    "collapsed": false
   }
  }
 ],
 "metadata": {
  "kernelspec": {
   "display_name": "Python 3 (ipykernel)",
   "language": "python",
   "name": "python3"
  },
  "language_info": {
   "codemirror_mode": {
    "name": "ipython",
    "version": 3
   },
   "file_extension": ".py",
   "mimetype": "text/x-python",
   "name": "python",
   "nbconvert_exporter": "python",
   "pygments_lexer": "ipython3",
   "version": "3.10.6"
  }
 },
 "nbformat": 4,
 "nbformat_minor": 1
}
