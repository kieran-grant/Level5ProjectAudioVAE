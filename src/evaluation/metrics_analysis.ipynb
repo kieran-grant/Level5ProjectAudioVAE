{
 "cells": [
  {
   "cell_type": "code",
   "execution_count": 69,
   "id": "10140d32",
   "metadata": {},
   "outputs": [],
   "source": [
    "import pandas as pd\n",
    "import math\n",
    "import seaborn as sns\n",
    "import matplotlib.pyplot as plt"
   ]
  },
  {
   "cell_type": "code",
   "execution_count": 70,
   "id": "798d60d6",
   "metadata": {},
   "outputs": [],
   "source": [
    "# def get_subplot_dimensions(N, max_columns=None):\n",
    "#     if max_columns is None or N <= max_columns:\n",
    "#         # If max_columns is not specified or N is less than or equal to max_columns,\n",
    "#         # then the number of columns required is equal to N.\n",
    "#         # In this case, the number of rows required is 1.\n",
    "#         return 1, N\n",
    "\n",
    "#     # If N is greater than max_columns, we need to calculate the number of rows required.\n",
    "#     rows = math.ceil(N / max_columns)\n",
    "#     cols = max_columns\n",
    "\n",
    "#     return rows, cols"
   ]
  },
  {
   "cell_type": "code",
   "execution_count": 71,
   "id": "74b8a2de",
   "metadata": {},
   "outputs": [],
   "source": [
    "RESULTS_DIR = \"/home/kieran/Level5ProjectAudioVAE/src/evaluation/data/metrics\""
   ]
  },
  {
   "cell_type": "code",
   "execution_count": 73,
   "id": "6d44b4d7",
   "metadata": {},
   "outputs": [],
   "source": [
    "# effects = ['overdrive', 'multiband', 'ambience', 'delay']"
   ]
  },
  {
   "cell_type": "code",
   "execution_count": 86,
   "id": "472173ba",
   "metadata": {},
   "outputs": [],
   "source": [
    "cols = ['dafx', 'pesq', 'mrstft', 'msd', 'sce', 'cfe']"
   ]
  },
  {
   "cell_type": "code",
   "execution_count": 92,
   "id": "78a140b5",
   "metadata": {},
   "outputs": [],
   "source": [
    "vtck = pd.read_csv(f\"{RESULTS_DIR}/vctk.csv\", index_col=0)[cols]\n",
    "df = pd.read_csv(f\"{RESULTS_DIR}/daps.csv\", index_col=0)[cols]\n",
    "musdb = pd.read_csv(f\"{RESULTS_DIR}/musdb18.csv\", index_col=0)[cols]"
   ]
  },
  {
   "cell_type": "code",
   "execution_count": 93,
   "id": "298ab1b3",
   "metadata": {},
   "outputs": [],
   "source": [
    "# max_cols = 3\n",
    "# rows, cols = get_subplot_dimensions(len(metrics), max_columns=max_cols)\n",
    "# fig, axs = plt.subplots(rows, cols, figsize=(5*cols,4*rows))\n",
    "\n",
    "# for i, metric in enumerate(metrics):\n",
    "#     row_idx, col_idx = divmod(i, cols)\n",
    "\n",
    "#     if rows == 1:\n",
    "#             current_ax = axs[col_idx]\n",
    "#     elif cols == 1:\n",
    "#         current_ax = axs[row_idx]\n",
    "#     else:\n",
    "#         current_ax = axs[row_idx, col_idx]\n",
    "    \n",
    "#     sns.boxplot(df, x='dafx', y=metric, ax=current_ax)\n",
    "#     current_ax.set_xticklabels(current_ax.get_xticklabels(), rotation=45)\n",
    "#     current_ax.set_title(metric.upper())\n",
    "    \n",
    "# plt.tight_layout()\n",
    "# plt.show()"
   ]
  },
  {
   "cell_type": "code",
   "execution_count": 96,
   "id": "f97c70a5",
   "metadata": {},
   "outputs": [
    {
     "data": {
      "text/html": [
       "<style type=\"text/css\">\n",
       "#T_dd51c_row0_col2, #T_dd51c_row0_col4, #T_dd51c_row3_col3, #T_dd51c_row6_col0, #T_dd51c_row6_col1 {\n",
       "  background-color: yellow;\n",
       "}\n",
       "#T_dd51c_row1_col2, #T_dd51c_row1_col4, #T_dd51c_row8_col0, #T_dd51c_row8_col1, #T_dd51c_row8_col3 {\n",
       "  background-color: red;\n",
       "}\n",
       "</style>\n",
       "<table id=\"T_dd51c\">\n",
       "  <thead>\n",
       "    <tr>\n",
       "      <th class=\"blank level0\" >&nbsp;</th>\n",
       "      <th id=\"T_dd51c_level0_col0\" class=\"col_heading level0 col0\" >pesq</th>\n",
       "      <th id=\"T_dd51c_level0_col1\" class=\"col_heading level0 col1\" >mrstft</th>\n",
       "      <th id=\"T_dd51c_level0_col2\" class=\"col_heading level0 col2\" >msd</th>\n",
       "      <th id=\"T_dd51c_level0_col3\" class=\"col_heading level0 col3\" >sce</th>\n",
       "      <th id=\"T_dd51c_level0_col4\" class=\"col_heading level0 col4\" >cfe</th>\n",
       "    </tr>\n",
       "    <tr>\n",
       "      <th class=\"index_name level0\" >dafx</th>\n",
       "      <th class=\"blank col0\" >&nbsp;</th>\n",
       "      <th class=\"blank col1\" >&nbsp;</th>\n",
       "      <th class=\"blank col2\" >&nbsp;</th>\n",
       "      <th class=\"blank col3\" >&nbsp;</th>\n",
       "      <th class=\"blank col4\" >&nbsp;</th>\n",
       "    </tr>\n",
       "  </thead>\n",
       "  <tbody>\n",
       "    <tr>\n",
       "      <th id=\"T_dd51c_level0_row0\" class=\"row_heading level0 row0\" >ambience</th>\n",
       "      <td id=\"T_dd51c_row0_col0\" class=\"data row0 col0\" >2.625376</td>\n",
       "      <td id=\"T_dd51c_row0_col1\" class=\"data row0 col1\" >0.524781</td>\n",
       "      <td id=\"T_dd51c_row0_col2\" class=\"data row0 col2\" >1.629467</td>\n",
       "      <td id=\"T_dd51c_row0_col3\" class=\"data row0 col3\" >155.987263</td>\n",
       "      <td id=\"T_dd51c_row0_col4\" class=\"data row0 col4\" >1.663166</td>\n",
       "    </tr>\n",
       "    <tr>\n",
       "      <th id=\"T_dd51c_level0_row1\" class=\"row_heading level0 row1\" >combo</th>\n",
       "      <td id=\"T_dd51c_row1_col0\" class=\"data row1 col0\" >3.403186</td>\n",
       "      <td id=\"T_dd51c_row1_col1\" class=\"data row1 col1\" >1.054947</td>\n",
       "      <td id=\"T_dd51c_row1_col2\" class=\"data row1 col2\" >4.278518</td>\n",
       "      <td id=\"T_dd51c_row1_col3\" class=\"data row1 col3\" >312.940663</td>\n",
       "      <td id=\"T_dd51c_row1_col4\" class=\"data row1 col4\" >5.996565</td>\n",
       "    </tr>\n",
       "    <tr>\n",
       "      <th id=\"T_dd51c_level0_row2\" class=\"row_heading level0 row2\" >delay</th>\n",
       "      <td id=\"T_dd51c_row2_col0\" class=\"data row2 col0\" >1.611228</td>\n",
       "      <td id=\"T_dd51c_row2_col1\" class=\"data row2 col1\" >1.077613</td>\n",
       "      <td id=\"T_dd51c_row2_col2\" class=\"data row2 col2\" >2.733780</td>\n",
       "      <td id=\"T_dd51c_row2_col3\" class=\"data row2 col3\" >245.982108</td>\n",
       "      <td id=\"T_dd51c_row2_col4\" class=\"data row2 col4\" >2.475333</td>\n",
       "    </tr>\n",
       "    <tr>\n",
       "      <th id=\"T_dd51c_level0_row3\" class=\"row_heading level0 row3\" >dynamics</th>\n",
       "      <td id=\"T_dd51c_row3_col0\" class=\"data row3 col0\" >4.206596</td>\n",
       "      <td id=\"T_dd51c_row3_col1\" class=\"data row3 col1\" >0.700966</td>\n",
       "      <td id=\"T_dd51c_row3_col2\" class=\"data row3 col2\" >3.681431</td>\n",
       "      <td id=\"T_dd51c_row3_col3\" class=\"data row3 col3\" >10.342142</td>\n",
       "      <td id=\"T_dd51c_row3_col4\" class=\"data row3 col4\" >4.638893</td>\n",
       "    </tr>\n",
       "    <tr>\n",
       "      <th id=\"T_dd51c_level0_row4\" class=\"row_heading level0 row4\" >flanger</th>\n",
       "      <td id=\"T_dd51c_row4_col0\" class=\"data row4 col0\" >2.386474</td>\n",
       "      <td id=\"T_dd51c_row4_col1\" class=\"data row4 col1\" >0.695547</td>\n",
       "      <td id=\"T_dd51c_row4_col2\" class=\"data row4 col2\" >1.913926</td>\n",
       "      <td id=\"T_dd51c_row4_col3\" class=\"data row4 col3\" >140.322264</td>\n",
       "      <td id=\"T_dd51c_row4_col4\" class=\"data row4 col4\" >1.783682</td>\n",
       "    </tr>\n",
       "    <tr>\n",
       "      <th id=\"T_dd51c_level0_row5\" class=\"row_heading level0 row5\" >leslie</th>\n",
       "      <td id=\"T_dd51c_row5_col0\" class=\"data row5 col0\" >3.315956</td>\n",
       "      <td id=\"T_dd51c_row5_col1\" class=\"data row5 col1\" >0.621029</td>\n",
       "      <td id=\"T_dd51c_row5_col2\" class=\"data row5 col2\" >2.320705</td>\n",
       "      <td id=\"T_dd51c_row5_col3\" class=\"data row5 col3\" >111.976451</td>\n",
       "      <td id=\"T_dd51c_row5_col4\" class=\"data row5 col4\" >2.899035</td>\n",
       "    </tr>\n",
       "    <tr>\n",
       "      <th id=\"T_dd51c_level0_row6\" class=\"row_heading level0 row6\" >multiband</th>\n",
       "      <td id=\"T_dd51c_row6_col0\" class=\"data row6 col0\" >4.450827</td>\n",
       "      <td id=\"T_dd51c_row6_col1\" class=\"data row6 col1\" >0.491711</td>\n",
       "      <td id=\"T_dd51c_row6_col2\" class=\"data row6 col2\" >2.295264</td>\n",
       "      <td id=\"T_dd51c_row6_col3\" class=\"data row6 col3\" >343.810492</td>\n",
       "      <td id=\"T_dd51c_row6_col4\" class=\"data row6 col4\" >2.447423</td>\n",
       "    </tr>\n",
       "    <tr>\n",
       "      <th id=\"T_dd51c_level0_row7\" class=\"row_heading level0 row7\" >overdrive</th>\n",
       "      <td id=\"T_dd51c_row7_col0\" class=\"data row7 col0\" >4.223743</td>\n",
       "      <td id=\"T_dd51c_row7_col1\" class=\"data row7 col1\" >0.639782</td>\n",
       "      <td id=\"T_dd51c_row7_col2\" class=\"data row7 col2\" >3.545668</td>\n",
       "      <td id=\"T_dd51c_row7_col3\" class=\"data row7 col3\" >185.566684</td>\n",
       "      <td id=\"T_dd51c_row7_col4\" class=\"data row7 col4\" >3.445503</td>\n",
       "    </tr>\n",
       "    <tr>\n",
       "      <th id=\"T_dd51c_level0_row8\" class=\"row_heading level0 row8\" >ringmod</th>\n",
       "      <td id=\"T_dd51c_row8_col0\" class=\"data row8 col0\" >1.148126</td>\n",
       "      <td id=\"T_dd51c_row8_col1\" class=\"data row8 col1\" >1.620978</td>\n",
       "      <td id=\"T_dd51c_row8_col2\" class=\"data row8 col2\" >3.156850</td>\n",
       "      <td id=\"T_dd51c_row8_col3\" class=\"data row8 col3\" >1786.935301</td>\n",
       "      <td id=\"T_dd51c_row8_col4\" class=\"data row8 col4\" >3.104844</td>\n",
       "    </tr>\n",
       "  </tbody>\n",
       "</table>\n"
      ],
      "text/plain": [
       "<pandas.io.formats.style.Styler at 0x7ff22fca3850>"
      ]
     },
     "execution_count": 96,
     "metadata": {},
     "output_type": "execute_result"
    }
   ],
   "source": [
    "df = vtck.groupby('dafx').mean()\n",
    "\n",
    "(df.style.highlight_min(axis=0, props='background-color:yellow;', subset=['mrstft', 'msd', 'sce', 'cfe'])\n",
    "         .highlight_max(axis=0, props='background-color:red;', subset=['mrstft', 'msd', 'sce', 'cfe'])\n",
    "         .highlight_max(axis=0, props='background-color:yellow;', subset=['pesq'])\n",
    "         .highlight_min(axis=0, props='background-color:red;', subset=['pesq']))"
   ]
  },
  {
   "cell_type": "code",
   "execution_count": 96,
   "id": "52f45446",
   "metadata": {},
   "outputs": [
    {
     "name": "stdout",
     "output_type": "stream",
     "text": [
      "      dafx      pesq    mrstft       msd          sce       cfe      lufs  \\\n",
      "0  ringmod  1.264534  1.240924  1.688044   581.219238  0.378036  1.175730   \n",
      "1  ringmod  1.097677  1.509358  1.852710  2701.941895  1.242100  1.431181   \n",
      "2  ringmod  1.106961  1.885739  3.897070  3101.211914  8.329063  0.995755   \n",
      "3  ringmod  1.335033  0.977367  1.059218   148.408691  2.098587  2.480933   \n",
      "4  ringmod  1.043208  2.118981  7.017373  3594.831543  9.860069  1.100903   \n",
      "\n",
      "        rms  \n",
      "0  2.691025  \n",
      "1  2.523155  \n",
      "2  2.120857  \n",
      "3  5.717728  \n",
      "4  5.352554  \n"
     ]
    }
   ],
   "source": [
    "print(vtck.head())"
   ]
  },
  {
   "cell_type": "code",
   "execution_count": 126,
   "id": "b42e137a",
   "metadata": {},
   "outputs": [],
   "source": [
    "# group the data by 'dafx' category\n",
    "grouped_df = vtck.groupby('dafx')\n",
    "\n",
    "# calculate mean and standard deviation for each group\n",
    "result = grouped_df.agg(['mean', 'std'])\n",
    "\n",
    "# flatten the column index\n",
    "result.columns = result.columns.map('_'.join)\n",
    "\n",
    "# extract the columns you want to format\n",
    "result = result[['pesq_mean', 'mrstft_mean', 'msd_mean', 'sce_mean', 'cfe_mean', 'lufs_mean', 'rms_mean',\n",
    "                 'pesq_std', 'mrstft_std', 'msd_std', 'sce_std', 'cfe_std', 'lufs_std', 'rms_std']]\n",
    "\n",
    "# # format the values as strings\n",
    "# formatted = result.apply(lambda x: '{:.3f} (std: {:.3f})'.format(x[0], x[1]))\n",
    "metrics = ['pesq', 'mrstft', 'msd', 'sce', 'cfe', 'lufs']\n",
    "# # display the final dataframe\n",
    "# print(formatted)"
   ]
  },
  {
   "cell_type": "code",
   "execution_count": 129,
   "id": "98081620",
   "metadata": {},
   "outputs": [
    {
     "data": {
      "text/plain": [
       "[pesq_mean    2.625376\n",
       " pesq_std     0.868496\n",
       " Name: ambience, dtype: float64,\n",
       " mrstft_mean    0.524781\n",
       " mrstft_std     0.326934\n",
       " Name: ambience, dtype: float64,\n",
       " msd_mean    1.629467\n",
       " msd_std     1.380610\n",
       " Name: ambience, dtype: float64,\n",
       " sce_mean    155.987263\n",
       " sce_std     191.895103\n",
       " Name: ambience, dtype: float64,\n",
       " cfe_mean    1.663166\n",
       " cfe_std     1.833620\n",
       " Name: ambience, dtype: float64,\n",
       " lufs_mean    1.560620\n",
       " lufs_std     1.891791\n",
       " Name: ambience, dtype: float64]"
      ]
     },
     "execution_count": 129,
     "metadata": {},
     "output_type": "execute_result"
    }
   ],
   "source": [
    "[result.iloc[0][[f\"{m}_mean\", f\"{m}_std\"]] for m in metrics]\n",
    "    "
   ]
  },
  {
   "cell_type": "code",
   "execution_count": 115,
   "id": "5b77eda9",
   "metadata": {},
   "outputs": [
    {
     "data": {
      "text/plain": [
       "pesq_mean        2.625376\n",
       "mrstft_mean      0.524781\n",
       "msd_mean         1.629467\n",
       "sce_mean       155.987263\n",
       "cfe_mean         1.663166\n",
       "lufs_mean        1.560620\n",
       "rms_mean         3.615515\n",
       "pesq_std         0.868496\n",
       "mrstft_std       0.326934\n",
       "msd_std          1.380610\n",
       "sce_std        191.895103\n",
       "cfe_std          1.833620\n",
       "lufs_std         1.891791\n",
       "rms_std          4.352336\n",
       "Name: ambience, dtype: float64"
      ]
     },
     "execution_count": 115,
     "metadata": {},
     "output_type": "execute_result"
    }
   ],
   "source": [
    "result.iloc[0]"
   ]
  },
  {
   "cell_type": "code",
   "execution_count": null,
   "id": "e4b1c98c",
   "metadata": {},
   "outputs": [],
   "source": []
  }
 ],
 "metadata": {
  "kernelspec": {
   "display_name": "Python 3 (ipykernel)",
   "language": "python",
   "name": "python3"
  },
  "language_info": {
   "codemirror_mode": {
    "name": "ipython",
    "version": 3
   },
   "file_extension": ".py",
   "mimetype": "text/x-python",
   "name": "python",
   "nbconvert_exporter": "python",
   "pygments_lexer": "ipython3",
   "version": "3.10.6"
  }
 },
 "nbformat": 4,
 "nbformat_minor": 5
}
