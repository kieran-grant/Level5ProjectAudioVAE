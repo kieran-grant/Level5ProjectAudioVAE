{
 "cells": [
  {
   "cell_type": "code",
   "execution_count": null,
   "metadata": {},
   "outputs": [],
   "source": [
    "import numpy as np\n",
    "import pandas as pd\n",
    "import seaborn as sns\n",
    "import matplotlib.pyplot as plt\n",
    "\n",
    "from src.plot_utils import dafx_from_name\n",
    "from sklearn.feature_selection import mutual_info_regression"
   ]
  },
  {
   "cell_type": "code",
   "execution_count": null,
   "metadata": {},
   "outputs": [],
   "source": [
    "sns.set(style=\"white\")"
   ]
  },
  {
   "cell_type": "code",
   "execution_count": 4,
   "metadata": {},
   "outputs": [
    {
     "data": {
      "text/plain": "11"
     },
     "execution_count": 4,
     "metadata": {},
     "output_type": "execute_result"
    }
   ],
   "source": [
    "dafx_from_name('mda MultiBand').get_num_params()\n"
   ]
  },
  {
   "cell_type": "code",
   "execution_count": 92,
   "metadata": {},
   "outputs": [],
   "source": [
    "DATA_DIR = \"/home/kieran/Level5ProjectAudioVAE/src/evaluation/data/param_extraction\"\n",
    "FIG_DIR = \"/home/kieran/Level5ProjectAudioVAE/src/evaluation/figures/param_mmi\"\n",
    "OUT_DATA_DIR = \"/home/kieran/Level5ProjectAudioVAE/src/evaluation/data/param_mmi\"\n",
    "\n",
    "DAFX = [\"overdrive\", \"combo\", \"delay\", \"ambience\", \"dynamics\", \"ringmod\"]\n",
    "\n",
    "DAFX_TO_MDA_NAME = {\n",
    "    \"delay\": \"mda Delay\",\n",
    "    \"combo\": \"mda Combo\",\n",
    "    \"overdrive\": \"mda Overdrive\",\n",
    "    \"ambience\": \"mda Ambience\",\n",
    "    \"dynamics\": \"mda Dynamics\",\n",
    "    \"ringmod\": \"mda RingMod\",\n",
    "}"
   ]
  },
  {
   "cell_type": "code",
   "execution_count": 93,
   "metadata": {},
   "outputs": [],
   "source": [
    "dataframes = {}\n",
    "\n",
    "param_sizes = {}\n",
    "\n",
    "for fx in DAFX:\n",
    "    emb = np.load(f\"{DATA_DIR}/{fx}_data.npy\")\n",
    "    params = np.load(f\"{DATA_DIR}/{fx}_settings.npy\")\n",
    "\n",
    "    idx_param_map = dafx_from_name(DAFX_TO_MDA_NAME[fx]).idx_to_param_map\n",
    "\n",
    "    param_sizes[fx] = len(idx_param_map)\n",
    "\n",
    "    mi_matrix = np.array([mutual_info_regression(emb, params[:, i]) for i in range(params.shape[1])])\n",
    "    df = pd.DataFrame(mi_matrix, index=[idx_param_map[i] for i in range(params.shape[1])])\n",
    "\n",
    "    dataframes[fx] = df\n",
    "\n",
    "    df.to_csv(f\"{OUT_DATA_DIR}/{fx}.csv\")"
   ]
  },
  {
   "cell_type": "code",
   "execution_count": 94,
   "metadata": {},
   "outputs": [],
   "source": [
    "sorted_fx = sorted(param_sizes, key=param_sizes.get)"
   ]
  },
  {
   "cell_type": "code",
   "execution_count": 208,
   "metadata": {},
   "outputs": [
    {
     "data": {
      "text/plain": [
       "['overdrive', 'ringmod', 'ambience', 'combo', 'delay', 'dynamics']"
      ]
     },
     "execution_count": 208,
     "metadata": {},
     "output_type": "execute_result"
    }
   ],
   "source": [
    "sorted_fx"
   ]
  },
  {
   "cell_type": "code",
   "execution_count": 295,
   "metadata": {},
   "outputs": [],
   "source": [
    "subframes = []\n",
    "vmax = 0\n",
    "\n",
    "for fx in sorted_fx:\n",
    "    df = dataframes[fx]\n",
    "    sub_df = df.max(axis='columns').sort_values(ascending=False).reset_index()\n",
    "\n",
    "    vm = sub_df[0].max()\n",
    "\n",
    "    vmax = max(vm, vmax)\n",
    "\n",
    "    # mean_data = ['mean', sub_df[0].mean()]\n",
    "    # sub_df = pd.concat([sub_df, pd.DataFrame([mean_data], columns=sub_df.columns)], ignore_index=True)\n",
    "\n",
    "    fx_name = DAFX_TO_MDA_NAME[fx].split()[-1]\n",
    "\n",
    "    y = [(fx_name, 'Param'), (fx_name, 'MMI')]\n",
    "    cols = pd.MultiIndex.from_tuples(y)\n",
    "    sub_df.columns = cols\n",
    "\n",
    "    subframes.append(sub_df)"
   ]
  },
  {
   "cell_type": "code",
   "execution_count": 296,
   "metadata": {},
   "outputs": [
    {
     "data": {
      "text/html": [
       "<div>\n",
       "<style scoped>\n",
       "    .dataframe tbody tr th:only-of-type {\n",
       "        vertical-align: middle;\n",
       "    }\n",
       "\n",
       "    .dataframe tbody tr th {\n",
       "        vertical-align: top;\n",
       "    }\n",
       "\n",
       "    .dataframe thead tr th {\n",
       "        text-align: left;\n",
       "    }\n",
       "</style>\n",
       "<table border=\"1\" class=\"dataframe\">\n",
       "  <thead>\n",
       "    <tr>\n",
       "      <th></th>\n",
       "      <th colspan=\"2\" halign=\"left\">Dynamics</th>\n",
       "    </tr>\n",
       "    <tr>\n",
       "      <th></th>\n",
       "      <th>Param</th>\n",
       "      <th>MMI</th>\n",
       "    </tr>\n",
       "  </thead>\n",
       "  <tbody>\n",
       "    <tr>\n",
       "      <th>0</th>\n",
       "      <td>gate_thr_db</td>\n",
       "      <td>0.272074</td>\n",
       "    </tr>\n",
       "    <tr>\n",
       "      <th>1</th>\n",
       "      <td>release_ms</td>\n",
       "      <td>0.120145</td>\n",
       "    </tr>\n",
       "    <tr>\n",
       "      <th>2</th>\n",
       "      <td>mix</td>\n",
       "      <td>0.084259</td>\n",
       "    </tr>\n",
       "    <tr>\n",
       "      <th>3</th>\n",
       "      <td>output_db</td>\n",
       "      <td>0.074751</td>\n",
       "    </tr>\n",
       "    <tr>\n",
       "      <th>4</th>\n",
       "      <td>gate_rel_ms</td>\n",
       "      <td>0.066040</td>\n",
       "    </tr>\n",
       "    <tr>\n",
       "      <th>5</th>\n",
       "      <td>thresh_db</td>\n",
       "      <td>0.030173</td>\n",
       "    </tr>\n",
       "    <tr>\n",
       "      <th>6</th>\n",
       "      <td>limiter_db</td>\n",
       "      <td>0.027245</td>\n",
       "    </tr>\n",
       "    <tr>\n",
       "      <th>7</th>\n",
       "      <td>ratio</td>\n",
       "      <td>0.024533</td>\n",
       "    </tr>\n",
       "    <tr>\n",
       "      <th>8</th>\n",
       "      <td>gate_att_s</td>\n",
       "      <td>0.020577</td>\n",
       "    </tr>\n",
       "    <tr>\n",
       "      <th>9</th>\n",
       "      <td>attack_s</td>\n",
       "      <td>0.017268</td>\n",
       "    </tr>\n",
       "  </tbody>\n",
       "</table>\n",
       "</div>"
      ],
      "text/plain": [
       "      Dynamics          \n",
       "         Param       MMI\n",
       "0  gate_thr_db  0.272074\n",
       "1   release_ms  0.120145\n",
       "2          mix  0.084259\n",
       "3    output_db  0.074751\n",
       "4  gate_rel_ms  0.066040\n",
       "5    thresh_db  0.030173\n",
       "6   limiter_db  0.027245\n",
       "7        ratio  0.024533\n",
       "8   gate_att_s  0.020577\n",
       "9     attack_s  0.017268"
      ]
     },
     "execution_count": 296,
     "metadata": {},
     "output_type": "execute_result"
    }
   ],
   "source": [
    "subframes[-1]"
   ]
  },
  {
   "cell_type": "code",
   "execution_count": 297,
   "metadata": {},
   "outputs": [],
   "source": [
    "full_df = pd.concat(subframes, axis=1)"
   ]
  },
  {
   "cell_type": "code",
   "execution_count": 298,
   "metadata": {},
   "outputs": [],
   "source": [
    "slice = [x for x in full_df.columns if x[1] == 'MMI']"
   ]
  },
  {
   "cell_type": "code",
   "execution_count": 299,
   "metadata": {},
   "outputs": [
    {
     "data": {
      "text/plain": [
       "[('Overdrive', 'MMI'),\n",
       " ('RingMod', 'MMI'),\n",
       " ('Ambience', 'MMI'),\n",
       " ('Combo', 'MMI'),\n",
       " ('Delay', 'MMI'),\n",
       " ('Dynamics', 'MMI')]"
      ]
     },
     "execution_count": 299,
     "metadata": {},
     "output_type": "execute_result"
    }
   ],
   "source": [
    "slice"
   ]
  },
  {
   "cell_type": "code",
   "execution_count": 300,
   "metadata": {},
   "outputs": [],
   "source": [
    "res = full_df.mean(numeric_only=True)"
   ]
  },
  {
   "cell_type": "code",
   "execution_count": 301,
   "metadata": {},
   "outputs": [],
   "source": [
    "mean_data = []\n",
    "for i in res:\n",
    "    mean_data.append('mean')\n",
    "    mean_data.append(i)"
   ]
  },
  {
   "cell_type": "code",
   "execution_count": 302,
   "metadata": {},
   "outputs": [],
   "source": [
    "full_df = pd.concat([full_df, pd.DataFrame([mean_data], columns=full_df.columns)], ignore_index=True)"
   ]
  },
  {
   "cell_type": "code",
   "execution_count": 303,
   "metadata": {},
   "outputs": [],
   "source": [
    "full_df.to_csv(f\"{OUT_DATA_DIR}_full.csv\")"
   ]
  },
  {
   "cell_type": "code",
   "execution_count": 328,
   "metadata": {},
   "outputs": [],
   "source": [
    "blue_cm = sns.light_palette(\"blue\", as_cmap=True)\n",
    "\n",
    "styler = full_df.style\\\n",
    "    .background_gradient(cmap=blue_cm, subset=slice, vmin=0, vmax=vmax)\\\n",
    "    .set_properties(**{'text-align': 'center',\n",
    "                       'font-family': \"Calibri\",})\\\n",
    "    .format(na_rep='', precision=2)\\\n",
    "    .hide(axis='index')\n",
    "\n",
    "# Define the CSS style rule for the table headers\n",
    "header_css = [{'selector': '.col_heading',\n",
    "               'props': [('font-family', 'Calibri')]}]\n",
    "\n",
    "# Define the CSS style rule for cell padding\n",
    "padding_css = [{'selector': 'td',\n",
    "                'props': [('padding-left', '15px'), ('padding-right', '15px')]}]\n",
    "\n",
    "# Combine the CSS style rules\n",
    "css = padding_css  + header_css\n",
    "\n",
    "# Apply the CSS style rule to the table\n",
    "html = styler.set_table_styles(css).hide(axis='index').to_html(border=True)"
   ]
  },
  {
   "cell_type": "code",
   "execution_count": 329,
   "metadata": {},
   "outputs": [],
   "source": [
    "# html = styler.to_html(index=False)"
   ]
  },
  {
   "cell_type": "code",
   "execution_count": 330,
   "metadata": {},
   "outputs": [],
   "source": [
    "with open(f'{OUT_DATA_DIR}/table.html', 'w') as f:\n",
    "    f.write(html)"
   ]
  },
  {
   "cell_type": "code",
   "execution_count": 331,
   "metadata": {},
   "outputs": [],
   "source": [
    "latex = styler.set_table_styles(css).hide(axis='index').to_latex()"
   ]
  },
  {
   "cell_type": "code",
   "execution_count": 332,
   "metadata": {},
   "outputs": [],
   "source": [
    "with open(f'{OUT_DATA_DIR}/table.tex', 'w') as f:\n",
    "    f.write(latex)"
   ]
  },
  {
   "cell_type": "code",
   "execution_count": 333,
   "metadata": {},
   "outputs": [],
   "source": [
    "md = styler.set_table_styles(css).hide(axis='index').to_excel(f\"{OUT_DATA_DIR}/full.xlsx\")"
   ]
  },
  {
   "cell_type": "code",
   "execution_count": 334,
   "metadata": {},
   "outputs": [
    {
     "data": {
      "text/plain": [
       "13"
      ]
     },
     "execution_count": 334,
     "metadata": {},
     "output_type": "execute_result"
    }
   ],
   "source": [
    "len(\"lrrrrrrrrrrrr\")"
   ]
  },
  {
   "cell_type": "code",
   "execution_count": 335,
   "metadata": {},
   "outputs": [
    {
     "name": "stdout",
     "output_type": "stream",
     "text": [
      "ccccccccccccc\n"
     ]
    }
   ],
   "source": [
    "print(\"c\"*13)"
   ]
  },
  {
   "cell_type": "code",
   "execution_count": null,
   "metadata": {},
   "outputs": [],
   "source": []
  }
 ],
 "metadata": {
  "kernelspec": {
   "display_name": "Python 3 (ipykernel)",
   "language": "python",
   "name": "python3"
  },
  "language_info": {
   "codemirror_mode": {
    "name": "ipython",
    "version": 3
   },
   "file_extension": ".py",
   "mimetype": "text/x-python",
   "name": "python",
   "nbconvert_exporter": "python",
   "pygments_lexer": "ipython3",
   "version": "3.10.6"
  }
 },
 "nbformat": 4,
 "nbformat_minor": 1
}
